{
 "cells": [
  {
   "cell_type": "markdown",
   "metadata": {},
   "source": [
    "# Error Analysis And Reduction Techniques"
   ]
  },
  {
   "cell_type": "markdown",
   "metadata": {},
   "source": [
    "problem statement :"
   ]
  },
  {
   "cell_type": "markdown",
   "metadata": {},
   "source": [
    "The data contains lists of octamers (8 amino acids) and a flag (-1 or 1) depending on whether HIV-1 protease will cleave in the central position (between amino acids 4 and 5). Build a machine learning model for the dataset, please refer document inside zip file for additional information https://drive.google.com/open?id=1Vm_zruT2djYympL0lG6_l57kAEhF5hxH"
   ]
  },
  {
   "cell_type": "code",
   "execution_count": null,
   "metadata": {},
   "outputs": [],
   "source": [
    "#importing necessary library\n",
    "#importing matplotlib \n",
    "import matplotlib.pyplot as plt\n",
    "#importing seaborn\n",
    "import seaborn as sea\n",
    "#importing pandas \n",
    "import pandas as pd\n",
    "#importing numpy\n",
    "import numpy as np\n",
    "\n",
    "#importing job-lib\n",
    "import joblib\n",
    "\n",
    "# importing my custom library file methods\n",
    "import sys\n",
    "sys.path.append('/home/admin3/ml_with_phoenix/error_analysis_and_reduction/data_set_and_lib/')\n",
    "from ipynb.fs.full.my_custom_library import *\n",
    "\n",
    "#importing scikit learn  library classes\n",
    "import sklearn.model_selection as model_selection\n",
    "from sklearn.preprocessing import OneHotEncoder\n",
    "from sklearn import metrics\n",
    "from sklearn.metrics import accuracy_score,confusion_matrix\n",
    "from sklearn.preprocessing import StandardScaler\n",
    "from sklearn.tree import DecisionTreeClassifier\n",
    "from sklearn.naive_bayes import GaussianNB\n",
    "from sklearn.neighbors import KNeighborsClassifier\n",
    "from sklearn.linear_model import LogisticRegression\n",
    "from sklearn.ensemble import RandomForestClassifier\n",
    "from sklearn.svm import SVC\n",
    "\n",
    "# reading dataset from different files & storing in pandas dataframe\n",
    "data_set = pd.read_table('/home/admin3/ml_with_phoenix/error_analysis_and_reduction/data_set_and_lib/746Data.txt', sep=',',names=['octamer','cleaves'])\n",
    "data_set = data_set.append(pd.read_table('/home/admin3/ml_with_phoenix/error_analysis_and_reduction/data_set_and_lib/1625Data.txt', sep=',',names=['octamer','cleaves']))\n",
    "data_set = data_set.append(pd.read_table('/home/admin3/ml_with_phoenix/error_analysis_and_reduction/data_set_and_lib/schillingData.txt', sep=',',names=['octamer','cleaves']))\n",
    "data_set = data_set.append(pd.read_table('/home/admin3/ml_with_phoenix/error_analysis_and_reduction/data_set_and_lib/impensData.txt', sep=',',names=['octamer','cleaves']))\n",
    "data_set.head()"
   ]
  },
  {
   "cell_type": "markdown",
   "metadata": {},
   "source": [
    "#### Splitting data set into train and test "
   ]
  },
  {
   "cell_type": "code",
   "execution_count": null,
   "metadata": {},
   "outputs": [],
   "source": [
    "#obtaining x and y values seperated after pre processing through my general method for this data set\n",
    "x_values,y_values,encoder = pre_processing_hiv(data_set,OneHotEncoder())"
   ]
  },
  {
   "cell_type": "code",
   "execution_count": null,
   "metadata": {},
   "outputs": [],
   "source": [
    "# obtaining x and y values after preprocessing the data\n",
    "x_values , y_values = pre_processing_ad(data_set)"
   ]
  },
  {
   "cell_type": "code",
   "execution_count": null,
   "metadata": {},
   "outputs": [],
   "source": [
    "sc_x = StandardScaler()\n",
    "x_values = sc_x.fit_transform(x_values)"
   ]
  },
  {
   "cell_type": "code",
   "execution_count": null,
   "metadata": {},
   "outputs": [],
   "source": [
    "#obtaining splitted training and test data set\n",
    "train_X, test_X, train_Y, test_Y = model_selection.train_test_split(x_values,y_values,test_size=0.2,random_state=0)"
   ]
  },
  {
   "cell_type": "markdown",
   "metadata": {},
   "source": [
    "#### Training model "
   ]
  },
  {
   "cell_type": "code",
   "execution_count": null,
   "metadata": {},
   "outputs": [],
   "source": [
    "# obtaining classifier object after fitting the train data into it from\n",
    "# a general method kept in my custom library file\n",
    "decision_classifier = fit_or_predict(train_X,train_Y,DecisionTreeClassifier(),1)\n",
    "naive_classifier = fit_or_predict(train_X,train_Y,GaussianNB(),1)\n",
    "knn_classifier = fit_or_predict(train_X,train_Y,KNeighborsClassifier(),1)\n",
    "logistic_classifier = fit_or_predict(train_X,train_Y,LogisticRegression(),1)\n",
    "svc_classifier = fit_or_predict(train_X,train_Y,SVC(),1)\n",
    "forest_classifier = fit_or_predict(train_X,train_Y,RandomForestClassifier(),1)"
   ]
  },
  {
   "cell_type": "markdown",
   "metadata": {},
   "source": [
    "## predicting outputs  "
   ]
  },
  {
   "cell_type": "markdown",
   "metadata": {},
   "source": [
    "###### Decisison Classifier"
   ]
  },
  {
   "cell_type": "code",
   "execution_count": null,
   "metadata": {},
   "outputs": [],
   "source": [
    "# predicting values of test data set and storing\n",
    "decision_test_prediction = fit_or_predict(test_X,test_Y,decision_classifier)\n",
    "\n",
    "# predicting values of train data set and storing\n",
    "decision_train_prediction = fit_or_predict(train_X,train_Y,decision_classifier)"
   ]
  },
  {
   "cell_type": "markdown",
   "metadata": {},
   "source": [
    "##### Naive Base Classifier "
   ]
  },
  {
   "cell_type": "code",
   "execution_count": null,
   "metadata": {},
   "outputs": [],
   "source": [
    "# predicting values of test data set and storing\n",
    "naive_test_prediction = fit_or_predict(test_X,test_Y,naive_classifier)\n",
    "\n",
    "# predicting values of train data set and storing\n",
    "naive_train_prediction = fit_or_predict(train_X,train_Y,naive_classifier)"
   ]
  },
  {
   "cell_type": "markdown",
   "metadata": {},
   "source": [
    "##### Knn - Classifier "
   ]
  },
  {
   "cell_type": "code",
   "execution_count": null,
   "metadata": {},
   "outputs": [],
   "source": [
    "# predicting values of test data set and storing\n",
    "knn_test_prediction = fit_or_predict(test_X,test_Y,knn_classifier)\n",
    "\n",
    "# predicting values of train data set and storing\n",
    "knn_train_prediction = fit_or_predict(train_X,train_Y,knn_classifier)"
   ]
  },
  {
   "cell_type": "markdown",
   "metadata": {},
   "source": [
    "##### Logistic Classifier "
   ]
  },
  {
   "cell_type": "code",
   "execution_count": null,
   "metadata": {},
   "outputs": [],
   "source": [
    "# predicting values of test data set and storing\n",
    "logistic_test_prediction = fit_or_predict(test_X,test_Y,logistic_classifier)\n",
    "\n",
    "# predicting values of train data set and storing\n",
    "logistic_train_prediction = fit_or_predict(train_X,train_Y,logistic_classifier)"
   ]
  },
  {
   "cell_type": "markdown",
   "metadata": {},
   "source": [
    "##### SVC Classifier"
   ]
  },
  {
   "cell_type": "code",
   "execution_count": null,
   "metadata": {},
   "outputs": [],
   "source": [
    "# predicting values of test data set and storing\n",
    "svc_test_prediction = fit_or_predict(test_X,test_Y,svc_classifier)\n",
    "\n",
    "# predicting values of train data set and storing\n",
    "svc_train_prediction = fit_or_predict(train_X,train_Y,svc_classifier)"
   ]
  },
  {
   "cell_type": "markdown",
   "metadata": {},
   "source": [
    "###### Random Forest Classifier"
   ]
  },
  {
   "cell_type": "code",
   "execution_count": null,
   "metadata": {},
   "outputs": [],
   "source": [
    "# predicting values of test data set and storing\n",
    "forest_test_prediction = fit_or_predict(test_X,test_Y,forest_classifier)\n",
    "\n",
    "# predicting values of train data set and storing\n",
    "forest_train_prediction = fit_or_predict(train_X,train_Y,forest_classifier)"
   ]
  },
  {
   "cell_type": "markdown",
   "metadata": {},
   "source": [
    "## Error Analysis And Reduction Techniques"
   ]
  },
  {
   "cell_type": "markdown",
   "metadata": {},
   "source": [
    "##### Confusion Matrix"
   ]
  },
  {
   "cell_type": "code",
   "execution_count": null,
   "metadata": {},
   "outputs": [],
   "source": [
    "print(\"Confusion Matrix Of Decision Tree Classifier\")\n",
    "print(confusion_matrix(decision_test_prediction,test_Y))\n",
    "print(\"- - - - - - - - - - - - - - - - - - - - - - - - - - - - - - - - - - - - - - - - - - - - - - - - - - - - -\")\n",
    "print(\"Confusion Matrix Of Naive Base Classifier\")\n",
    "print(confusion_matrix(naive_test_prediction,test_Y))\n",
    "print(\"- - - - - - - - - - - - - - - - - - - - - - - - - - - - - - - - - - - - - - - - - - - - - - - - - - - - -\")\n",
    "print(\"Confusion Matrix Of K-Nearest Neighbour Classifier\")\n",
    "print(confusion_matrix(knn_test_prediction,test_Y))\n",
    "print(\"- - - - - - - - - - - - - - - - - - - - - - - - - - - - - - - - - - - - - - - - - - - - - - - - - - - - -\")\n",
    "print(\"Confusion Matrix Of Support Vector Classifier\")\n",
    "print(confusion_matrix(svc_test_prediction,test_Y))\n",
    "print(\"- - - - - - - - - - - - - - - - - - - - - - - - - - - - - - - - - - - - - - - - - - - - - - - - - - - - -\")\n",
    "print(\"Confusion Matrix Of Logistic Regression Classifier\")\n",
    "print(confusion_matrix(logistic_test_prediction,test_Y))\n",
    "print(\"- - - - - - - - - - - - - - - - - - - - - - - - - - - - - - - - - - - - - - - - - - - - - - - - - - - - -\")\n",
    "print(\"Confusion Matrix Of Random Forest Classifier\")\n",
    "print(confusion_matrix(forest_test_prediction,test_Y))"
   ]
  },
  {
   "cell_type": "markdown",
   "metadata": {},
   "source": [
    "##### Accuracy Score "
   ]
  },
  {
   "cell_type": "code",
   "execution_count": null,
   "metadata": {},
   "outputs": [],
   "source": [
    "print(\"Accuracy Score Of Decision Tree Classifier\")\n",
    "print(accuracy_score(decision_test_prediction,test_Y))\n",
    "print(\"- - - - - - - - - - - - - - - - - - - - - - - - - - - - - - - - - - - - - - - - - - - - - - - - - - - - -\")\n",
    "print(\"Accuracy Score Of Naive Base Classifier\")\n",
    "print(accuracy_score(naive_test_prediction,test_Y))\n",
    "print(\"- - - - - - - - - - - - - - - - - - - - - - - - - - - - - - - - - - - - - - - - - - - - - - - - - - - - -\")\n",
    "print(\"Accuracy Score Of K-Nearest Neighbour Classifier\")\n",
    "print(accuracy_score(knn_test_prediction,test_Y))\n",
    "print(\"- - - - - - - - - - - - - - - - - - - - - - - - - - - - - - - - - - - - - - - - - - - - - - - - - - - - -\")\n",
    "print(\"Accuracy Score Of Support Vector Classifier\")\n",
    "print(accuracy_score(svc_test_prediction,test_Y))\n",
    "print(\"- - - - - - - - - - - - - - - - - - - - - - - - - - - - - - - - - - - - - - - - - - - - - - - - - - - - -\")\n",
    "print(\"Accuracy Score Of Logistic Regression Classifier\")\n",
    "print(accuracy_score(logistic_test_prediction,test_Y))\n",
    "print(\"- - - - - - - - - - - - - - - - - - - - - - - - - - - - - - - - - - - - - - - - - - - - - - - - - - - - -\")\n",
    "print(\"Accuracy Score Of Random Forest Classifier\")\n",
    "print(accuracy_score(forest_test_prediction,test_Y))"
   ]
  }
 ],
 "metadata": {
  "kernelspec": {
   "display_name": "Python 3",
   "language": "python",
   "name": "python3"
  },
  "language_info": {
   "codemirror_mode": {
    "name": "ipython",
    "version": 3
   },
   "file_extension": ".py",
   "mimetype": "text/x-python",
   "name": "python",
   "nbconvert_exporter": "python",
   "pygments_lexer": "ipython3",
   "version": "3.6.9"
  }
 },
 "nbformat": 4,
 "nbformat_minor": 2
}
