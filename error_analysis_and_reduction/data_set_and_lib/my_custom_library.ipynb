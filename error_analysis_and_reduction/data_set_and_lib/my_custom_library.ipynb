{
 "cells": [
  {
   "cell_type": "code",
   "execution_count": 1,
   "metadata": {},
   "outputs": [],
   "source": [
    "#importing necessary library\n",
    "#importing matplotlib \n",
    "import matplotlib.pyplot as plt\n",
    "#importing seaborn\n",
    "import seaborn as sea\n",
    "#importing pandas \n",
    "import pandas as pd\n",
    "#importing numpy\n",
    "import numpy as np\n",
    "\n",
    "#importing job-lib\n",
    "import joblib\n",
    "\n",
    "# importing Listed-Color-Map\n",
    "from matplotlib.colors import ListedColormap"
   ]
  },
  {
   "cell_type": "markdown",
   "metadata": {},
   "source": [
    "# File contains frequently used methods at one place"
   ]
  },
  {
   "cell_type": "markdown",
   "metadata": {},
   "source": [
    "#### preprocessing data methods"
   ]
  },
  {
   "cell_type": "code",
   "execution_count": 2,
   "metadata": {},
   "outputs": [],
   "source": [
    "# a general pre - processing method for click ad data set\n",
    "def pre_processing_ad(data):\n",
    "    data.drop(['User ID','Gender'],axis=1,inplace=True)\n",
    "    x_values = data[['Age','EstimatedSalary']].values\n",
    "    y_values = data[['Purchased']].values\n",
    "    return x_values,y_values"
   ]
  },
  {
   "cell_type": "code",
   "execution_count": 3,
   "metadata": {},
   "outputs": [],
   "source": [
    "# a general pre - processing method for hiv data set\n",
    "def pre_processing_hiv(data,encoder,flag=0):\n",
    "    x_values = np.ones((1,8))\n",
    "    for value in data['octamer']:\n",
    "        # creating numpy array of list of characters in each record & appending row at end\n",
    "        x_values = np.append(x_values, np.array(list(value)).reshape(1,8), axis=0)\n",
    "    if flag==0:\n",
    "        x_values = encoder.fit_transform(x_values)\n",
    "    else:\n",
    "        x_values = encoder.transform(x_values)\n",
    "    x_values = x_values[1:]\n",
    "    y_values = data['cleaves']\n",
    "    return x_values,y_values,encoder"
   ]
  },
  {
   "cell_type": "markdown",
   "metadata": {},
   "source": [
    "##### fir or predict method"
   ]
  },
  {
   "cell_type": "code",
   "execution_count": 4,
   "metadata": {},
   "outputs": [],
   "source": [
    "def fit_or_predict(x,y,classifier,task =0):\n",
    "    if task !=0:\n",
    "        classifier.fit(x,y)\n",
    "        return classifier\n",
    "    else:\n",
    "        return classifier.predict(x) "
   ]
  },
  {
   "cell_type": "markdown",
   "metadata": {},
   "source": [
    "#### plot colormap "
   ]
  },
  {
   "cell_type": "code",
   "execution_count": 5,
   "metadata": {},
   "outputs": [],
   "source": [
    "def plot_colormap(x_set, y_set, title,classifier,mymap):\n",
    "    \"\"\"Function plots colormap showing linear classification using decision boundary\"\"\"\n",
    "    # createting grid of continuous points in given range of values from two columns of feature\n",
    "    # meshgrid returns matrices for their cartesian product after giving set of arrays \n",
    "    x1_grids, x2_grids = np.meshgrid(np.arange(x_set[:,0].min(), x_set[:,0].max(), 0.001), \n",
    "                            np.arange(x_set[:,1].min(), x_set[:,1].max(), 0.001))\n",
    "    \n",
    "    # we are patitioning data-ponts using decision boundary so coloring area on either side\n",
    "    # created feature matrix for area/continuous values from grid points from 2 features \n",
    "    x_continuous_values = np.array([x1_grids.flatten(), x2_grids.flatten()]).T\n",
    "    \n",
    "    # plotting area i.e continuous points & classification using regressor prediction \n",
    "    plt.contourf(x1_grids, x2_grids, classifier.predict(x_continuous_values).reshape(x1_grids.shape),\n",
    "                alpha=0.6, cmap= mymap)\n",
    "    \n",
    "    # \n",
    "    plt.xlim(x1_grids.min(), x1_grids.max())\n",
    "    plt.ylim(x2_grids.min(), x2_grids.max())\n",
    "    \n",
    "    # plotting actual classified data-points/observations with thier repective category\n",
    "    for j in np.unique(y_set):\n",
    "        plt.scatter(x_set[np.where(y_set==j), 0],x_set[np.where(y_set==j),1],\n",
    "                   c=('red', 'blue')[j], label=j, s=6)\n",
    "    plt.xlabel('Age')\n",
    "    plt.ylabel('Estimated Salary')     # labeling axes\n",
    "    plt.legend()\n",
    "    plt.title(title)\n",
    "    plt.show()"
   ]
  },
  {
   "cell_type": "markdown",
   "metadata": {},
   "source": [
    "#### Plot CAP Curve "
   ]
  },
  {
   "cell_type": "code",
   "execution_count": 6,
   "metadata": {},
   "outputs": [],
   "source": [
    "def plot_cap(X_test,y_test,label,classifier):\n",
    "    total = len(y_test)\n",
    "    class_1_count = abs(np.sum(y_test))\n",
    "    class_0_count = abs(total - class_1_count)\n",
    "    plt.figure(figsize = (10, 8))\n",
    "\n",
    "    # Random Model\n",
    "    plt.plot([0, total], [0, class_1_count], c = 'r', linestyle = '--', label = 'Random Model')\n",
    "\n",
    "    # Perfect Model\n",
    "    plt.plot([0, class_1_count, total], \n",
    "             [0, class_1_count, class_1_count], \n",
    "             c = 'grey', \n",
    "             linewidth = 2, \n",
    "             label = 'Perfect Model')\n",
    "\n",
    "    # Trained Model\n",
    "    probs = classifier.predict_proba(X_test)\n",
    "    probs = probs[:, 1]\n",
    "    model_y = [y for _, y in sorted(zip(probs, y_test), reverse = True)]\n",
    "    y_values = np.append([0], np.cumsum(model_y))\n",
    "    x_values = np.arange(0, total + 1)\n",
    "    plt.plot(x_values, \n",
    "             y_values, \n",
    "             c = 'b', \n",
    "             label = label, \n",
    "             linewidth = 4)\n",
    "\n",
    "    # Plot information\n",
    "    plt.xlabel('Total observations', fontsize = 16)\n",
    "    plt.ylabel('Class 1 observations', fontsize = 16)\n",
    "    plt.title('Cumulative Accuracy Profile', fontsize = 16)\n",
    "    plt.legend(loc = 'lower right', fontsize = 16)"
   ]
  }
 ],
 "metadata": {
  "kernelspec": {
   "display_name": "Python 3",
   "language": "python",
   "name": "python3"
  },
  "language_info": {
   "codemirror_mode": {
    "name": "ipython",
    "version": 3
   },
   "file_extension": ".py",
   "mimetype": "text/x-python",
   "name": "python",
   "nbconvert_exporter": "python",
   "pygments_lexer": "ipython3",
   "version": "3.6.9"
  }
 },
 "nbformat": 4,
 "nbformat_minor": 2
}
