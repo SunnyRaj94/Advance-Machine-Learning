{
 "cells": [
  {
   "cell_type": "code",
   "execution_count": 1,
   "metadata": {},
   "outputs": [],
   "source": [
    "#importing necessary library\n",
    "#importing matplotlib \n",
    "import matplotlib.pyplot as plt\n",
    "#importing seaborn\n",
    "import seaborn as sea\n",
    "#importing pandas \n",
    "import pandas as pd\n",
    "#importing numpy\n",
    "import numpy as np\n",
    "\n",
    "# importing Listed-Color-Map\n",
    "from matplotlib.colors import ListedColormap"
   ]
  },
  {
   "cell_type": "markdown",
   "metadata": {},
   "source": [
    "#### Pre-Proceesing Of Wine Data Set>>>>"
   ]
  },
  {
   "cell_type": "code",
   "execution_count": 2,
   "metadata": {},
   "outputs": [],
   "source": [
    "def pre_processing(data_set):\n",
    "    x_values = data_set.drop(['Customer_Segment'],axis=1).values\n",
    "    y_values =data_set['Customer_Segment'].values\n",
    "    return x_values,y_values"
   ]
  },
  {
   "cell_type": "markdown",
   "metadata": {},
   "source": [
    "#### Fit and Predict all classification Models >>>>"
   ]
  },
  {
   "cell_type": "code",
   "execution_count": 3,
   "metadata": {},
   "outputs": [],
   "source": [
    "def fit_or_predict(x,y,classifier,task =0):\n",
    "    if task !=0:\n",
    "        classifier.fit(x,y)\n",
    "        return classifier\n",
    "    else:\n",
    "        return classifier.predict(x)"
   ]
  },
  {
   "cell_type": "markdown",
   "metadata": {},
   "source": [
    "#### Plotting colorMap for 3 classes"
   ]
  },
  {
   "cell_type": "code",
   "execution_count": 4,
   "metadata": {},
   "outputs": [],
   "source": [
    "def plot_colormap(X_set,y_set,title,classifier):\n",
    "    X1, X2 = np.meshgrid(np.arange(start = X_set[:, 0].min() - 1, stop = X_set[:, 0].max() + 1, step = 0.01),\n",
    "                         np.arange(start = X_set[:, 1].min() - 1, stop = X_set[:, 1].max() + 1, step = 0.01))\n",
    "    plt.contourf(X1, X2, classifier.predict(np.array([X1.ravel(), X2.ravel()]).T).reshape(X1.shape),\n",
    "                 alpha = 0.75, cmap = ListedColormap(('red', 'green', 'blue')))\n",
    "    plt.xlim(X1.min(), X1.max())\n",
    "    plt.ylim(X2.min(), X2.max())\n",
    "    for i, j in enumerate(np.unique(y_set)):\n",
    "        plt.scatter(X_set[y_set == j, 0], X_set[y_set == j, 1],\n",
    "                    c = ListedColormap(('red', 'green', 'blue'))(i), label = j)\n",
    "    plt.title(title)\n",
    "    plt.xlabel('PC1')\n",
    "    plt.ylabel('PC2')\n",
    "    plt.legend()\n",
    "    plt.show()"
   ]
  },
  {
   "cell_type": "markdown",
   "metadata": {},
   "source": [
    "#### Plotting colorMap for 2 classes"
   ]
  },
  {
   "cell_type": "code",
   "execution_count": 5,
   "metadata": {},
   "outputs": [],
   "source": [
    "def plot_colormap_two_classes(x_set, y_set, title,classifier,mymap):\n",
    "    \"\"\"Function plots colormap showing linear classification using decision boundary\"\"\"\n",
    "    # createting grid of continuous points in given range of values from two columns of feature\n",
    "    # meshgrid returns matrices for their cartesian product after giving set of arrays \n",
    "    x1_grids, x2_grids = np.meshgrid(np.arange(x_set[:,0].min(), x_set[:,0].max(), 0.001), \n",
    "                            np.arange(x_set[:,1].min(), x_set[:,1].max(), 0.001))\n",
    "    \n",
    "    # we are patitioning data-ponts using decision boundary so coloring area on either side\n",
    "    # created feature matrix for area/continuous values from grid points from 2 features \n",
    "    x_continuous_values = np.array([x1_grids.flatten(), x2_grids.flatten()]).T\n",
    "    \n",
    "    # plotting area i.e continuous points & classification using regressor prediction \n",
    "    plt.contourf(x1_grids, x2_grids, classifier.predict(x_continuous_values).reshape(x1_grids.shape),\n",
    "                alpha=0.6, cmap= mymap)\n",
    "    \n",
    "    # \n",
    "    plt.xlim(x1_grids.min(), x1_grids.max())\n",
    "    plt.ylim(x2_grids.min(), x2_grids.max())\n",
    "    \n",
    "    # plotting actual classified data-points/observations with thier repective category\n",
    "    for j in np.unique(y_set):\n",
    "        plt.scatter(x_set[np.where(y_set==j), 0],x_set[np.where(y_set==j),1],\n",
    "                   c=('red', 'blue')[j], label=j, s=6)\n",
    "    plt.xlabel('Age')\n",
    "    plt.ylabel('Estimated Salary')     # labeling axes\n",
    "    plt.legend()\n",
    "    plt.title(title)\n",
    "    plt.show()\n",
    "\n"
   ]
  },
  {
   "cell_type": "markdown",
   "metadata": {},
   "source": [
    "##### Pre Processing Ad Data Set "
   ]
  },
  {
   "cell_type": "code",
   "execution_count": 6,
   "metadata": {},
   "outputs": [],
   "source": [
    "def pre_processing_ad(data):\n",
    "    data.drop(['User ID','Gender'],axis=1,inplace=True)\n",
    "    x_values = data[['Age','EstimatedSalary']].values\n",
    "    y_values = data[['Purchased']].values\n",
    "    return x_values,y_values"
   ]
  }
 ],
 "metadata": {
  "kernelspec": {
   "display_name": "Python 3",
   "language": "python",
   "name": "python3"
  },
  "language_info": {
   "codemirror_mode": {
    "name": "ipython",
    "version": 3
   },
   "file_extension": ".py",
   "mimetype": "text/x-python",
   "name": "python",
   "nbconvert_exporter": "python",
   "pygments_lexer": "ipython3",
   "version": "3.6.9"
  }
 },
 "nbformat": 4,
 "nbformat_minor": 2
}
