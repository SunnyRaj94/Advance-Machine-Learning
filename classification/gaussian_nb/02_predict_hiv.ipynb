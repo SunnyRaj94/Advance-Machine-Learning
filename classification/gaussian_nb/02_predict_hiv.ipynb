{
 "cells": [
  {
   "cell_type": "markdown",
   "metadata": {},
   "source": [
    "# Decision Tree Classification"
   ]
  },
  {
   "cell_type": "markdown",
   "metadata": {},
   "source": [
    "problem statement :"
   ]
  },
  {
   "cell_type": "markdown",
   "metadata": {},
   "source": [
    "The data contains lists of octamers (8 amino acids) and a flag (-1 or 1) depending on whether HIV-1 protease will cleave in the central position (between amino acids 4 and 5). Build a machine learning  model for the dataset, please refer document inside zip file for additional information\n",
    "            https://drive.google.com/open?id=1Vm_zruT2djYympL0lG6_l57kAEhF5hxH"
   ]
  },
  {
   "cell_type": "code",
   "execution_count": 1,
   "metadata": {},
   "outputs": [
    {
     "data": {
      "text/html": [
       "<div>\n",
       "<style scoped>\n",
       "    .dataframe tbody tr th:only-of-type {\n",
       "        vertical-align: middle;\n",
       "    }\n",
       "\n",
       "    .dataframe tbody tr th {\n",
       "        vertical-align: top;\n",
       "    }\n",
       "\n",
       "    .dataframe thead th {\n",
       "        text-align: right;\n",
       "    }\n",
       "</style>\n",
       "<table border=\"1\" class=\"dataframe\">\n",
       "  <thead>\n",
       "    <tr style=\"text-align: right;\">\n",
       "      <th></th>\n",
       "      <th>octamer</th>\n",
       "      <th>cleaves</th>\n",
       "    </tr>\n",
       "  </thead>\n",
       "  <tbody>\n",
       "    <tr>\n",
       "      <th>0</th>\n",
       "      <td>AAAKFERQ</td>\n",
       "      <td>-1</td>\n",
       "    </tr>\n",
       "    <tr>\n",
       "      <th>1</th>\n",
       "      <td>AAAMKRHG</td>\n",
       "      <td>-1</td>\n",
       "    </tr>\n",
       "    <tr>\n",
       "      <th>2</th>\n",
       "      <td>AAAMSSAI</td>\n",
       "      <td>-1</td>\n",
       "    </tr>\n",
       "    <tr>\n",
       "      <th>3</th>\n",
       "      <td>AAKFERQH</td>\n",
       "      <td>-1</td>\n",
       "    </tr>\n",
       "    <tr>\n",
       "      <th>4</th>\n",
       "      <td>AAKFESNF</td>\n",
       "      <td>-1</td>\n",
       "    </tr>\n",
       "  </tbody>\n",
       "</table>\n",
       "</div>"
      ],
      "text/plain": [
       "    octamer  cleaves\n",
       "0  AAAKFERQ       -1\n",
       "1  AAAMKRHG       -1\n",
       "2  AAAMSSAI       -1\n",
       "3  AAKFERQH       -1\n",
       "4  AAKFESNF       -1"
      ]
     },
     "execution_count": 1,
     "metadata": {},
     "output_type": "execute_result"
    }
   ],
   "source": [
    "# importing necessary library\n",
    "#importing matplotlib \n",
    "import matplotlib.pyplot as plt\n",
    "#importing seaborn\n",
    "import seaborn as sea\n",
    "#importing pandas \n",
    "import pandas as pd\n",
    "#importing numpy\n",
    "import numpy as np\n",
    "\n",
    "#importing job-lib\n",
    "import joblib\n",
    "\n",
    "# importing my custom library file methods\n",
    "import sys\n",
    "sys.path.append('/home/admin3/ml_with_phoenix/classification/pkl_files_and_lib/')\n",
    "from ipynb.fs.full.my_custom_library import *\n",
    "\n",
    "#importing scikit learn  library classes\n",
    "import sklearn.model_selection as model_selection\n",
    "from sklearn import metrics\n",
    "from sklearn.metrics import accuracy_score,confusion_matrix\n",
    "from sklearn.preprocessing import OneHotEncoder\n",
    "from sklearn.preprocessing import LabelEncoder\n",
    "from sklearn.naive_bayes import GaussianNB \n",
    "# reading dataset from different files & storing in pandas dataframe\n",
    "data_set = pd.read_table('/home/admin3/ml_with_phoenix/classification/pkl_files_and_lib/746Data.txt', sep=',',names=['octamer','cleaves'])\n",
    "data_set = data_set.append(pd.read_table('/home/admin3/ml_with_phoenix/classification/pkl_files_and_lib/1625Data.txt', sep=',',names=['octamer','cleaves']))\n",
    "data_set = data_set.append(pd.read_table('/home/admin3/ml_with_phoenix/classification/pkl_files_and_lib/schillingData.txt', sep=',',names=['octamer','cleaves']))\n",
    "data_set = data_set.append(pd.read_table('/home/admin3/ml_with_phoenix/classification/pkl_files_and_lib/impensData.txt', sep=',',names=['octamer','cleaves']))\n",
    "data_set.head()"
   ]
  },
  {
   "cell_type": "markdown",
   "metadata": {},
   "source": [
    "#### data - pre processing "
   ]
  },
  {
   "cell_type": "code",
   "execution_count": 2,
   "metadata": {},
   "outputs": [
    {
     "name": "stdout",
     "output_type": "stream",
     "text": [
      "<class 'pandas.core.frame.DataFrame'>\n",
      "Int64Index: 6590 entries, 0 to 946\n",
      "Data columns (total 2 columns):\n",
      "octamer    6590 non-null object\n",
      "cleaves    6590 non-null int64\n",
      "dtypes: int64(1), object(1)\n",
      "memory usage: 154.5+ KB\n"
     ]
    }
   ],
   "source": [
    "data_set.info()"
   ]
  },
  {
   "cell_type": "code",
   "execution_count": 3,
   "metadata": {},
   "outputs": [],
   "source": [
    "#obtaining x and y values seperated after pre processing through my general method for this data set\n",
    "x_values,y_values,encoder = pre_processing_hiv(data_set,OneHotEncoder())\n",
    "\n",
    "# sparse matrix was obtained so converting it into dense matrix since gaussian nb classifier takes dense matrix\n",
    "x_values = x_values.todense()"
   ]
  },
  {
   "cell_type": "code",
   "execution_count": 4,
   "metadata": {},
   "outputs": [
    {
     "data": {
      "text/plain": [
       "matrix([[0., 1., 0., ..., 0., 0., 0.],\n",
       "        [0., 1., 0., ..., 0., 0., 0.],\n",
       "        [0., 1., 0., ..., 0., 0., 0.],\n",
       "        ...,\n",
       "        [0., 0., 0., ..., 0., 0., 0.],\n",
       "        [0., 0., 0., ..., 0., 0., 0.],\n",
       "        [0., 0., 0., ..., 0., 0., 0.]])"
      ]
     },
     "execution_count": 4,
     "metadata": {},
     "output_type": "execute_result"
    }
   ],
   "source": [
    "x_values"
   ]
  },
  {
   "cell_type": "markdown",
   "metadata": {},
   "source": [
    "#### Splitting Data sets"
   ]
  },
  {
   "cell_type": "code",
   "execution_count": 6,
   "metadata": {},
   "outputs": [],
   "source": [
    "#obtaining splitted training and test data set\n",
    "train_X, test_X, train_Y, test_Y = model_selection.train_test_split(x_values,y_values,test_size=0.2,random_state=0)"
   ]
  },
  {
   "cell_type": "markdown",
   "metadata": {},
   "source": [
    "#### Obtaining classifier "
   ]
  },
  {
   "cell_type": "code",
   "execution_count": 7,
   "metadata": {},
   "outputs": [],
   "source": [
    "# obtaining classifier object after fitting the train data into it from\n",
    "# a general method kept in my custom library file\n",
    "classifier = fit_or_predict(train_X,train_Y,GaussianNB(),1)"
   ]
  },
  {
   "cell_type": "markdown",
   "metadata": {},
   "source": [
    "#### dumping classifier object "
   ]
  },
  {
   "cell_type": "code",
   "execution_count": 8,
   "metadata": {},
   "outputs": [
    {
     "data": {
      "text/plain": [
       "['/home/admin3/ml_with_phoenix/classification/pkl_files_and_lib/gaussian_classifier_hiv.pkl']"
      ]
     },
     "execution_count": 8,
     "metadata": {},
     "output_type": "execute_result"
    }
   ],
   "source": [
    "#exporting classifier object after fitting data \n",
    "joblib.dump(classifier,'/home/admin3/ml_with_phoenix/classification/pkl_files_and_lib/gaussian_classifier_hiv.pkl')"
   ]
  },
  {
   "cell_type": "markdown",
   "metadata": {},
   "source": [
    "#### predicting outputs"
   ]
  },
  {
   "cell_type": "code",
   "execution_count": 9,
   "metadata": {},
   "outputs": [],
   "source": [
    "# predicting values of test data set and storing\n",
    "test_prediction = fit_or_predict(test_X,test_Y,classifier)\n",
    "\n",
    "# predicting values of train data set and storing\n",
    "train_prediction = fit_or_predict(train_X,train_Y,classifier)"
   ]
  },
  {
   "cell_type": "markdown",
   "metadata": {},
   "source": [
    "#### obtaining confusion matrix and calculating accuracy"
   ]
  },
  {
   "cell_type": "code",
   "execution_count": 10,
   "metadata": {},
   "outputs": [],
   "source": [
    "# checking confusion matrix  to see how many values are predicted correct and incorrect\n",
    "matrix_result = confusion_matrix(test_prediction,test_Y)"
   ]
  },
  {
   "cell_type": "code",
   "execution_count": 11,
   "metadata": {},
   "outputs": [
    {
     "data": {
      "text/plain": [
       "array([[842,  14],\n",
       "       [201, 261]])"
      ]
     },
     "execution_count": 11,
     "metadata": {},
     "output_type": "execute_result"
    }
   ],
   "source": [
    "# printing the confusion matrix obtained\n",
    "matrix_result"
   ]
  },
  {
   "cell_type": "code",
   "execution_count": 12,
   "metadata": {},
   "outputs": [
    {
     "name": "stdout",
     "output_type": "stream",
     "text": [
      "accuracy percentage  :  83.68740515933231\n"
     ]
    }
   ],
   "source": [
    "# calculating and printing accuracy score\n",
    "score = accuracy_score(test_Y,test_prediction)\n",
    "print(\"accuracy percentage  : \",score*100)"
   ]
  }
 ],
 "metadata": {
  "kernelspec": {
   "display_name": "Python 3",
   "language": "python",
   "name": "python3"
  },
  "language_info": {
   "codemirror_mode": {
    "name": "ipython",
    "version": 3
   },
   "file_extension": ".py",
   "mimetype": "text/x-python",
   "name": "python",
   "nbconvert_exporter": "python",
   "pygments_lexer": "ipython3",
   "version": "3.6.9"
  }
 },
 "nbformat": 4,
 "nbformat_minor": 2
}
