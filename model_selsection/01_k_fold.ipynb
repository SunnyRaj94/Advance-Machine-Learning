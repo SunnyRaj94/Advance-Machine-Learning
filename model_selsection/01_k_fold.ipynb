{
 "cells": [
  {
   "cell_type": "markdown",
   "metadata": {},
   "source": [
    "# K-Fold cross validation"
   ]
  },
  {
   "cell_type": "markdown",
   "metadata": {},
   "source": [
    "Problem Statement :"
   ]
  },
  {
   "cell_type": "markdown",
   "metadata": {},
   "source": [
    "Fit the model using SVM and apply k-fold cross validation technique to check accuracies for a dataset given in the url  \n",
    "https://drive.google.com/open?id=1I8KsCufEa47XvzrkxhntEWSy1Su0E0NY"
   ]
  },
  {
   "cell_type": "code",
   "execution_count": 1,
   "metadata": {},
   "outputs": [
    {
     "name": "stdout",
     "output_type": "stream",
     "text": [
      "<class 'pandas.core.frame.DataFrame'>\n",
      "RangeIndex: 400 entries, 0 to 399\n",
      "Data columns (total 5 columns):\n",
      "User ID            400 non-null int64\n",
      "Gender             400 non-null object\n",
      "Age                400 non-null int64\n",
      "EstimatedSalary    400 non-null int64\n",
      "Purchased          400 non-null int64\n",
      "dtypes: int64(4), object(1)\n",
      "memory usage: 15.8+ KB\n"
     ]
    }
   ],
   "source": [
    "#importing necessary library\n",
    "#importing matplotlib \n",
    "import matplotlib.pyplot as plt\n",
    "#importing seaborn\n",
    "import seaborn as sea\n",
    "#importing pandas \n",
    "import pandas as pd\n",
    "#importing numpy\n",
    "import numpy as np\n",
    "\n",
    "#importing job-lib\n",
    "import joblib\n",
    "\n",
    "# importing my custom library file methods\n",
    "import sys\n",
    "sys.path.append('/home/admin3/ml_with_phoenix/dimensionality_reduction_techniques/pkl_objects_and_lib')\n",
    "from ipynb.fs.full.library import *\n",
    "\n",
    "#importing scikit learn  library classes\n",
    "import sklearn.model_selection as model_selection\n",
    "from sklearn.model_selection import cross_val_score\n",
    "from sklearn import metrics\n",
    "from sklearn.metrics import confusion_matrix,accuracy_score\n",
    "from sklearn.preprocessing import StandardScaler\n",
    "from sklearn.svm import SVC\n",
    "\n",
    "import warnings\n",
    "warnings.filterwarnings('ignore')\n",
    "# loading csv data from the file given in the url\n",
    "data_set = pd.read_csv(\"/home/admin3/Documents/MyDoc/data_sets/Social_Network_Ads.csv\")\n",
    "#prinding info of data\n",
    "data_set.info()"
   ]
  },
  {
   "cell_type": "markdown",
   "metadata": {},
   "source": [
    "#### Data-pre processing "
   ]
  },
  {
   "cell_type": "code",
   "execution_count": 2,
   "metadata": {},
   "outputs": [],
   "source": [
    "#seperating x and y values\n",
    "x_values , y_values = pre_processing_ad(data_set)"
   ]
  },
  {
   "cell_type": "code",
   "execution_count": 3,
   "metadata": {},
   "outputs": [],
   "source": [
    "# Scaling all x-values\n",
    "sc_x = StandardScaler()\n",
    "x_values = sc_x.fit_transform(x_values)"
   ]
  },
  {
   "cell_type": "markdown",
   "metadata": {},
   "source": [
    "#### Splitting Train and test data set"
   ]
  },
  {
   "cell_type": "code",
   "execution_count": 4,
   "metadata": {},
   "outputs": [],
   "source": [
    "#obtaining splitted training and test data set\n",
    "train_X, test_X, train_Y, test_Y = model_selection.train_test_split(x_values,y_values,test_size=0.2,random_state=0)"
   ]
  },
  {
   "cell_type": "markdown",
   "metadata": {},
   "source": [
    "#### Building Classifier model "
   ]
  },
  {
   "cell_type": "code",
   "execution_count": 5,
   "metadata": {},
   "outputs": [],
   "source": [
    "classifier = fit_or_predict(train_X,train_Y,SVC(kernel='rbf'),1)"
   ]
  },
  {
   "cell_type": "markdown",
   "metadata": {},
   "source": [
    "#### Predicting output"
   ]
  },
  {
   "cell_type": "code",
   "execution_count": 6,
   "metadata": {},
   "outputs": [],
   "source": [
    "# predicting values of test data set and storing\n",
    "test_prediction = fit_or_predict(test_X,test_Y,classifier)\n",
    "\n",
    "# predicting values of train data set and storing\n",
    "train_prediction = fit_or_predict(train_X,train_Y,classifier)"
   ]
  },
  {
   "cell_type": "markdown",
   "metadata": {},
   "source": [
    "#### Checking Confusion Matrix and Accuracy Score"
   ]
  },
  {
   "cell_type": "code",
   "execution_count": 7,
   "metadata": {},
   "outputs": [
    {
     "data": {
      "text/plain": [
       "array([[55,  1],\n",
       "       [ 3, 21]])"
      ]
     },
     "execution_count": 7,
     "metadata": {},
     "output_type": "execute_result"
    }
   ],
   "source": [
    "# checking confusion matrix  to see how many values are predicted correct and incorrect\n",
    "confusion_matrix(test_prediction,test_Y)"
   ]
  },
  {
   "cell_type": "code",
   "execution_count": 8,
   "metadata": {},
   "outputs": [
    {
     "data": {
      "text/plain": [
       "array([[178,  10],\n",
       "       [ 21, 111]])"
      ]
     },
     "execution_count": 8,
     "metadata": {},
     "output_type": "execute_result"
    }
   ],
   "source": [
    "# checking confusion matrix  to see how many values are predicted correct and incorrect\n",
    "confusion_matrix(train_prediction,train_Y)"
   ]
  },
  {
   "cell_type": "code",
   "execution_count": 9,
   "metadata": {},
   "outputs": [
    {
     "name": "stdout",
     "output_type": "stream",
     "text": [
      "accuracy percentage  :  90.3125\n"
     ]
    }
   ],
   "source": [
    "# calculating and printing accuracy score\n",
    "score=accuracy_score(train_Y,train_prediction)\n",
    "print(\"accuracy percentage  : \",score*100)"
   ]
  },
  {
   "cell_type": "code",
   "execution_count": 10,
   "metadata": {},
   "outputs": [
    {
     "name": "stdout",
     "output_type": "stream",
     "text": [
      "accuracy percentage  :  95.0\n"
     ]
    }
   ],
   "source": [
    "# calculating and printing accuracy score\n",
    "score=accuracy_score(test_Y,test_prediction)\n",
    "print(\"accuracy percentage  : \",score*100)"
   ]
  },
  {
   "cell_type": "markdown",
   "metadata": {},
   "source": [
    "#### Applying K-Fold Cross Validation and comparing my model "
   ]
  },
  {
   "cell_type": "code",
   "execution_count": 11,
   "metadata": {},
   "outputs": [
    {
     "name": "stdout",
     "output_type": "stream",
     "text": [
      "accuray of 1   fols is  >    84.375\n",
      "accuray of 2   fols is  >    87.5\n",
      "accuray of 3   fols is  >    90.625\n",
      "accuray of 4   fols is  >    84.375\n",
      "accuray of 5   fols is  >    93.75\n",
      "accuray of 6   fols is  >    84.375\n",
      "accuray of 7   fols is  >    90.625\n",
      "accuray of 8   fols is  >    90.625\n",
      "accuray of 9   fols is  >    100.0\n",
      "accuray of 10   fols is  >    93.75\n"
     ]
    }
   ],
   "source": [
    "accuracies = cross_val_score(estimator = classifier, X = train_X, y = train_Y, cv = 10)\n",
    "fold = 1\n",
    "for accuracy in accuracies:\n",
    "    print(\"accuray of {}\".format(fold),\"  fols is  >   \",accuracy*100)\n",
    "    fold+=1"
   ]
  },
  {
   "cell_type": "code",
   "execution_count": 12,
   "metadata": {},
   "outputs": [
    {
     "name": "stdout",
     "output_type": "stream",
     "text": [
      "mean of all the above accuracies is :   0.9\n",
      "standard deviation of accuracies is :   0.0480071609241788\n"
     ]
    }
   ],
   "source": [
    "print(\"mean of all the above accuracies is :  \",accuracies.mean())\n",
    "print(\"standard deviation of accuracies is :  \",accuracies.std())"
   ]
  }
 ],
 "metadata": {
  "kernelspec": {
   "display_name": "Python 3",
   "language": "python",
   "name": "python3"
  },
  "language_info": {
   "codemirror_mode": {
    "name": "ipython",
    "version": 3
   },
   "file_extension": ".py",
   "mimetype": "text/x-python",
   "name": "python",
   "nbconvert_exporter": "python",
   "pygments_lexer": "ipython3",
   "version": "3.6.9"
  }
 },
 "nbformat": 4,
 "nbformat_minor": 2
}
