{
 "cells": [
  {
   "cell_type": "markdown",
   "metadata": {},
   "source": [
    "# K-Means Clustering"
   ]
  },
  {
   "cell_type": "markdown",
   "metadata": {},
   "source": [
    "problem statement :"
   ]
  },
  {
   "cell_type": "markdown",
   "metadata": {},
   "source": [
    "Apply K-Means clustering on below dataset\n",
    "https://archive.ics.uci.edu/ml/datasets/US+Census+Data+%281990%29\n"
   ]
  },
  {
   "cell_type": "code",
   "execution_count": 1,
   "metadata": {},
   "outputs": [
    {
     "name": "stdout",
     "output_type": "stream",
     "text": [
      "<class 'pandas.core.frame.DataFrame'>\n",
      "RangeIndex: 2458285 entries, 0 to 2458284\n",
      "Data columns (total 69 columns):\n",
      "caseid       int64\n",
      "dAge         int64\n",
      "dAncstry1    int64\n",
      "dAncstry2    int64\n",
      "iAvail       int64\n",
      "iCitizen     int64\n",
      "iClass       int64\n",
      "dDepart      int64\n",
      "iDisabl1     int64\n",
      "iDisabl2     int64\n",
      "iEnglish     int64\n",
      "iFeb55       int64\n",
      "iFertil      int64\n",
      "dHispanic    int64\n",
      "dHour89      int64\n",
      "dHours       int64\n",
      "iImmigr      int64\n",
      "dIncome1     int64\n",
      "dIncome2     int64\n",
      "dIncome3     int64\n",
      "dIncome4     int64\n",
      "dIncome5     int64\n",
      "dIncome6     int64\n",
      "dIncome7     int64\n",
      "dIncome8     int64\n",
      "dIndustry    int64\n",
      "iKorean      int64\n",
      "iLang1       int64\n",
      "iLooking     int64\n",
      "iMarital     int64\n",
      "iMay75880    int64\n",
      "iMeans       int64\n",
      "iMilitary    int64\n",
      "iMobility    int64\n",
      "iMobillim    int64\n",
      "dOccup       int64\n",
      "iOthrserv    int64\n",
      "iPerscare    int64\n",
      "dPOB         int64\n",
      "dPoverty     int64\n",
      "dPwgt1       int64\n",
      "iRagechld    int64\n",
      "dRearning    int64\n",
      "iRelat1      int64\n",
      "iRelat2      int64\n",
      "iRemplpar    int64\n",
      "iRiders      int64\n",
      "iRlabor      int64\n",
      "iRownchld    int64\n",
      "dRpincome    int64\n",
      "iRPOB        int64\n",
      "iRrelchld    int64\n",
      "iRspouse     int64\n",
      "iRvetserv    int64\n",
      "iSchool      int64\n",
      "iSept80      int64\n",
      "iSex         int64\n",
      "iSubfam1     int64\n",
      "iSubfam2     int64\n",
      "iTmpabsnt    int64\n",
      "dTravtime    int64\n",
      "iVietnam     int64\n",
      "dWeek89      int64\n",
      "iWork89      int64\n",
      "iWorklwk     int64\n",
      "iWWII        int64\n",
      "iYearsch     int64\n",
      "iYearwrk     int64\n",
      "dYrsserv     int64\n",
      "dtypes: int64(69)\n",
      "memory usage: 1.3 GB\n"
     ]
    }
   ],
   "source": [
    "#importing necessary library\n",
    "#importing matplotlib \n",
    "import matplotlib.pyplot as plt\n",
    "#importing seaborn\n",
    "import seaborn as sea\n",
    "#importing pandas \n",
    "import pandas as pd\n",
    "#importing numpy\n",
    "import numpy as np\n",
    "\n",
    "#importing job-lib\n",
    "import joblib\n",
    "\n",
    "# importing my custom library file methods\n",
    "import sys\n",
    "sys.path.append('/home/admin3/ml_with_phoenix/clustering/lib_and_dataset/')\n",
    "from ipynb.fs.full.my_custom_library import *\n",
    "\n",
    "#importing scikit learn  library classes\n",
    "import sklearn.model_selection as model_selection\n",
    "from sklearn.preprocessing import OneHotEncoder\n",
    "from sklearn.cluster import KMeans\n",
    "# loading csv data from the file given in the url\n",
    "data_set = pd.read_csv(\"/home/admin3/Documents/USCensus1990_data.csv\")\n",
    "#prinding info of data\n",
    "data_set.info()"
   ]
  },
  {
   "cell_type": "markdown",
   "metadata": {},
   "source": [
    "#### Data-Pre processing"
   ]
  },
  {
   "cell_type": "code",
   "execution_count": 2,
   "metadata": {},
   "outputs": [
    {
     "data": {
      "text/html": [
       "<div>\n",
       "<style scoped>\n",
       "    .dataframe tbody tr th:only-of-type {\n",
       "        vertical-align: middle;\n",
       "    }\n",
       "\n",
       "    .dataframe tbody tr th {\n",
       "        vertical-align: top;\n",
       "    }\n",
       "\n",
       "    .dataframe thead th {\n",
       "        text-align: right;\n",
       "    }\n",
       "</style>\n",
       "<table border=\"1\" class=\"dataframe\">\n",
       "  <thead>\n",
       "    <tr style=\"text-align: right;\">\n",
       "      <th></th>\n",
       "      <th>caseid</th>\n",
       "      <th>dAge</th>\n",
       "      <th>dAncstry1</th>\n",
       "      <th>dAncstry2</th>\n",
       "      <th>iAvail</th>\n",
       "      <th>iCitizen</th>\n",
       "      <th>iClass</th>\n",
       "      <th>dDepart</th>\n",
       "      <th>iDisabl1</th>\n",
       "      <th>iDisabl2</th>\n",
       "      <th>...</th>\n",
       "      <th>iTmpabsnt</th>\n",
       "      <th>dTravtime</th>\n",
       "      <th>iVietnam</th>\n",
       "      <th>dWeek89</th>\n",
       "      <th>iWork89</th>\n",
       "      <th>iWorklwk</th>\n",
       "      <th>iWWII</th>\n",
       "      <th>iYearsch</th>\n",
       "      <th>iYearwrk</th>\n",
       "      <th>dYrsserv</th>\n",
       "    </tr>\n",
       "  </thead>\n",
       "  <tbody>\n",
       "    <tr>\n",
       "      <th>0</th>\n",
       "      <td>10000</td>\n",
       "      <td>5</td>\n",
       "      <td>0</td>\n",
       "      <td>1</td>\n",
       "      <td>0</td>\n",
       "      <td>0</td>\n",
       "      <td>5</td>\n",
       "      <td>3</td>\n",
       "      <td>2</td>\n",
       "      <td>2</td>\n",
       "      <td>...</td>\n",
       "      <td>0</td>\n",
       "      <td>5</td>\n",
       "      <td>0</td>\n",
       "      <td>2</td>\n",
       "      <td>1</td>\n",
       "      <td>1</td>\n",
       "      <td>0</td>\n",
       "      <td>11</td>\n",
       "      <td>1</td>\n",
       "      <td>0</td>\n",
       "    </tr>\n",
       "    <tr>\n",
       "      <th>1</th>\n",
       "      <td>10001</td>\n",
       "      <td>6</td>\n",
       "      <td>1</td>\n",
       "      <td>1</td>\n",
       "      <td>0</td>\n",
       "      <td>0</td>\n",
       "      <td>7</td>\n",
       "      <td>5</td>\n",
       "      <td>2</td>\n",
       "      <td>2</td>\n",
       "      <td>...</td>\n",
       "      <td>0</td>\n",
       "      <td>1</td>\n",
       "      <td>0</td>\n",
       "      <td>2</td>\n",
       "      <td>1</td>\n",
       "      <td>1</td>\n",
       "      <td>0</td>\n",
       "      <td>5</td>\n",
       "      <td>1</td>\n",
       "      <td>0</td>\n",
       "    </tr>\n",
       "    <tr>\n",
       "      <th>2</th>\n",
       "      <td>10002</td>\n",
       "      <td>3</td>\n",
       "      <td>1</td>\n",
       "      <td>2</td>\n",
       "      <td>0</td>\n",
       "      <td>0</td>\n",
       "      <td>7</td>\n",
       "      <td>4</td>\n",
       "      <td>2</td>\n",
       "      <td>2</td>\n",
       "      <td>...</td>\n",
       "      <td>0</td>\n",
       "      <td>2</td>\n",
       "      <td>0</td>\n",
       "      <td>2</td>\n",
       "      <td>1</td>\n",
       "      <td>1</td>\n",
       "      <td>0</td>\n",
       "      <td>10</td>\n",
       "      <td>1</td>\n",
       "      <td>0</td>\n",
       "    </tr>\n",
       "    <tr>\n",
       "      <th>3</th>\n",
       "      <td>10003</td>\n",
       "      <td>4</td>\n",
       "      <td>1</td>\n",
       "      <td>2</td>\n",
       "      <td>0</td>\n",
       "      <td>0</td>\n",
       "      <td>1</td>\n",
       "      <td>3</td>\n",
       "      <td>2</td>\n",
       "      <td>2</td>\n",
       "      <td>...</td>\n",
       "      <td>0</td>\n",
       "      <td>1</td>\n",
       "      <td>0</td>\n",
       "      <td>1</td>\n",
       "      <td>1</td>\n",
       "      <td>1</td>\n",
       "      <td>0</td>\n",
       "      <td>10</td>\n",
       "      <td>1</td>\n",
       "      <td>0</td>\n",
       "    </tr>\n",
       "    <tr>\n",
       "      <th>4</th>\n",
       "      <td>10004</td>\n",
       "      <td>7</td>\n",
       "      <td>1</td>\n",
       "      <td>1</td>\n",
       "      <td>0</td>\n",
       "      <td>0</td>\n",
       "      <td>0</td>\n",
       "      <td>0</td>\n",
       "      <td>2</td>\n",
       "      <td>2</td>\n",
       "      <td>...</td>\n",
       "      <td>3</td>\n",
       "      <td>0</td>\n",
       "      <td>0</td>\n",
       "      <td>0</td>\n",
       "      <td>2</td>\n",
       "      <td>2</td>\n",
       "      <td>0</td>\n",
       "      <td>5</td>\n",
       "      <td>6</td>\n",
       "      <td>0</td>\n",
       "    </tr>\n",
       "  </tbody>\n",
       "</table>\n",
       "<p>5 rows × 69 columns</p>\n",
       "</div>"
      ],
      "text/plain": [
       "   caseid  dAge  dAncstry1  dAncstry2  iAvail  iCitizen  iClass  dDepart  \\\n",
       "0   10000     5          0          1       0         0       5        3   \n",
       "1   10001     6          1          1       0         0       7        5   \n",
       "2   10002     3          1          2       0         0       7        4   \n",
       "3   10003     4          1          2       0         0       1        3   \n",
       "4   10004     7          1          1       0         0       0        0   \n",
       "\n",
       "   iDisabl1  iDisabl2  ...  iTmpabsnt  dTravtime  iVietnam  dWeek89  iWork89  \\\n",
       "0         2         2  ...          0          5         0        2        1   \n",
       "1         2         2  ...          0          1         0        2        1   \n",
       "2         2         2  ...          0          2         0        2        1   \n",
       "3         2         2  ...          0          1         0        1        1   \n",
       "4         2         2  ...          3          0         0        0        2   \n",
       "\n",
       "   iWorklwk  iWWII  iYearsch  iYearwrk  dYrsserv  \n",
       "0         1      0        11         1         0  \n",
       "1         1      0         5         1         0  \n",
       "2         1      0        10         1         0  \n",
       "3         1      0        10         1         0  \n",
       "4         2      0         5         6         0  \n",
       "\n",
       "[5 rows x 69 columns]"
      ]
     },
     "execution_count": 2,
     "metadata": {},
     "output_type": "execute_result"
    }
   ],
   "source": [
    "data_set.head()"
   ]
  },
  {
   "cell_type": "code",
   "execution_count": 3,
   "metadata": {},
   "outputs": [
    {
     "data": {
      "text/plain": [
       "caseid       0\n",
       "dAge         0\n",
       "dAncstry1    0\n",
       "dAncstry2    0\n",
       "iAvail       0\n",
       "            ..\n",
       "iWorklwk     0\n",
       "iWWII        0\n",
       "iYearsch     0\n",
       "iYearwrk     0\n",
       "dYrsserv     0\n",
       "Length: 69, dtype: int64"
      ]
     },
     "execution_count": 3,
     "metadata": {},
     "output_type": "execute_result"
    }
   ],
   "source": [
    "data_set.isnull().sum()"
   ]
  },
  {
   "cell_type": "code",
   "execution_count": 4,
   "metadata": {},
   "outputs": [
    {
     "data": {
      "text/plain": [
       "caseid       0\n",
       "dAge         0\n",
       "dAncstry1    0\n",
       "dAncstry2    0\n",
       "iAvail       0\n",
       "            ..\n",
       "iWorklwk     0\n",
       "iWWII        0\n",
       "iYearsch     0\n",
       "iYearwrk     0\n",
       "dYrsserv     0\n",
       "Length: 69, dtype: int64"
      ]
     },
     "execution_count": 4,
     "metadata": {},
     "output_type": "execute_result"
    }
   ],
   "source": [
    "data_set.isna().sum()"
   ]
  },
  {
   "cell_type": "code",
   "execution_count": 5,
   "metadata": {},
   "outputs": [
    {
     "data": {
      "text/html": [
       "<div>\n",
       "<style scoped>\n",
       "    .dataframe tbody tr th:only-of-type {\n",
       "        vertical-align: middle;\n",
       "    }\n",
       "\n",
       "    .dataframe tbody tr th {\n",
       "        vertical-align: top;\n",
       "    }\n",
       "\n",
       "    .dataframe thead th {\n",
       "        text-align: right;\n",
       "    }\n",
       "</style>\n",
       "<table border=\"1\" class=\"dataframe\">\n",
       "  <thead>\n",
       "    <tr style=\"text-align: right;\">\n",
       "      <th></th>\n",
       "      <th>caseid</th>\n",
       "      <th>dAge</th>\n",
       "      <th>dAncstry1</th>\n",
       "      <th>dAncstry2</th>\n",
       "      <th>iAvail</th>\n",
       "      <th>iCitizen</th>\n",
       "      <th>iClass</th>\n",
       "      <th>dDepart</th>\n",
       "      <th>iDisabl1</th>\n",
       "      <th>iDisabl2</th>\n",
       "      <th>...</th>\n",
       "      <th>iTmpabsnt</th>\n",
       "      <th>dTravtime</th>\n",
       "      <th>iVietnam</th>\n",
       "      <th>dWeek89</th>\n",
       "      <th>iWork89</th>\n",
       "      <th>iWorklwk</th>\n",
       "      <th>iWWII</th>\n",
       "      <th>iYearsch</th>\n",
       "      <th>iYearwrk</th>\n",
       "      <th>dYrsserv</th>\n",
       "    </tr>\n",
       "  </thead>\n",
       "  <tbody>\n",
       "    <tr>\n",
       "      <th>count</th>\n",
       "      <td>2.458285e+06</td>\n",
       "      <td>2.458285e+06</td>\n",
       "      <td>2.458285e+06</td>\n",
       "      <td>2.458285e+06</td>\n",
       "      <td>2.458285e+06</td>\n",
       "      <td>2.458285e+06</td>\n",
       "      <td>2.458285e+06</td>\n",
       "      <td>2.458285e+06</td>\n",
       "      <td>2.458285e+06</td>\n",
       "      <td>2.458285e+06</td>\n",
       "      <td>...</td>\n",
       "      <td>2.458285e+06</td>\n",
       "      <td>2.458285e+06</td>\n",
       "      <td>2.458285e+06</td>\n",
       "      <td>2.458285e+06</td>\n",
       "      <td>2.458285e+06</td>\n",
       "      <td>2.458285e+06</td>\n",
       "      <td>2.458285e+06</td>\n",
       "      <td>2.458285e+06</td>\n",
       "      <td>2.458285e+06</td>\n",
       "      <td>2.458285e+06</td>\n",
       "    </tr>\n",
       "    <tr>\n",
       "      <th>mean</th>\n",
       "      <td>1.239142e+06</td>\n",
       "      <td>3.851643e+00</td>\n",
       "      <td>3.299006e+00</td>\n",
       "      <td>1.574252e+00</td>\n",
       "      <td>1.207488e-01</td>\n",
       "      <td>2.880964e-01</td>\n",
       "      <td>1.236083e+00</td>\n",
       "      <td>1.394556e+00</td>\n",
       "      <td>1.432078e+00</td>\n",
       "      <td>1.464860e+00</td>\n",
       "      <td>...</td>\n",
       "      <td>7.939100e-01</td>\n",
       "      <td>1.483541e+00</td>\n",
       "      <td>3.402331e-02</td>\n",
       "      <td>8.310208e-01</td>\n",
       "      <td>1.000718e+00</td>\n",
       "      <td>1.095047e+00</td>\n",
       "      <td>3.844509e-02</td>\n",
       "      <td>8.446546e+00</td>\n",
       "      <td>1.820591e+00</td>\n",
       "      <td>1.391918e-01</td>\n",
       "    </tr>\n",
       "    <tr>\n",
       "      <th>std</th>\n",
       "      <td>7.096459e+05</td>\n",
       "      <td>2.048492e+00</td>\n",
       "      <td>4.041179e+00</td>\n",
       "      <td>1.696150e+00</td>\n",
       "      <td>6.709576e-01</td>\n",
       "      <td>9.667118e-01</td>\n",
       "      <td>1.759400e+00</td>\n",
       "      <td>1.760919e+00</td>\n",
       "      <td>8.442641e-01</td>\n",
       "      <td>8.462626e-01</td>\n",
       "      <td>...</td>\n",
       "      <td>1.308956e+00</td>\n",
       "      <td>1.966293e+00</td>\n",
       "      <td>1.812891e-01</td>\n",
       "      <td>8.594720e-01</td>\n",
       "      <td>6.841873e-01</td>\n",
       "      <td>7.437089e-01</td>\n",
       "      <td>1.922683e-01</td>\n",
       "      <td>4.080579e+00</td>\n",
       "      <td>2.108889e+00</td>\n",
       "      <td>4.035386e-01</td>\n",
       "    </tr>\n",
       "    <tr>\n",
       "      <th>min</th>\n",
       "      <td>1.000000e+04</td>\n",
       "      <td>0.000000e+00</td>\n",
       "      <td>0.000000e+00</td>\n",
       "      <td>1.000000e+00</td>\n",
       "      <td>0.000000e+00</td>\n",
       "      <td>0.000000e+00</td>\n",
       "      <td>0.000000e+00</td>\n",
       "      <td>0.000000e+00</td>\n",
       "      <td>0.000000e+00</td>\n",
       "      <td>0.000000e+00</td>\n",
       "      <td>...</td>\n",
       "      <td>0.000000e+00</td>\n",
       "      <td>0.000000e+00</td>\n",
       "      <td>0.000000e+00</td>\n",
       "      <td>0.000000e+00</td>\n",
       "      <td>0.000000e+00</td>\n",
       "      <td>0.000000e+00</td>\n",
       "      <td>0.000000e+00</td>\n",
       "      <td>0.000000e+00</td>\n",
       "      <td>0.000000e+00</td>\n",
       "      <td>0.000000e+00</td>\n",
       "    </tr>\n",
       "    <tr>\n",
       "      <th>25%</th>\n",
       "      <td>6.245710e+05</td>\n",
       "      <td>2.000000e+00</td>\n",
       "      <td>1.000000e+00</td>\n",
       "      <td>1.000000e+00</td>\n",
       "      <td>0.000000e+00</td>\n",
       "      <td>0.000000e+00</td>\n",
       "      <td>0.000000e+00</td>\n",
       "      <td>0.000000e+00</td>\n",
       "      <td>1.000000e+00</td>\n",
       "      <td>1.000000e+00</td>\n",
       "      <td>...</td>\n",
       "      <td>0.000000e+00</td>\n",
       "      <td>0.000000e+00</td>\n",
       "      <td>0.000000e+00</td>\n",
       "      <td>0.000000e+00</td>\n",
       "      <td>1.000000e+00</td>\n",
       "      <td>1.000000e+00</td>\n",
       "      <td>0.000000e+00</td>\n",
       "      <td>5.000000e+00</td>\n",
       "      <td>1.000000e+00</td>\n",
       "      <td>0.000000e+00</td>\n",
       "    </tr>\n",
       "    <tr>\n",
       "      <th>50%</th>\n",
       "      <td>1.239142e+06</td>\n",
       "      <td>4.000000e+00</td>\n",
       "      <td>1.000000e+00</td>\n",
       "      <td>1.000000e+00</td>\n",
       "      <td>0.000000e+00</td>\n",
       "      <td>0.000000e+00</td>\n",
       "      <td>1.000000e+00</td>\n",
       "      <td>0.000000e+00</td>\n",
       "      <td>2.000000e+00</td>\n",
       "      <td>2.000000e+00</td>\n",
       "      <td>...</td>\n",
       "      <td>0.000000e+00</td>\n",
       "      <td>0.000000e+00</td>\n",
       "      <td>0.000000e+00</td>\n",
       "      <td>1.000000e+00</td>\n",
       "      <td>1.000000e+00</td>\n",
       "      <td>1.000000e+00</td>\n",
       "      <td>0.000000e+00</td>\n",
       "      <td>1.000000e+01</td>\n",
       "      <td>1.000000e+00</td>\n",
       "      <td>0.000000e+00</td>\n",
       "    </tr>\n",
       "    <tr>\n",
       "      <th>75%</th>\n",
       "      <td>1.853713e+06</td>\n",
       "      <td>6.000000e+00</td>\n",
       "      <td>3.000000e+00</td>\n",
       "      <td>2.000000e+00</td>\n",
       "      <td>0.000000e+00</td>\n",
       "      <td>0.000000e+00</td>\n",
       "      <td>1.000000e+00</td>\n",
       "      <td>3.000000e+00</td>\n",
       "      <td>2.000000e+00</td>\n",
       "      <td>2.000000e+00</td>\n",
       "      <td>...</td>\n",
       "      <td>3.000000e+00</td>\n",
       "      <td>3.000000e+00</td>\n",
       "      <td>0.000000e+00</td>\n",
       "      <td>2.000000e+00</td>\n",
       "      <td>1.000000e+00</td>\n",
       "      <td>2.000000e+00</td>\n",
       "      <td>0.000000e+00</td>\n",
       "      <td>1.100000e+01</td>\n",
       "      <td>2.000000e+00</td>\n",
       "      <td>0.000000e+00</td>\n",
       "    </tr>\n",
       "    <tr>\n",
       "      <th>max</th>\n",
       "      <td>2.468284e+06</td>\n",
       "      <td>7.000000e+00</td>\n",
       "      <td>1.100000e+01</td>\n",
       "      <td>1.200000e+01</td>\n",
       "      <td>4.000000e+00</td>\n",
       "      <td>4.000000e+00</td>\n",
       "      <td>9.000000e+00</td>\n",
       "      <td>5.000000e+00</td>\n",
       "      <td>2.000000e+00</td>\n",
       "      <td>2.000000e+00</td>\n",
       "      <td>...</td>\n",
       "      <td>3.000000e+00</td>\n",
       "      <td>6.000000e+00</td>\n",
       "      <td>1.000000e+00</td>\n",
       "      <td>2.000000e+00</td>\n",
       "      <td>2.000000e+00</td>\n",
       "      <td>2.000000e+00</td>\n",
       "      <td>1.000000e+00</td>\n",
       "      <td>1.700000e+01</td>\n",
       "      <td>7.000000e+00</td>\n",
       "      <td>2.000000e+00</td>\n",
       "    </tr>\n",
       "  </tbody>\n",
       "</table>\n",
       "<p>8 rows × 69 columns</p>\n",
       "</div>"
      ],
      "text/plain": [
       "             caseid          dAge     dAncstry1     dAncstry2        iAvail  \\\n",
       "count  2.458285e+06  2.458285e+06  2.458285e+06  2.458285e+06  2.458285e+06   \n",
       "mean   1.239142e+06  3.851643e+00  3.299006e+00  1.574252e+00  1.207488e-01   \n",
       "std    7.096459e+05  2.048492e+00  4.041179e+00  1.696150e+00  6.709576e-01   \n",
       "min    1.000000e+04  0.000000e+00  0.000000e+00  1.000000e+00  0.000000e+00   \n",
       "25%    6.245710e+05  2.000000e+00  1.000000e+00  1.000000e+00  0.000000e+00   \n",
       "50%    1.239142e+06  4.000000e+00  1.000000e+00  1.000000e+00  0.000000e+00   \n",
       "75%    1.853713e+06  6.000000e+00  3.000000e+00  2.000000e+00  0.000000e+00   \n",
       "max    2.468284e+06  7.000000e+00  1.100000e+01  1.200000e+01  4.000000e+00   \n",
       "\n",
       "           iCitizen        iClass       dDepart      iDisabl1      iDisabl2  \\\n",
       "count  2.458285e+06  2.458285e+06  2.458285e+06  2.458285e+06  2.458285e+06   \n",
       "mean   2.880964e-01  1.236083e+00  1.394556e+00  1.432078e+00  1.464860e+00   \n",
       "std    9.667118e-01  1.759400e+00  1.760919e+00  8.442641e-01  8.462626e-01   \n",
       "min    0.000000e+00  0.000000e+00  0.000000e+00  0.000000e+00  0.000000e+00   \n",
       "25%    0.000000e+00  0.000000e+00  0.000000e+00  1.000000e+00  1.000000e+00   \n",
       "50%    0.000000e+00  1.000000e+00  0.000000e+00  2.000000e+00  2.000000e+00   \n",
       "75%    0.000000e+00  1.000000e+00  3.000000e+00  2.000000e+00  2.000000e+00   \n",
       "max    4.000000e+00  9.000000e+00  5.000000e+00  2.000000e+00  2.000000e+00   \n",
       "\n",
       "       ...     iTmpabsnt     dTravtime      iVietnam       dWeek89  \\\n",
       "count  ...  2.458285e+06  2.458285e+06  2.458285e+06  2.458285e+06   \n",
       "mean   ...  7.939100e-01  1.483541e+00  3.402331e-02  8.310208e-01   \n",
       "std    ...  1.308956e+00  1.966293e+00  1.812891e-01  8.594720e-01   \n",
       "min    ...  0.000000e+00  0.000000e+00  0.000000e+00  0.000000e+00   \n",
       "25%    ...  0.000000e+00  0.000000e+00  0.000000e+00  0.000000e+00   \n",
       "50%    ...  0.000000e+00  0.000000e+00  0.000000e+00  1.000000e+00   \n",
       "75%    ...  3.000000e+00  3.000000e+00  0.000000e+00  2.000000e+00   \n",
       "max    ...  3.000000e+00  6.000000e+00  1.000000e+00  2.000000e+00   \n",
       "\n",
       "            iWork89      iWorklwk         iWWII      iYearsch      iYearwrk  \\\n",
       "count  2.458285e+06  2.458285e+06  2.458285e+06  2.458285e+06  2.458285e+06   \n",
       "mean   1.000718e+00  1.095047e+00  3.844509e-02  8.446546e+00  1.820591e+00   \n",
       "std    6.841873e-01  7.437089e-01  1.922683e-01  4.080579e+00  2.108889e+00   \n",
       "min    0.000000e+00  0.000000e+00  0.000000e+00  0.000000e+00  0.000000e+00   \n",
       "25%    1.000000e+00  1.000000e+00  0.000000e+00  5.000000e+00  1.000000e+00   \n",
       "50%    1.000000e+00  1.000000e+00  0.000000e+00  1.000000e+01  1.000000e+00   \n",
       "75%    1.000000e+00  2.000000e+00  0.000000e+00  1.100000e+01  2.000000e+00   \n",
       "max    2.000000e+00  2.000000e+00  1.000000e+00  1.700000e+01  7.000000e+00   \n",
       "\n",
       "           dYrsserv  \n",
       "count  2.458285e+06  \n",
       "mean   1.391918e-01  \n",
       "std    4.035386e-01  \n",
       "min    0.000000e+00  \n",
       "25%    0.000000e+00  \n",
       "50%    0.000000e+00  \n",
       "75%    0.000000e+00  \n",
       "max    2.000000e+00  \n",
       "\n",
       "[8 rows x 69 columns]"
      ]
     },
     "execution_count": 5,
     "metadata": {},
     "output_type": "execute_result"
    }
   ],
   "source": [
    "data_set.describe()"
   ]
  },
  {
   "cell_type": "code",
   "execution_count": 6,
   "metadata": {},
   "outputs": [
    {
     "data": {
      "text/plain": [
       "Index(['caseid', 'dAge', 'dAncstry1', 'dAncstry2', 'iAvail', 'iCitizen',\n",
       "       'iClass', 'dDepart', 'iDisabl1', 'iDisabl2', 'iEnglish', 'iFeb55',\n",
       "       'iFertil', 'dHispanic', 'dHour89', 'dHours', 'iImmigr', 'dIncome1',\n",
       "       'dIncome2', 'dIncome3', 'dIncome4', 'dIncome5', 'dIncome6', 'dIncome7',\n",
       "       'dIncome8', 'dIndustry', 'iKorean', 'iLang1', 'iLooking', 'iMarital',\n",
       "       'iMay75880', 'iMeans', 'iMilitary', 'iMobility', 'iMobillim', 'dOccup',\n",
       "       'iOthrserv', 'iPerscare', 'dPOB', 'dPoverty', 'dPwgt1', 'iRagechld',\n",
       "       'dRearning', 'iRelat1', 'iRelat2', 'iRemplpar', 'iRiders', 'iRlabor',\n",
       "       'iRownchld', 'dRpincome', 'iRPOB', 'iRrelchld', 'iRspouse', 'iRvetserv',\n",
       "       'iSchool', 'iSept80', 'iSex', 'iSubfam1', 'iSubfam2', 'iTmpabsnt',\n",
       "       'dTravtime', 'iVietnam', 'dWeek89', 'iWork89', 'iWorklwk', 'iWWII',\n",
       "       'iYearsch', 'iYearwrk', 'dYrsserv'],\n",
       "      dtype='object')"
      ]
     },
     "execution_count": 6,
     "metadata": {},
     "output_type": "execute_result"
    }
   ],
   "source": [
    "data_set.columns"
   ]
  },
  {
   "cell_type": "code",
   "execution_count": 7,
   "metadata": {},
   "outputs": [
    {
     "data": {
      "text/plain": [
       "count    2.458285e+06\n",
       "mean     1.239142e+06\n",
       "std      7.096459e+05\n",
       "min      1.000000e+04\n",
       "25%      6.245710e+05\n",
       "50%      1.239142e+06\n",
       "75%      1.853713e+06\n",
       "max      2.468284e+06\n",
       "Name: caseid, dtype: float64"
      ]
     },
     "execution_count": 7,
     "metadata": {},
     "output_type": "execute_result"
    }
   ],
   "source": [
    "data_set['caseid'].describe()"
   ]
  },
  {
   "cell_type": "markdown",
   "metadata": {},
   "source": [
    "#### Splitting train and test data set "
   ]
  },
  {
   "cell_type": "code",
   "execution_count": 8,
   "metadata": {},
   "outputs": [],
   "source": [
    "# taking only a part to data set around 25 % just to avoid heavy computing\n",
    "values = data_set[:50000].values"
   ]
  },
  {
   "cell_type": "code",
   "execution_count": 9,
   "metadata": {},
   "outputs": [],
   "source": [
    "train,test = model_selection.train_test_split(values,test_size=0.25,random_state=0)"
   ]
  },
  {
   "cell_type": "markdown",
   "metadata": {},
   "source": [
    "#### Training Model "
   ]
  },
  {
   "cell_type": "code",
   "execution_count": 10,
   "metadata": {},
   "outputs": [],
   "source": [
    "# finding optimal value of k in wich this dat should be clustered \n",
    "k=8\n",
    "wcss=[]\n",
    "for i in range(1,k):\n",
    "    cluster= train_or_predict(train,KMeans(n_clusters=i, random_state=0),1)\n",
    "    predicted_train = train_or_predict(train,cluster)\n",
    "    wcss.append(cluster.inertia_)"
   ]
  },
  {
   "cell_type": "code",
   "execution_count": 11,
   "metadata": {},
   "outputs": [
    {
     "data": {
      "text/plain": [
       "[<matplotlib.lines.Line2D at 0x7fc6dbb9d828>]"
      ]
     },
     "execution_count": 11,
     "metadata": {},
     "output_type": "execute_result"
    },
    {
     "data": {
      "image/png": "[encoded data removed]",
      "text/plain": [
       "<Figure size 432x288 with 1 Axes>"
      ]
     },
     "metadata": {
      "needs_background": "light"
     },
     "output_type": "display_data"
    }
   ],
   "source": [
    "# plotting wcss graph to see the valiation of wcss \n",
    "plt.plot(range(1,k),wcss)"
   ]
  },
  {
   "cell_type": "code",
   "execution_count": 12,
   "metadata": {},
   "outputs": [],
   "source": [
    "# after seeing above wcss curve we came to conclusion that \n",
    "# the optimal value of clusters should be 2 or 3 ,, i am taking 3 \n",
    "cluster= train_or_predict(train,KMeans(n_clusters=3, random_state=0),1)"
   ]
  },
  {
   "cell_type": "markdown",
   "metadata": {},
   "source": [
    "#### Determining output / dividing into classes.....(3 output classes)"
   ]
  },
  {
   "cell_type": "code",
   "execution_count": 13,
   "metadata": {},
   "outputs": [],
   "source": [
    "# clustering train set\n",
    "predicted_train = train_or_predict(train,cluster)"
   ]
  },
  {
   "cell_type": "code",
   "execution_count": 14,
   "metadata": {},
   "outputs": [],
   "source": [
    "# clustering test set\n",
    "predicted_test = train_or_predict(test,cluster)"
   ]
  },
  {
   "cell_type": "code",
   "execution_count": 15,
   "metadata": {},
   "outputs": [
    {
     "data": {
      "text/plain": [
       "array([1, 0, 2, ..., 2, 0, 1], dtype=int32)"
      ]
     },
     "execution_count": 15,
     "metadata": {},
     "output_type": "execute_result"
    }
   ],
   "source": [
    "# /looking at clustered output value\n",
    "predicted_test"
   ]
  },
  {
   "cell_type": "code",
   "execution_count": 16,
   "metadata": {},
   "outputs": [
    {
     "data": {
      "text/plain": [
       "array([2, 0, 0, ..., 2, 2, 1], dtype=int32)"
      ]
     },
     "execution_count": 16,
     "metadata": {},
     "output_type": "execute_result"
    }
   ],
   "source": [
    "# looking at clusterd output value\n",
    "predicted_train"
   ]
  },
  {
   "cell_type": "code",
   "execution_count": 17,
   "metadata": {},
   "outputs": [
    {
     "name": "stdout",
     "output_type": "stream",
     "text": [
      "elements in cluster  0   is  :  12496\n",
      "elements in cluster  1   is  :  12483\n",
      "elements in cluster  2   is  :  12521\n"
     ]
    }
   ],
   "source": [
    "# checking number of elemets in each cluster of train clusters\n",
    "cluster_elements(predicted_train)"
   ]
  },
  {
   "cell_type": "code",
   "execution_count": 18,
   "metadata": {},
   "outputs": [
    {
     "name": "stdout",
     "output_type": "stream",
     "text": [
      "elements in cluster  0   is  :  4170\n",
      "elements in cluster  1   is  :  4187\n",
      "elements in cluster  2   is  :  4143\n"
     ]
    }
   ],
   "source": [
    "# checking number of elemets in each cluster of test clusters\n",
    "cluster_elements(predicted_test)"
   ]
  }
 ],
 "metadata": {
  "kernelspec": {
   "display_name": "Python 3",
   "language": "python",
   "name": "python3"
  },
  "language_info": {
   "codemirror_mode": {
    "name": "ipython",
    "version": 3
   },
   "file_extension": ".py",
   "mimetype": "text/x-python",
   "name": "python",
   "nbconvert_exporter": "python",
   "pygments_lexer": "ipython3",
   "version": "3.6.9"
  }
 },
 "nbformat": 4,
 "nbformat_minor": 2
}
