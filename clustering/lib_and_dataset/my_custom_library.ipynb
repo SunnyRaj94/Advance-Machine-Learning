{
 "cells": [
  {
   "cell_type": "markdown",
   "metadata": {},
   "source": [
    "# My Coustom Library For Re used functions"
   ]
  },
  {
   "cell_type": "code",
   "execution_count": 1,
   "metadata": {},
   "outputs": [],
   "source": [
    "#importing necessary library\n",
    "#importing matplotlib \n",
    "import matplotlib.pyplot as plt\n",
    "#importing seaborn\n",
    "import seaborn as sea\n",
    "#importing pandas \n",
    "import pandas as pd\n",
    "#importing numpy\n",
    "import numpy as np"
   ]
  },
  {
   "cell_type": "markdown",
   "metadata": {},
   "source": [
    "##### Function for pre- processing of data of mall customer data"
   ]
  },
  {
   "cell_type": "code",
   "execution_count": 2,
   "metadata": {},
   "outputs": [],
   "source": [
    "def pre_processing_mall(data_set,encoder,flag=0):\n",
    "    data_set = data_set.drop(['CustomerID'],axis=1)\n",
    "    if(flag!=0):\n",
    "        encoder.fit(data_set['Genre'].values.reshape(-1,1))\n",
    "        transform=encoder.transform(data_set['Genre'].values.reshape(-1,1))\n",
    "    else :\n",
    "        transform=encoder.transform(data_set['Genre'])\n",
    "    transform = transform.todense()\n",
    "    values = data_set[['Age', 'Annual Income (k$)','Spending Score (1-100)']].values\n",
    "    values = np.append(values,transform,axis=1)\n",
    "    return values,encoder"
   ]
  },
  {
   "cell_type": "markdown",
   "metadata": {},
   "source": [
    "#### Function for training model or predicting outputs based on trained model"
   ]
  },
  {
   "cell_type": "code",
   "execution_count": 3,
   "metadata": {},
   "outputs": [],
   "source": [
    "def train_or_predict(data,cluster,task =0):\n",
    "    if task !=0:\n",
    "        cluster.fit(data)\n",
    "        return cluster\n",
    "    else:\n",
    "        return cluster.predict(data)"
   ]
  },
  {
   "cell_type": "markdown",
   "metadata": {},
   "source": [
    "#### prints the number of elements that a cluster contains "
   ]
  },
  {
   "cell_type": "code",
   "execution_count": 4,
   "metadata": {},
   "outputs": [],
   "source": [
    "def cluster_elements(data):\n",
    "    unique_elements, counts_elements = np.unique(data, return_counts=True)\n",
    "    for i in range(len(unique_elements)):\n",
    "        print(\"elements in cluster \", unique_elements[i],\"  is  : \",counts_elements[i])"
   ]
  }
 ],
 "metadata": {
  "kernelspec": {
   "display_name": "Python 3",
   "language": "python",
   "name": "python3"
  },
  "language_info": {
   "codemirror_mode": {
    "name": "ipython",
    "version": 3
   },
   "file_extension": ".py",
   "mimetype": "text/x-python",
   "name": "python",
   "nbconvert_exporter": "python",
   "pygments_lexer": "ipython3",
   "version": "3.6.9"
  }
 },
 "nbformat": 4,
 "nbformat_minor": 2
}
