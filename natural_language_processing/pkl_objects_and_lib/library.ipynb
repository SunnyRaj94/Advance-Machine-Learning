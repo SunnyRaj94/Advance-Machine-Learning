{
 "cells": [
  {
   "cell_type": "markdown",
   "metadata": {},
   "source": [
    "# Library for commonly used function"
   ]
  },
  {
   "cell_type": "code",
   "execution_count": 1,
   "metadata": {},
   "outputs": [],
   "source": [
    "#importing necessary library\n",
    "#importing matplotlib \n",
    "import matplotlib.pyplot as plt\n",
    "#importing seaborn\n",
    "import seaborn as sea\n",
    "#importing pandas \n",
    "import pandas as pd\n",
    "#importing numpy\n",
    "import numpy as np\n",
    "import re,nltk\n",
    "from nltk.corpus import stopwords\n",
    "from nltk.stem.porter import PorterStemmer"
   ]
  },
  {
   "cell_type": "code",
   "execution_count": 2,
   "metadata": {},
   "outputs": [],
   "source": [
    "# this methods removes stopwords and stemwords from the row\n",
    "def pre_processing_nltk(row,ps):\n",
    "    row = re.sub('[^a-zA-Z]',\" \",row).lower().split()\n",
    "    row = [ps.stem(word) for word in row if not word in set(stopwords.words('english'))]\n",
    "    row = \" \".join(row)\n",
    "    return row"
   ]
  },
  {
   "cell_type": "code",
   "execution_count": 3,
   "metadata": {},
   "outputs": [],
   "source": [
    "def fit_transform_nltk(data,cv,flag=True):\n",
    "    if flag!=True:\n",
    "        return cv,cv.fit_transform(data).toarray()\n",
    "    else:\n",
    "        return cv,cv.transform(data).toarray()"
   ]
  },
  {
   "cell_type": "code",
   "execution_count": 4,
   "metadata": {},
   "outputs": [],
   "source": [
    "def fit_or_predict(x,y,classifier,task =0):\n",
    "    if task !=0:\n",
    "        classifier.fit(x,y)\n",
    "        return classifier\n",
    "    else:\n",
    "        return classifier.predict(x)"
   ]
  }
 ],
 "metadata": {
  "kernelspec": {
   "display_name": "Python 3",
   "language": "python",
   "name": "python3"
  },
  "language_info": {
   "codemirror_mode": {
    "name": "ipython",
    "version": 3
   },
   "file_extension": ".py",
   "mimetype": "text/x-python",
   "name": "python",
   "nbconvert_exporter": "python",
   "pygments_lexer": "ipython3",
   "version": "3.6.9"
  }
 },
 "nbformat": 4,
 "nbformat_minor": 2
}
