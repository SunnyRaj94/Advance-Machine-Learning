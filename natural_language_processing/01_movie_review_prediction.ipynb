{
 "cells": [
  {
   "cell_type": "markdown",
   "metadata": {},
   "source": [
    "# Natural Language Processing    "
   ]
  },
  {
   "cell_type": "markdown",
   "metadata": {},
   "source": [
    "Problem Statement :"
   ]
  },
  {
   "cell_type": "markdown",
   "metadata": {},
   "source": [
    "Using NLP predict whether the review is positive or negative for a given dataset \n",
    "https://drive.google.com/open?id=1-TJWzdxapGhp2aElncd6RH6zOpSAf69X"
   ]
  },
  {
   "cell_type": "code",
   "execution_count": 1,
   "metadata": {},
   "outputs": [
    {
     "name": "stdout",
     "output_type": "stream",
     "text": [
      "<class 'pandas.core.frame.DataFrame'>\n",
      "RangeIndex: 1000 entries, 0 to 999\n",
      "Data columns (total 2 columns):\n",
      "Review    1000 non-null object\n",
      "Liked     1000 non-null int64\n",
      "dtypes: int64(1), object(1)\n",
      "memory usage: 15.8+ KB\n"
     ]
    }
   ],
   "source": [
    "#importing necessary library\n",
    "#importing matplotlib \n",
    "import matplotlib.pyplot as plt\n",
    "#importing seaborn\n",
    "import seaborn as sea\n",
    "#importing pandas \n",
    "import pandas as pd\n",
    "#importing numpy\n",
    "import numpy as np\n",
    "\n",
    "#importing job-lib\n",
    "import joblib\n",
    "import re,nltk\n",
    "from nltk.corpus import stopwords\n",
    "from nltk.stem.porter import PorterStemmer\n",
    "\n",
    "#importing scikit learn  library classes\n",
    "import sklearn.model_selection as model_selection\n",
    "from sklearn.model_selection import cross_val_score\n",
    "from sklearn import metrics\n",
    "from sklearn.metrics import accuracy_score,confusion_matrix\n",
    "from sklearn.linear_model import LogisticRegression\n",
    "from sklearn.feature_extraction.text import CountVectorizer\n",
    "\n",
    "import warnings\n",
    "warnings.filterwarnings('ignore')\n",
    "\n",
    "# loading csv data from the file given in the url\n",
    "data_set = pd.read_table(\"/home/admin3/Documents/MyDoc/data_sets/Restaurant_Reviews.tsv\")\n",
    "#prinding info of data\n",
    "data_set.info()"
   ]
  },
  {
   "cell_type": "markdown",
   "metadata": {},
   "source": [
    "#### Data Cleaning"
   ]
  },
  {
   "cell_type": "code",
   "execution_count": 2,
   "metadata": {},
   "outputs": [
    {
     "data": {
      "text/html": [
       "<div>\n",
       "<style scoped>\n",
       "    .dataframe tbody tr th:only-of-type {\n",
       "        vertical-align: middle;\n",
       "    }\n",
       "\n",
       "    .dataframe tbody tr th {\n",
       "        vertical-align: top;\n",
       "    }\n",
       "\n",
       "    .dataframe thead th {\n",
       "        text-align: right;\n",
       "    }\n",
       "</style>\n",
       "<table border=\"1\" class=\"dataframe\">\n",
       "  <thead>\n",
       "    <tr style=\"text-align: right;\">\n",
       "      <th></th>\n",
       "      <th>Review</th>\n",
       "      <th>Liked</th>\n",
       "    </tr>\n",
       "  </thead>\n",
       "  <tbody>\n",
       "    <tr>\n",
       "      <th>0</th>\n",
       "      <td>Wow... Loved this place.</td>\n",
       "      <td>1</td>\n",
       "    </tr>\n",
       "    <tr>\n",
       "      <th>1</th>\n",
       "      <td>Crust is not good.</td>\n",
       "      <td>0</td>\n",
       "    </tr>\n",
       "    <tr>\n",
       "      <th>2</th>\n",
       "      <td>Not tasty and the texture was just nasty.</td>\n",
       "      <td>0</td>\n",
       "    </tr>\n",
       "    <tr>\n",
       "      <th>3</th>\n",
       "      <td>Stopped by during the late May bank holiday of...</td>\n",
       "      <td>1</td>\n",
       "    </tr>\n",
       "    <tr>\n",
       "      <th>4</th>\n",
       "      <td>The selection on the menu was great and so wer...</td>\n",
       "      <td>1</td>\n",
       "    </tr>\n",
       "  </tbody>\n",
       "</table>\n",
       "</div>"
      ],
      "text/plain": [
       "                                              Review  Liked\n",
       "0                           Wow... Loved this place.      1\n",
       "1                                 Crust is not good.      0\n",
       "2          Not tasty and the texture was just nasty.      0\n",
       "3  Stopped by during the late May bank holiday of...      1\n",
       "4  The selection on the menu was great and so wer...      1"
      ]
     },
     "execution_count": 2,
     "metadata": {},
     "output_type": "execute_result"
    }
   ],
   "source": [
    "data_set.head()"
   ]
  },
  {
   "cell_type": "code",
   "execution_count": 3,
   "metadata": {},
   "outputs": [],
   "source": [
    "# this methods removes stopwords and stemwords from the row\n",
    "def pre_processing_nltk(row,ps):\n",
    "    row = re.sub('[^a-zA-Z]',\" \",row).lower().split()\n",
    "    row = [ps.stem(word) for word in row if not word in set(stopwords.words('english'))]\n",
    "    row = \" \".join(row)\n",
    "    return row"
   ]
  },
  {
   "cell_type": "code",
   "execution_count": 4,
   "metadata": {},
   "outputs": [],
   "source": [
    "def fit_transform_nltk(data,cv,flag=True):\n",
    "    if flag!=True:\n",
    "        return cv,cv.fit_transform(data).toarray()\n",
    "    else:\n",
    "        return cv,cv.transform(data).toarray()"
   ]
  },
  {
   "cell_type": "code",
   "execution_count": 5,
   "metadata": {},
   "outputs": [],
   "source": [
    "corps=[]\n",
    "ps = PorterStemmer()\n",
    "for index in range(len(data_set)):\n",
    "    corps.append(pre_processing_nltk(data_set['Review'][index],ps))"
   ]
  },
  {
   "cell_type": "code",
   "execution_count": 6,
   "metadata": {},
   "outputs": [
    {
     "data": {
      "text/plain": [
       "['/home/admin3/ml_with_phoenix/natural_language_processing/pkl_objects/porter_stemmer.pkl']"
      ]
     },
     "execution_count": 6,
     "metadata": {},
     "output_type": "execute_result"
    }
   ],
   "source": [
    "joblib.dump(ps,'/home/admin3/ml_with_phoenix/natural_language_processing/pkl_objects/porter_stemmer.pkl')"
   ]
  },
  {
   "cell_type": "code",
   "execution_count": 7,
   "metadata": {},
   "outputs": [
    {
     "data": {
      "text/plain": [
       "['wow love place',\n",
       " 'crust good',\n",
       " 'tasti textur nasti',\n",
       " 'stop late may bank holiday rick steve recommend love',\n",
       " 'select menu great price']"
      ]
     },
     "execution_count": 7,
     "metadata": {},
     "output_type": "execute_result"
    }
   ],
   "source": [
    "corps[:5]"
   ]
  },
  {
   "cell_type": "code",
   "execution_count": 8,
   "metadata": {},
   "outputs": [],
   "source": [
    "cv,x_values = fit_transform_nltk(corps,CountVectorizer(max_features=1000),False)"
   ]
  },
  {
   "cell_type": "code",
   "execution_count": 9,
   "metadata": {},
   "outputs": [
    {
     "data": {
      "text/plain": [
       "['/home/admin3/ml_with_phoenix/natural_language_processing/pkl_objects/count_vectorizer.pkl']"
      ]
     },
     "execution_count": 9,
     "metadata": {},
     "output_type": "execute_result"
    }
   ],
   "source": [
    "joblib.dump(cv,'/home/admin3/ml_with_phoenix/natural_language_processing/pkl_objects/count_vectorizer.pkl')"
   ]
  },
  {
   "cell_type": "code",
   "execution_count": 10,
   "metadata": {},
   "outputs": [],
   "source": [
    "y_values = data_set['Liked'].values"
   ]
  },
  {
   "cell_type": "markdown",
   "metadata": {},
   "source": [
    "#### Seperating train and test data"
   ]
  },
  {
   "cell_type": "code",
   "execution_count": 11,
   "metadata": {},
   "outputs": [],
   "source": [
    "#obtaining splitted training and test data set\n",
    "train_X, test_X, train_Y, test_Y = model_selection.train_test_split(x_values,y_values,test_size=0.3,random_state=0)"
   ]
  },
  {
   "cell_type": "code",
   "execution_count": 12,
   "metadata": {},
   "outputs": [
    {
     "name": "stdout",
     "output_type": "stream",
     "text": [
      "(300, 1000)\n",
      "(700, 1000)\n"
     ]
    }
   ],
   "source": [
    "print(test_X.shape)\n",
    "print(train_X.shape)"
   ]
  },
  {
   "cell_type": "markdown",
   "metadata": {},
   "source": [
    "#### Building classififaction Model "
   ]
  },
  {
   "cell_type": "code",
   "execution_count": 13,
   "metadata": {},
   "outputs": [],
   "source": [
    "def fit_or_predict(x,y,classifier,task =0):\n",
    "    if task !=0:\n",
    "        classifier.fit(x,y)\n",
    "        return classifier\n",
    "    else:\n",
    "        return classifier.predict(x)"
   ]
  },
  {
   "cell_type": "code",
   "execution_count": 14,
   "metadata": {},
   "outputs": [],
   "source": [
    "classifier = fit_or_predict(train_X,train_Y,LogisticRegression(),1)"
   ]
  },
  {
   "cell_type": "code",
   "execution_count": 15,
   "metadata": {},
   "outputs": [
    {
     "data": {
      "text/plain": [
       "['/home/admin3/ml_with_phoenix/natural_language_processing/pkl_objects/logistic_classifier.pkl']"
      ]
     },
     "execution_count": 15,
     "metadata": {},
     "output_type": "execute_result"
    }
   ],
   "source": [
    "joblib.dump(classifier,'/home/admin3/ml_with_phoenix/natural_language_processing/pkl_objects/logistic_classifier.pkl')"
   ]
  },
  {
   "cell_type": "markdown",
   "metadata": {},
   "source": [
    "#### Predicting values and Checking Accuracy "
   ]
  },
  {
   "cell_type": "code",
   "execution_count": 16,
   "metadata": {},
   "outputs": [],
   "source": [
    "# predicting values of test data set and storing\n",
    "test_prediction = fit_or_predict(test_X,test_Y,classifier)\n",
    "\n",
    "# predicting values of train data set and storing\n",
    "train_prediction = fit_or_predict(train_X,train_Y,classifier)"
   ]
  },
  {
   "cell_type": "code",
   "execution_count": 17,
   "metadata": {},
   "outputs": [
    {
     "data": {
      "text/plain": [
       "array([[116,  61],\n",
       "       [ 27,  96]])"
      ]
     },
     "execution_count": 17,
     "metadata": {},
     "output_type": "execute_result"
    }
   ],
   "source": [
    "# checking confusion matrix  to see how many values are predicted correct and incorrect\n",
    "confusion_matrix(test_prediction,test_Y)"
   ]
  },
  {
   "cell_type": "code",
   "execution_count": 18,
   "metadata": {},
   "outputs": [
    {
     "data": {
      "text/plain": [
       "array([[349,  25],\n",
       "       [  8, 318]])"
      ]
     },
     "execution_count": 18,
     "metadata": {},
     "output_type": "execute_result"
    }
   ],
   "source": [
    "# checking confusion matrix  to see how many values are predicted correct and incorrect\n",
    "confusion_matrix(train_prediction,train_Y)"
   ]
  },
  {
   "cell_type": "code",
   "execution_count": 19,
   "metadata": {},
   "outputs": [
    {
     "name": "stdout",
     "output_type": "stream",
     "text": [
      "accuracy percentage  :  95.28571428571428\n"
     ]
    }
   ],
   "source": [
    "# calculating and printing accuracy score\n",
    "score=accuracy_score(train_Y,train_prediction)\n",
    "print(\"accuracy percentage  : \",score*100)"
   ]
  },
  {
   "cell_type": "code",
   "execution_count": 20,
   "metadata": {},
   "outputs": [
    {
     "name": "stdout",
     "output_type": "stream",
     "text": [
      "accuracy percentage  :  70.66666666666667\n"
     ]
    }
   ],
   "source": [
    "score=accuracy_score(test_Y,test_prediction)\n",
    "print(\"accuracy percentage  : \",score*100)"
   ]
  },
  {
   "cell_type": "markdown",
   "metadata": {},
   "source": [
    "#### Using K-Fold cross validation to analys "
   ]
  },
  {
   "cell_type": "code",
   "execution_count": 21,
   "metadata": {},
   "outputs": [
    {
     "name": "stdout",
     "output_type": "stream",
     "text": [
      "accuray of 1   fols is  >    78.57142857142857\n",
      "accuray of 2   fols is  >    75.71428571428571\n",
      "accuray of 3   fols is  >    80.0\n",
      "accuray of 4   fols is  >    71.42857142857143\n",
      "accuray of 5   fols is  >    80.0\n",
      "accuray of 6   fols is  >    75.71428571428571\n",
      "accuray of 7   fols is  >    74.28571428571429\n",
      "accuray of 8   fols is  >    68.57142857142857\n",
      "accuray of 9   fols is  >    82.85714285714286\n",
      "accuray of 10   fols is  >    78.57142857142857\n"
     ]
    }
   ],
   "source": [
    "accuracies = cross_val_score(estimator = classifier, X = train_X, y = train_Y, cv = 10)\n",
    "fold = 1\n",
    "for accuracy in accuracies:\n",
    "    print(\"accuray of {}\".format(fold),\"  fols is  >   \",accuracy*100)\n",
    "    fold+=1"
   ]
  },
  {
   "cell_type": "code",
   "execution_count": 22,
   "metadata": {},
   "outputs": [
    {
     "name": "stdout",
     "output_type": "stream",
     "text": [
      "mean of all the above accuracies is :   0.7657142857142857\n",
      "standard deviation of accuracies is :   0.041007714555449506\n"
     ]
    }
   ],
   "source": [
    "print(\"mean of all the above accuracies is :  \",accuracies.mean())\n",
    "print(\"standard deviation of accuracies is :  \",accuracies.std())"
   ]
  },
  {
   "cell_type": "code",
   "execution_count": 23,
   "metadata": {},
   "outputs": [
    {
     "name": "stdout",
     "output_type": "stream",
     "text": [
      "accuray of 1   fols is  >    80.0\n",
      "accuray of 2   fols is  >    70.0\n",
      "accuray of 3   fols is  >    80.0\n",
      "accuray of 4   fols is  >    66.66666666666666\n",
      "accuray of 5   fols is  >    76.66666666666667\n",
      "accuray of 6   fols is  >    70.0\n",
      "accuray of 7   fols is  >    80.0\n",
      "accuray of 8   fols is  >    56.666666666666664\n",
      "accuray of 9   fols is  >    63.33333333333333\n",
      "accuray of 10   fols is  >    63.33333333333333\n"
     ]
    }
   ],
   "source": [
    "accuracies = cross_val_score(estimator = classifier, X = test_X, y = test_Y, cv = 10)\n",
    "fold = 1\n",
    "for accuracy in accuracies:\n",
    "    print(\"accuray of {}\".format(fold),\"  fols is  >   \",accuracy*100)\n",
    "    fold+=1"
   ]
  }
 ],
 "metadata": {
  "kernelspec": {
   "display_name": "Python 3",
   "language": "python",
   "name": "python3"
  },
  "language_info": {
   "codemirror_mode": {
    "name": "ipython",
    "version": 3
   },
   "file_extension": ".py",
   "mimetype": "text/x-python",
   "name": "python",
   "nbconvert_exporter": "python",
   "pygments_lexer": "ipython3",
   "version": "3.6.9"
  }
 },
 "nbformat": 4,
 "nbformat_minor": 2
}
