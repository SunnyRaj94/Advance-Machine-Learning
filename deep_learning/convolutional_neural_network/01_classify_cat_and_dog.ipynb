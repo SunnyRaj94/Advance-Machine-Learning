{
 "cells": [
  {
   "cell_type": "markdown",
   "metadata": {},
   "source": [
    "# Convolutional Neural Network"
   ]
  },
  {
   "cell_type": "markdown",
   "metadata": {},
   "source": [
    "problem statement :"
   ]
  },
  {
   "cell_type": "markdown",
   "metadata": {},
   "source": [
    "Apply CNN to predict cat and dog from given image dataset\n",
    "        https://drive.google.com/open?id=1uWqERYD4wO4s-9U8-j6nKc_dxNtDbMT6"
   ]
  },
  {
   "cell_type": "code",
   "execution_count": 1,
   "metadata": {},
   "outputs": [
    {
     "name": "stderr",
     "output_type": "stream",
     "text": [
      "Using TensorFlow backend.\n",
      "/home/admin3/.local/lib/python3.6/site-packages/tensorflow/python/framework/dtypes.py:516: FutureWarning: Passing (type, 1) or '1type' as a synonym of type is deprecated; in a future version of numpy, it will be understood as (type, (1,)) / '(1,)type'.\n",
      "  _np_qint8 = np.dtype([(\"qint8\", np.int8, 1)])\n",
      "/home/admin3/.local/lib/python3.6/site-packages/tensorflow/python/framework/dtypes.py:517: FutureWarning: Passing (type, 1) or '1type' as a synonym of type is deprecated; in a future version of numpy, it will be understood as (type, (1,)) / '(1,)type'.\n",
      "  _np_quint8 = np.dtype([(\"quint8\", np.uint8, 1)])\n",
      "/home/admin3/.local/lib/python3.6/site-packages/tensorflow/python/framework/dtypes.py:518: FutureWarning: Passing (type, 1) or '1type' as a synonym of type is deprecated; in a future version of numpy, it will be understood as (type, (1,)) / '(1,)type'.\n",
      "  _np_qint16 = np.dtype([(\"qint16\", np.int16, 1)])\n",
      "/home/admin3/.local/lib/python3.6/site-packages/tensorflow/python/framework/dtypes.py:519: FutureWarning: Passing (type, 1) or '1type' as a synonym of type is deprecated; in a future version of numpy, it will be understood as (type, (1,)) / '(1,)type'.\n",
      "  _np_quint16 = np.dtype([(\"quint16\", np.uint16, 1)])\n",
      "/home/admin3/.local/lib/python3.6/site-packages/tensorflow/python/framework/dtypes.py:520: FutureWarning: Passing (type, 1) or '1type' as a synonym of type is deprecated; in a future version of numpy, it will be understood as (type, (1,)) / '(1,)type'.\n",
      "  _np_qint32 = np.dtype([(\"qint32\", np.int32, 1)])\n",
      "/home/admin3/.local/lib/python3.6/site-packages/tensorflow/python/framework/dtypes.py:525: FutureWarning: Passing (type, 1) or '1type' as a synonym of type is deprecated; in a future version of numpy, it will be understood as (type, (1,)) / '(1,)type'.\n",
      "  np_resource = np.dtype([(\"resource\", np.ubyte, 1)])\n"
     ]
    }
   ],
   "source": [
    "#importing necessary library\n",
    "#importing matplotlib \n",
    "import matplotlib.pyplot as plt\n",
    "#importing seaborn\n",
    "import seaborn as sea\n",
    "#importing pandas \n",
    "import pandas as pd\n",
    "#importing numpy\n",
    "import numpy as np\n",
    "\n",
    "# importing my custom library file methods\n",
    "import sys\n",
    "sys.path.append('/home/admin3/ml_with_phoenix/deep_learning/lib_and_pkl_files/')\n",
    "from ipynb.fs.full.library import *\n",
    "\n",
    "#importing job-lib\n",
    "import joblib\n",
    "\n",
    "import keras\n",
    "from keras.models import Sequential\n",
    "from keras.layers import Dense,Convolution2D,MaxPooling2D,Flatten\n",
    "\n",
    "import warnings\n",
    "warnings.filterwarnings('ignore')\n"
   ]
  },
  {
   "cell_type": "markdown",
   "metadata": {},
   "source": [
    "#### Making CNN model "
   ]
  },
  {
   "cell_type": "code",
   "execution_count": 2,
   "metadata": {},
   "outputs": [
    {
     "name": "stdout",
     "output_type": "stream",
     "text": [
      "WARNING:tensorflow:From /home/admin3/.local/lib/python3.6/site-packages/keras/backend/tensorflow_backend.py:4070: The name tf.nn.max_pool is deprecated. Please use tf.nn.max_pool2d instead.\n",
      "\n"
     ]
    }
   ],
   "source": [
    "classifier = Sequential()\n",
    "classifier.add(Convolution2D(32,3,3,input_shape=(64,64,3),activation = 'relu'))\n",
    "classifier.add(MaxPooling2D(pool_size=(2,2)))\n",
    "classifier.add(Convolution2D(32,3,3,input_shape=(64,64,3),activation = 'relu'))\n",
    "classifier.add(Flatten())"
   ]
  },
  {
   "cell_type": "code",
   "execution_count": 3,
   "metadata": {},
   "outputs": [
    {
     "name": "stdout",
     "output_type": "stream",
     "text": [
      "WARNING:tensorflow:From /home/admin3/.local/lib/python3.6/site-packages/tensorflow/python/ops/nn_impl.py:180: add_dispatch_support.<locals>.wrapper (from tensorflow.python.ops.array_ops) is deprecated and will be removed in a future version.\n",
      "Instructions for updating:\n",
      "Use tf.where in 2.0, which has the same broadcast rule as np.where\n"
     ]
    }
   ],
   "source": [
    "classifier.add(Dense(output_dim=128,activation='relu'))\n",
    "classifier.add(Dense(output_dim=1,activation='sigmoid'))\n",
    "classifier.compile(optimizer='adam',loss='binary_crossentropy',metrics=['accuracy'])"
   ]
  },
  {
   "cell_type": "markdown",
   "metadata": {},
   "source": [
    "#### Generating computational array from Image data from directory"
   ]
  },
  {
   "cell_type": "code",
   "execution_count": 4,
   "metadata": {},
   "outputs": [],
   "source": [
    "from keras_preprocessing.image import ImageDataGenerator\n",
    "train_data_generator = ImageDataGenerator(rescale=1./255,shear_range=0.2,zoom_range=0.2,horizontal_flip=True)\n",
    "test_data_generator =ImageDataGenerator(rescale=1./255)"
   ]
  },
  {
   "cell_type": "markdown",
   "metadata": {},
   "source": [
    "#### obtaining Train and Test set "
   ]
  },
  {
   "cell_type": "code",
   "execution_count": 5,
   "metadata": {},
   "outputs": [
    {
     "name": "stdout",
     "output_type": "stream",
     "text": [
      "Found 8000 images belonging to 2 classes.\n",
      "Found 2000 images belonging to 2 classes.\n"
     ]
    }
   ],
   "source": [
    "training_set=train_data_generator.flow_from_directory(\"/home/admin3/Documents/MyDoc/data_sets/Convolutional_Neural_Networks/dataset/training_set/\",\n",
    "                                                     target_size=(64,64),batch_size=32,class_mode='binary')\n",
    "test_set=test_data_generator.flow_from_directory(\"/home/admin3/Documents/MyDoc/data_sets/Convolutional_Neural_Networks/dataset/test_set/\",\n",
    "                                                     target_size=(64,64),batch_size=32,class_mode='binary')"
   ]
  },
  {
   "cell_type": "markdown",
   "metadata": {},
   "source": [
    "#### Fitting the model "
   ]
  },
  {
   "cell_type": "code",
   "execution_count": 6,
   "metadata": {
    "scrolled": false
   },
   "outputs": [
    {
     "name": "stdout",
     "output_type": "stream",
     "text": [
      "WARNING:tensorflow:From /home/admin3/.local/lib/python3.6/site-packages/keras/backend/tensorflow_backend.py:422: The name tf.global_variables is deprecated. Please use tf.compat.v1.global_variables instead.\n",
      "\n",
      "Epoch 1/100\n",
      "31/31 [==============================] - 13s 430ms/step - loss: 0.7830 - accuracy: 0.5192 - val_loss: 0.6871 - val_accuracy: 0.5162\n",
      "Epoch 2/100\n",
      "31/31 [==============================] - 13s 419ms/step - loss: 0.6824 - accuracy: 0.5897 - val_loss: 0.6890 - val_accuracy: 0.5465\n",
      "Epoch 3/100\n",
      "31/31 [==============================] - 13s 421ms/step - loss: 0.6850 - accuracy: 0.5736 - val_loss: 0.6617 - val_accuracy: 0.5869\n",
      "Epoch 4/100\n",
      "31/31 [==============================] - 13s 421ms/step - loss: 0.6766 - accuracy: 0.6058 - val_loss: 0.6402 - val_accuracy: 0.5707\n",
      "Epoch 5/100\n",
      "31/31 [==============================] - 13s 416ms/step - loss: 0.6962 - accuracy: 0.5081 - val_loss: 0.6437 - val_accuracy: 0.5644\n",
      "Epoch 6/100\n",
      "31/31 [==============================] - 13s 412ms/step - loss: 0.6790 - accuracy: 0.5917 - val_loss: 0.6929 - val_accuracy: 0.5755\n",
      "Epoch 7/100\n",
      "31/31 [==============================] - 13s 412ms/step - loss: 0.6862 - accuracy: 0.5383 - val_loss: 0.6772 - val_accuracy: 0.5742\n",
      "Epoch 8/100\n",
      "31/31 [==============================] - 13s 408ms/step - loss: 0.6797 - accuracy: 0.5897 - val_loss: 0.6542 - val_accuracy: 0.6111\n",
      "Epoch 9/100\n",
      "31/31 [==============================] - 13s 423ms/step - loss: 0.6505 - accuracy: 0.6482 - val_loss: 0.5718 - val_accuracy: 0.6178\n",
      "Epoch 10/100\n",
      "31/31 [==============================] - 13s 420ms/step - loss: 0.6504 - accuracy: 0.5988 - val_loss: 0.5537 - val_accuracy: 0.6541\n",
      "Epoch 11/100\n",
      "31/31 [==============================] - 13s 413ms/step - loss: 0.6617 - accuracy: 0.6129 - val_loss: 0.6638 - val_accuracy: 0.5968\n",
      "Epoch 12/100\n",
      "31/31 [==============================] - 13s 414ms/step - loss: 0.6570 - accuracy: 0.6069 - val_loss: 0.6468 - val_accuracy: 0.6254\n",
      "Epoch 13/100\n",
      "31/31 [==============================] - 13s 421ms/step - loss: 0.6569 - accuracy: 0.6190 - val_loss: 0.7315 - val_accuracy: 0.6195\n",
      "Epoch 14/100\n",
      "31/31 [==============================] - 13s 415ms/step - loss: 0.6648 - accuracy: 0.6280 - val_loss: 0.6266 - val_accuracy: 0.6221\n",
      "Epoch 15/100\n",
      "31/31 [==============================] - 13s 416ms/step - loss: 0.6564 - accuracy: 0.5948 - val_loss: 0.6515 - val_accuracy: 0.5644\n",
      "Epoch 16/100\n",
      "31/31 [==============================] - 13s 414ms/step - loss: 0.6564 - accuracy: 0.6099 - val_loss: 0.6219 - val_accuracy: 0.6518\n",
      "Epoch 17/100\n",
      "31/31 [==============================] - 13s 422ms/step - loss: 0.6442 - accuracy: 0.6421 - val_loss: 0.6031 - val_accuracy: 0.6588\n",
      "Epoch 18/100\n",
      "31/31 [==============================] - 13s 417ms/step - loss: 0.6479 - accuracy: 0.6421 - val_loss: 0.6084 - val_accuracy: 0.6295\n",
      "Epoch 19/100\n",
      "31/31 [==============================] - 13s 417ms/step - loss: 0.6487 - accuracy: 0.6240 - val_loss: 0.6119 - val_accuracy: 0.6666\n",
      "Epoch 20/100\n",
      "31/31 [==============================] - 13s 426ms/step - loss: 0.6199 - accuracy: 0.6502 - val_loss: 0.6626 - val_accuracy: 0.6075\n",
      "Epoch 21/100\n",
      "31/31 [==============================] - 13s 415ms/step - loss: 0.6518 - accuracy: 0.6321 - val_loss: 0.5883 - val_accuracy: 0.6011\n",
      "Epoch 22/100\n",
      "31/31 [==============================] - 13s 417ms/step - loss: 0.6241 - accuracy: 0.6724 - val_loss: 0.6581 - val_accuracy: 0.6778\n",
      "Epoch 23/100\n",
      "31/31 [==============================] - 13s 417ms/step - loss: 0.6141 - accuracy: 0.6583 - val_loss: 0.5087 - val_accuracy: 0.6705\n",
      "Epoch 24/100\n",
      "31/31 [==============================] - 13s 415ms/step - loss: 0.6278 - accuracy: 0.6532 - val_loss: 0.7525 - val_accuracy: 0.5989\n",
      "Epoch 25/100\n",
      "31/31 [==============================] - 13s 423ms/step - loss: 0.5993 - accuracy: 0.6835 - val_loss: 0.6801 - val_accuracy: 0.6643\n",
      "Epoch 26/100\n",
      "31/31 [==============================] - 13s 417ms/step - loss: 0.6317 - accuracy: 0.6391 - val_loss: 0.6026 - val_accuracy: 0.6782\n",
      "Epoch 27/100\n",
      "31/31 [==============================] - 13s 421ms/step - loss: 0.6108 - accuracy: 0.6603 - val_loss: 0.5972 - val_accuracy: 0.6784\n",
      "Epoch 28/100\n",
      "31/31 [==============================] - 13s 415ms/step - loss: 0.6069 - accuracy: 0.6653 - val_loss: 0.6397 - val_accuracy: 0.6753\n",
      "Epoch 29/100\n",
      "31/31 [==============================] - 13s 418ms/step - loss: 0.6156 - accuracy: 0.6704 - val_loss: 0.4701 - val_accuracy: 0.6820\n",
      "Epoch 30/100\n",
      "31/31 [==============================] - 13s 416ms/step - loss: 0.6093 - accuracy: 0.6643 - val_loss: 0.5839 - val_accuracy: 0.6589\n",
      "Epoch 31/100\n",
      "31/31 [==============================] - 13s 414ms/step - loss: 0.6060 - accuracy: 0.6694 - val_loss: 0.5593 - val_accuracy: 0.6920\n",
      "Epoch 32/100\n",
      "31/31 [==============================] - 13s 412ms/step - loss: 0.5918 - accuracy: 0.7026 - val_loss: 0.4844 - val_accuracy: 0.6781\n",
      "Epoch 33/100\n",
      "31/31 [==============================] - 13s 435ms/step - loss: 0.6086 - accuracy: 0.6845 - val_loss: 0.6132 - val_accuracy: 0.6370\n",
      "Epoch 34/100\n",
      "31/31 [==============================] - 14s 440ms/step - loss: 0.6045 - accuracy: 0.6472 - val_loss: 0.5335 - val_accuracy: 0.7005\n",
      "Epoch 35/100\n",
      "31/31 [==============================] - 14s 441ms/step - loss: 0.5980 - accuracy: 0.6815 - val_loss: 0.5168 - val_accuracy: 0.7041\n",
      "Epoch 36/100\n",
      "31/31 [==============================] - 13s 434ms/step - loss: 0.5817 - accuracy: 0.6986 - val_loss: 0.5463 - val_accuracy: 0.6985\n",
      "Epoch 37/100\n",
      "31/31 [==============================] - 13s 424ms/step - loss: 0.5465 - accuracy: 0.7399 - val_loss: 0.7105 - val_accuracy: 0.7002\n",
      "Epoch 38/100\n",
      "31/31 [==============================] - 13s 425ms/step - loss: 0.5734 - accuracy: 0.7046 - val_loss: 0.5348 - val_accuracy: 0.7021\n",
      "Epoch 39/100\n",
      "31/31 [==============================] - 13s 425ms/step - loss: 0.5860 - accuracy: 0.6744 - val_loss: 0.5922 - val_accuracy: 0.7082\n",
      "Epoch 40/100\n",
      "31/31 [==============================] - 13s 423ms/step - loss: 0.5533 - accuracy: 0.7298 - val_loss: 0.6196 - val_accuracy: 0.7073\n",
      "Epoch 41/100\n",
      "31/31 [==============================] - 13s 423ms/step - loss: 0.5313 - accuracy: 0.7339 - val_loss: 0.3975 - val_accuracy: 0.7213\n",
      "Epoch 42/100\n",
      "31/31 [==============================] - 13s 426ms/step - loss: 0.5698 - accuracy: 0.7077 - val_loss: 0.5072 - val_accuracy: 0.7085\n",
      "Epoch 43/100\n",
      "31/31 [==============================] - 13s 417ms/step - loss: 0.5635 - accuracy: 0.7077 - val_loss: 0.4259 - val_accuracy: 0.7193\n",
      "Epoch 44/100\n",
      "31/31 [==============================] - 13s 419ms/step - loss: 0.5354 - accuracy: 0.7389 - val_loss: 0.3599 - val_accuracy: 0.7151\n",
      "Epoch 45/100\n",
      "31/31 [==============================] - 13s 433ms/step - loss: 0.5593 - accuracy: 0.7097 - val_loss: 0.5310 - val_accuracy: 0.7316\n",
      "Epoch 46/100\n",
      "31/31 [==============================] - 13s 417ms/step - loss: 0.5574 - accuracy: 0.7198 - val_loss: 0.5719 - val_accuracy: 0.7302\n",
      "Epoch 47/100\n",
      "31/31 [==============================] - 13s 423ms/step - loss: 0.5420 - accuracy: 0.7198 - val_loss: 0.5833 - val_accuracy: 0.7269\n",
      "Epoch 48/100\n",
      "31/31 [==============================] - 13s 418ms/step - loss: 0.5092 - accuracy: 0.7510 - val_loss: 0.5899 - val_accuracy: 0.7122\n",
      "Epoch 49/100\n",
      "31/31 [==============================] - 13s 422ms/step - loss: 0.5421 - accuracy: 0.7369 - val_loss: 0.4716 - val_accuracy: 0.7080\n",
      "Epoch 50/100\n",
      "31/31 [==============================] - 13s 415ms/step - loss: 0.5062 - accuracy: 0.7540 - val_loss: 0.7182 - val_accuracy: 0.7070\n",
      "Epoch 51/100\n",
      "31/31 [==============================] - 13s 419ms/step - loss: 0.5291 - accuracy: 0.7359 - val_loss: 0.4955 - val_accuracy: 0.6730\n",
      "Epoch 52/100\n",
      "31/31 [==============================] - 13s 430ms/step - loss: 0.5287 - accuracy: 0.7268 - val_loss: 0.6231 - val_accuracy: 0.7080\n",
      "Epoch 53/100\n",
      "31/31 [==============================] - 13s 418ms/step - loss: 0.5556 - accuracy: 0.7097 - val_loss: 0.5462 - val_accuracy: 0.7041\n",
      "Epoch 54/100\n",
      "31/31 [==============================] - 13s 419ms/step - loss: 0.5508 - accuracy: 0.7016 - val_loss: 0.5400 - val_accuracy: 0.6962\n",
      "Epoch 55/100\n",
      "31/31 [==============================] - 13s 414ms/step - loss: 0.5172 - accuracy: 0.7510 - val_loss: 0.5456 - val_accuracy: 0.7324\n",
      "Epoch 56/100\n"
     ]
    },
    {
     "name": "stdout",
     "output_type": "stream",
     "text": [
      "31/31 [==============================] - 13s 420ms/step - loss: 0.4833 - accuracy: 0.7581 - val_loss: 0.6809 - val_accuracy: 0.7324\n",
      "Epoch 57/100\n",
      "31/31 [==============================] - 14s 444ms/step - loss: 0.5333 - accuracy: 0.7591 - val_loss: 0.5139 - val_accuracy: 0.7306\n",
      "Epoch 58/100\n",
      "31/31 [==============================] - 14s 436ms/step - loss: 0.4988 - accuracy: 0.7601 - val_loss: 0.5475 - val_accuracy: 0.7395\n",
      "Epoch 59/100\n",
      "31/31 [==============================] - 14s 438ms/step - loss: 0.5004 - accuracy: 0.7581 - val_loss: 0.5405 - val_accuracy: 0.7259\n",
      "Epoch 60/100\n",
      "31/31 [==============================] - 13s 424ms/step - loss: 0.4822 - accuracy: 0.7671 - val_loss: 0.7524 - val_accuracy: 0.7312\n",
      "Epoch 61/100\n",
      "31/31 [==============================] - 13s 417ms/step - loss: 0.5012 - accuracy: 0.7530 - val_loss: 0.6391 - val_accuracy: 0.7434\n",
      "Epoch 62/100\n",
      "31/31 [==============================] - 13s 432ms/step - loss: 0.5135 - accuracy: 0.7510 - val_loss: 0.3938 - val_accuracy: 0.7083\n",
      "Epoch 63/100\n",
      "31/31 [==============================] - 14s 438ms/step - loss: 0.4823 - accuracy: 0.7802 - val_loss: 0.6390 - val_accuracy: 0.7554\n",
      "Epoch 64/100\n",
      "31/31 [==============================] - 14s 437ms/step - loss: 0.4891 - accuracy: 0.7671 - val_loss: 0.8241 - val_accuracy: 0.7531\n",
      "Epoch 65/100\n",
      "31/31 [==============================] - 13s 429ms/step - loss: 0.4594 - accuracy: 0.7883 - val_loss: 0.7210 - val_accuracy: 0.7371\n",
      "Epoch 66/100\n",
      "31/31 [==============================] - 14s 438ms/step - loss: 0.4591 - accuracy: 0.7893 - val_loss: 0.5619 - val_accuracy: 0.7445\n",
      "Epoch 67/100\n",
      "31/31 [==============================] - 14s 436ms/step - loss: 0.4802 - accuracy: 0.7772 - val_loss: 0.5253 - val_accuracy: 0.7319\n",
      "Epoch 68/100\n",
      "31/31 [==============================] - 14s 444ms/step - loss: 0.4852 - accuracy: 0.7702 - val_loss: 0.6125 - val_accuracy: 0.7409\n",
      "Epoch 69/100\n",
      "31/31 [==============================] - 13s 433ms/step - loss: 0.4603 - accuracy: 0.7671 - val_loss: 0.6059 - val_accuracy: 0.7268\n",
      "Epoch 70/100\n",
      "31/31 [==============================] - 13s 420ms/step - loss: 0.4851 - accuracy: 0.7581 - val_loss: 0.6738 - val_accuracy: 0.7437\n",
      "Epoch 71/100\n",
      "31/31 [==============================] - 13s 418ms/step - loss: 0.4753 - accuracy: 0.7944 - val_loss: 0.5547 - val_accuracy: 0.7271\n",
      "Epoch 72/100\n",
      "31/31 [==============================] - 13s 426ms/step - loss: 0.5080 - accuracy: 0.7470 - val_loss: 0.7164 - val_accuracy: 0.7258\n",
      "Epoch 73/100\n",
      "31/31 [==============================] - 13s 423ms/step - loss: 0.4538 - accuracy: 0.7883 - val_loss: 0.7058 - val_accuracy: 0.7379\n",
      "Epoch 74/100\n",
      "31/31 [==============================] - 13s 420ms/step - loss: 0.4223 - accuracy: 0.8155 - val_loss: 0.4744 - val_accuracy: 0.7384\n",
      "Epoch 75/100\n",
      "31/31 [==============================] - 13s 421ms/step - loss: 0.4634 - accuracy: 0.7903 - val_loss: 0.4229 - val_accuracy: 0.7499\n",
      "Epoch 76/100\n",
      "31/31 [==============================] - 13s 412ms/step - loss: 0.4419 - accuracy: 0.7984 - val_loss: 0.6068 - val_accuracy: 0.7587\n",
      "Epoch 77/100\n",
      "31/31 [==============================] - 13s 411ms/step - loss: 0.4031 - accuracy: 0.8085 - val_loss: 0.7933 - val_accuracy: 0.7519\n",
      "Epoch 78/100\n",
      "31/31 [==============================] - 13s 415ms/step - loss: 0.4301 - accuracy: 0.8014 - val_loss: 0.5347 - val_accuracy: 0.7514\n",
      "Epoch 79/100\n",
      "31/31 [==============================] - 13s 410ms/step - loss: 0.4753 - accuracy: 0.7843 - val_loss: 0.6519 - val_accuracy: 0.7526\n",
      "Epoch 80/100\n",
      "31/31 [==============================] - 13s 415ms/step - loss: 0.4263 - accuracy: 0.8004 - val_loss: 0.5528 - val_accuracy: 0.7496\n",
      "Epoch 81/100\n",
      "31/31 [==============================] - 13s 411ms/step - loss: 0.4500 - accuracy: 0.7782 - val_loss: 0.5931 - val_accuracy: 0.7457\n",
      "Epoch 82/100\n",
      "31/31 [==============================] - 13s 412ms/step - loss: 0.4288 - accuracy: 0.7974 - val_loss: 0.6251 - val_accuracy: 0.7397\n",
      "Epoch 83/100\n",
      "31/31 [==============================] - 13s 414ms/step - loss: 0.4332 - accuracy: 0.7933 - val_loss: 0.6681 - val_accuracy: 0.7458\n",
      "Epoch 84/100\n",
      "31/31 [==============================] - 13s 409ms/step - loss: 0.4262 - accuracy: 0.8125 - val_loss: 0.5546 - val_accuracy: 0.7492\n",
      "Epoch 85/100\n",
      "31/31 [==============================] - 13s 412ms/step - loss: 0.4183 - accuracy: 0.8044 - val_loss: 0.4625 - val_accuracy: 0.7600\n",
      "Epoch 86/100\n",
      "31/31 [==============================] - 13s 409ms/step - loss: 0.4267 - accuracy: 0.8054 - val_loss: 0.5210 - val_accuracy: 0.7281\n",
      "Epoch 87/100\n",
      "31/31 [==============================] - 13s 411ms/step - loss: 0.4171 - accuracy: 0.8095 - val_loss: 0.6784 - val_accuracy: 0.7528\n",
      "Epoch 88/100\n",
      "31/31 [==============================] - 13s 410ms/step - loss: 0.4250 - accuracy: 0.8135 - val_loss: 0.7381 - val_accuracy: 0.7350\n",
      "Epoch 89/100\n",
      "31/31 [==============================] - 13s 412ms/step - loss: 0.4250 - accuracy: 0.8065 - val_loss: 0.3503 - val_accuracy: 0.7587\n",
      "Epoch 90/100\n",
      "31/31 [==============================] - 13s 417ms/step - loss: 0.3884 - accuracy: 0.8357 - val_loss: 0.6456 - val_accuracy: 0.7450\n",
      "Epoch 91/100\n",
      "31/31 [==============================] - 13s 418ms/step - loss: 0.4071 - accuracy: 0.8105 - val_loss: 0.5131 - val_accuracy: 0.7543\n",
      "Epoch 92/100\n",
      "31/31 [==============================] - 13s 416ms/step - loss: 0.4095 - accuracy: 0.8327 - val_loss: 0.5021 - val_accuracy: 0.7664\n",
      "Epoch 93/100\n",
      "31/31 [==============================] - 13s 414ms/step - loss: 0.3779 - accuracy: 0.8266 - val_loss: 0.3209 - val_accuracy: 0.7479\n",
      "Epoch 94/100\n",
      "31/31 [==============================] - 13s 414ms/step - loss: 0.4170 - accuracy: 0.8196 - val_loss: 0.4482 - val_accuracy: 0.7593\n",
      "Epoch 95/100\n",
      "31/31 [==============================] - 13s 417ms/step - loss: 0.3821 - accuracy: 0.8397 - val_loss: 0.2666 - val_accuracy: 0.7630\n",
      "Epoch 96/100\n",
      "31/31 [==============================] - 13s 420ms/step - loss: 0.3817 - accuracy: 0.8226 - val_loss: 0.5302 - val_accuracy: 0.7274\n",
      "Epoch 97/100\n",
      "31/31 [==============================] - 13s 418ms/step - loss: 0.4208 - accuracy: 0.8115 - val_loss: 0.6465 - val_accuracy: 0.7489\n",
      "Epoch 98/100\n",
      "31/31 [==============================] - 13s 416ms/step - loss: 0.3801 - accuracy: 0.8296 - val_loss: 0.3195 - val_accuracy: 0.7581\n",
      "Epoch 99/100\n",
      "31/31 [==============================] - 13s 416ms/step - loss: 0.3705 - accuracy: 0.8266 - val_loss: 0.5018 - val_accuracy: 0.7516\n",
      "Epoch 100/100\n",
      "31/31 [==============================] - 13s 414ms/step - loss: 0.3411 - accuracy: 0.8558 - val_loss: 0.3589 - val_accuracy: 0.7644\n"
     ]
    },
    {
     "data": {
      "text/plain": [
       "<keras.callbacks.callbacks.History at 0x7f90fa3236d8>"
      ]
     },
     "execution_count": 6,
     "metadata": {},
     "output_type": "execute_result"
    }
   ],
   "source": [
    "classifier.fit_generator(training_set,samples_per_epoch=8000/8,nb_epoch=100,validation_data=test_set,nb_val_samples=2000/8)"
   ]
  },
  {
   "cell_type": "code",
   "execution_count": 7,
   "metadata": {},
   "outputs": [
    {
     "name": "stdout",
     "output_type": "stream",
     "text": [
      "Model: \"sequential_1\"\n",
      "_________________________________________________________________\n",
      "Layer (type)                 Output Shape              Param #   \n",
      "=================================================================\n",
      "conv2d_1 (Conv2D)            (None, 62, 62, 32)        896       \n",
      "_________________________________________________________________\n",
      "max_pooling2d_1 (MaxPooling2 (None, 31, 31, 32)        0         \n",
      "_________________________________________________________________\n",
      "conv2d_2 (Conv2D)            (None, 29, 29, 32)        9248      \n",
      "_________________________________________________________________\n",
      "flatten_1 (Flatten)          (None, 26912)             0         \n",
      "_________________________________________________________________\n",
      "dense_1 (Dense)              (None, 128)               3444864   \n",
      "_________________________________________________________________\n",
      "dense_2 (Dense)              (None, 1)                 129       \n",
      "=================================================================\n",
      "Total params: 3,455,137\n",
      "Trainable params: 3,455,137\n",
      "Non-trainable params: 0\n",
      "_________________________________________________________________\n"
     ]
    }
   ],
   "source": [
    "classifier.summary()"
   ]
  },
  {
   "cell_type": "markdown",
   "metadata": {},
   "source": [
    "#### making predictions and checking accuracy "
   ]
  },
  {
   "cell_type": "code",
   "execution_count": 8,
   "metadata": {},
   "outputs": [],
   "source": [
    "test_prediction = classifier.predict(test_set)"
   ]
  },
  {
   "cell_type": "code",
   "execution_count": 9,
   "metadata": {},
   "outputs": [],
   "source": [
    "pred_test = test_prediction>0.5"
   ]
  },
  {
   "cell_type": "code",
   "execution_count": 10,
   "metadata": {},
   "outputs": [],
   "source": [
    "pred_test[np.where(pred_test==False)]=0\n",
    "pred_test[np.where(pred_test==True)]=1"
   ]
  },
  {
   "cell_type": "code",
   "execution_count": 11,
   "metadata": {},
   "outputs": [],
   "source": [
    "test_y = test_set.classes"
   ]
  },
  {
   "cell_type": "code",
   "execution_count": 12,
   "metadata": {},
   "outputs": [
    {
     "name": "stdout",
     "output_type": "stream",
     "text": [
      "(2000, 1)\n",
      "(2000,)\n"
     ]
    }
   ],
   "source": [
    "print(test_prediction.shape)\n",
    "print(test_y.shape)"
   ]
  },
  {
   "cell_type": "markdown",
   "metadata": {},
   "source": [
    "#### Obtaining confusion matrix and classification report "
   ]
  },
  {
   "cell_type": "code",
   "execution_count": 13,
   "metadata": {},
   "outputs": [
    {
     "data": {
      "text/plain": [
       "array([[489, 480],\n",
       "       [511, 520]])"
      ]
     },
     "execution_count": 13,
     "metadata": {},
     "output_type": "execute_result"
    }
   ],
   "source": [
    "from sklearn.metrics import confusion_matrix, accuracy_score, precision_score, recall_score, f1_score, classification_report\n",
    "\n",
    "confusion_matrix(pred_test,test_y)"
   ]
  },
  {
   "cell_type": "code",
   "execution_count": 14,
   "metadata": {},
   "outputs": [
    {
     "data": {
      "text/plain": [
       "0.5045"
      ]
     },
     "execution_count": 14,
     "metadata": {},
     "output_type": "execute_result"
    }
   ],
   "source": [
    "accuracy_score(pred_test,test_y)"
   ]
  },
  {
   "cell_type": "code",
   "execution_count": 15,
   "metadata": {},
   "outputs": [
    {
     "data": {
      "text/plain": [
       "'              precision    recall  f1-score   support\\n\\n       False       0.49      0.50      0.50       969\\n        True       0.52      0.50      0.51      1031\\n\\n    accuracy                           0.50      2000\\n   macro avg       0.50      0.50      0.50      2000\\nweighted avg       0.50      0.50      0.50      2000\\n'"
      ]
     },
     "execution_count": 15,
     "metadata": {},
     "output_type": "execute_result"
    }
   ],
   "source": [
    "classification_report(pred_test,test_y)"
   ]
  },
  {
   "cell_type": "code",
   "execution_count": 16,
   "metadata": {},
   "outputs": [],
   "source": [
    "train_prediction = classifier.predict(training_set)"
   ]
  },
  {
   "cell_type": "code",
   "execution_count": 17,
   "metadata": {},
   "outputs": [
    {
     "data": {
      "text/plain": [
       "array([[2052, 2078],\n",
       "       [1948, 1922]])"
      ]
     },
     "execution_count": 17,
     "metadata": {},
     "output_type": "execute_result"
    }
   ],
   "source": [
    "confusion_matrix(train_prediction>0.5,training_set.classes)"
   ]
  },
  {
   "cell_type": "markdown",
   "metadata": {},
   "source": [
    "#### Saving model in H5 file"
   ]
  },
  {
   "cell_type": "code",
   "execution_count": 18,
   "metadata": {},
   "outputs": [],
   "source": [
    "classifier.save('/home/admin3/ml_with_phoenix/deep_learning/lib_and_pkl_files/01_cnn_classifier.h5')"
   ]
  }
 ],
 "metadata": {
  "kernelspec": {
   "display_name": "Python 3",
   "language": "python",
   "name": "python3"
  },
  "language_info": {
   "codemirror_mode": {
    "name": "ipython",
    "version": 3
   },
   "file_extension": ".py",
   "mimetype": "text/x-python",
   "name": "python",
   "nbconvert_exporter": "python",
   "pygments_lexer": "ipython3",
   "version": "3.6.9"
  }
 },
 "nbformat": 4,
 "nbformat_minor": 2
}
