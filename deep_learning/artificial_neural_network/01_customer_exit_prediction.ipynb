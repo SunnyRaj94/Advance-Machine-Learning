{
 "cells": [
  {
   "cell_type": "markdown",
   "metadata": {},
   "source": [
    "# Artificial Neural Network "
   ]
  },
  {
   "cell_type": "markdown",
   "metadata": {},
   "source": [
    "Problem Statement :"
   ]
  },
  {
   "cell_type": "markdown",
   "metadata": {},
   "source": [
    "For a given dataset predict whether customer will exit (Output variable “Exited”) the bank or not using artificial neural network\n",
    "https://drive.google.com/open?id=1aYpqp7vGd1vy76fhP-2IQJywn0BLt3eM"
   ]
  },
  {
   "cell_type": "code",
   "execution_count": 1,
   "metadata": {},
   "outputs": [
    {
     "name": "stderr",
     "output_type": "stream",
     "text": [
      "Using TensorFlow backend.\n",
      "/home/admin3/.local/lib/python3.6/site-packages/tensorflow/python/framework/dtypes.py:516: FutureWarning: Passing (type, 1) or '1type' as a synonym of type is deprecated; in a future version of numpy, it will be understood as (type, (1,)) / '(1,)type'.\n",
      "  _np_qint8 = np.dtype([(\"qint8\", np.int8, 1)])\n",
      "/home/admin3/.local/lib/python3.6/site-packages/tensorflow/python/framework/dtypes.py:517: FutureWarning: Passing (type, 1) or '1type' as a synonym of type is deprecated; in a future version of numpy, it will be understood as (type, (1,)) / '(1,)type'.\n",
      "  _np_quint8 = np.dtype([(\"quint8\", np.uint8, 1)])\n",
      "/home/admin3/.local/lib/python3.6/site-packages/tensorflow/python/framework/dtypes.py:518: FutureWarning: Passing (type, 1) or '1type' as a synonym of type is deprecated; in a future version of numpy, it will be understood as (type, (1,)) / '(1,)type'.\n",
      "  _np_qint16 = np.dtype([(\"qint16\", np.int16, 1)])\n",
      "/home/admin3/.local/lib/python3.6/site-packages/tensorflow/python/framework/dtypes.py:519: FutureWarning: Passing (type, 1) or '1type' as a synonym of type is deprecated; in a future version of numpy, it will be understood as (type, (1,)) / '(1,)type'.\n",
      "  _np_quint16 = np.dtype([(\"quint16\", np.uint16, 1)])\n",
      "/home/admin3/.local/lib/python3.6/site-packages/tensorflow/python/framework/dtypes.py:520: FutureWarning: Passing (type, 1) or '1type' as a synonym of type is deprecated; in a future version of numpy, it will be understood as (type, (1,)) / '(1,)type'.\n",
      "  _np_qint32 = np.dtype([(\"qint32\", np.int32, 1)])\n",
      "/home/admin3/.local/lib/python3.6/site-packages/tensorflow/python/framework/dtypes.py:525: FutureWarning: Passing (type, 1) or '1type' as a synonym of type is deprecated; in a future version of numpy, it will be understood as (type, (1,)) / '(1,)type'.\n",
      "  np_resource = np.dtype([(\"resource\", np.ubyte, 1)])\n"
     ]
    },
    {
     "name": "stdout",
     "output_type": "stream",
     "text": [
      "<class 'pandas.core.frame.DataFrame'>\n",
      "RangeIndex: 10000 entries, 0 to 9999\n",
      "Data columns (total 14 columns):\n",
      "RowNumber          10000 non-null int64\n",
      "CustomerId         10000 non-null int64\n",
      "Surname            10000 non-null object\n",
      "CreditScore        10000 non-null int64\n",
      "Geography          10000 non-null object\n",
      "Gender             10000 non-null object\n",
      "Age                10000 non-null int64\n",
      "Tenure             10000 non-null int64\n",
      "Balance            10000 non-null float64\n",
      "NumOfProducts      10000 non-null int64\n",
      "HasCrCard          10000 non-null int64\n",
      "IsActiveMember     10000 non-null int64\n",
      "EstimatedSalary    10000 non-null float64\n",
      "Exited             10000 non-null int64\n",
      "dtypes: float64(2), int64(9), object(3)\n",
      "memory usage: 1.1+ MB\n"
     ]
    }
   ],
   "source": [
    "#importing necessary library\n",
    "#importing matplotlib \n",
    "import matplotlib.pyplot as plt\n",
    "#importing seaborn\n",
    "import seaborn as sea\n",
    "#importing pandas \n",
    "import pandas as pd\n",
    "#importing numpy\n",
    "import numpy as np\n",
    "\n",
    "# importing my custom library file methods\n",
    "import sys\n",
    "sys.path.append('/home/admin3/ml_with_phoenix/deep_learning/lib_and_pkl_files/')\n",
    "from ipynb.fs.full.library import *\n",
    "\n",
    "#importing job-lib\n",
    "import joblib\n",
    "\n",
    "#importing scikit learn  library classes\n",
    "import sklearn.model_selection as model_selection\n",
    "from sklearn.model_selection import cross_val_score\n",
    "from sklearn import metrics\n",
    "from sklearn.metrics import confusion_matrix, accuracy_score, precision_score, recall_score, f1_score, classification_report\n",
    "from sklearn.preprocessing import OneHotEncoder\n",
    "from sklearn.preprocessing import StandardScaler\n",
    "\n",
    "import keras\n",
    "from keras.models import Sequential\n",
    "from keras.layers import Dense\n",
    "\n",
    "import warnings\n",
    "warnings.filterwarnings('ignore')\n",
    "\n",
    "# loading csv data from the file given in the url\n",
    "data_set = pd.read_csv(\"/home/admin3/Documents/MyDoc/data_sets/Churn_Modelling.csv\")\n",
    "#prinding info of data\n",
    "data_set.info()"
   ]
  },
  {
   "cell_type": "markdown",
   "metadata": {},
   "source": [
    "#### data pre-processing"
   ]
  },
  {
   "cell_type": "code",
   "execution_count": 2,
   "metadata": {},
   "outputs": [
    {
     "data": {
      "text/html": [
       "<div>\n",
       "<style scoped>\n",
       "    .dataframe tbody tr th:only-of-type {\n",
       "        vertical-align: middle;\n",
       "    }\n",
       "\n",
       "    .dataframe tbody tr th {\n",
       "        vertical-align: top;\n",
       "    }\n",
       "\n",
       "    .dataframe thead th {\n",
       "        text-align: right;\n",
       "    }\n",
       "</style>\n",
       "<table border=\"1\" class=\"dataframe\">\n",
       "  <thead>\n",
       "    <tr style=\"text-align: right;\">\n",
       "      <th></th>\n",
       "      <th>RowNumber</th>\n",
       "      <th>CustomerId</th>\n",
       "      <th>Surname</th>\n",
       "      <th>CreditScore</th>\n",
       "      <th>Geography</th>\n",
       "      <th>Gender</th>\n",
       "      <th>Age</th>\n",
       "      <th>Tenure</th>\n",
       "      <th>Balance</th>\n",
       "      <th>NumOfProducts</th>\n",
       "      <th>HasCrCard</th>\n",
       "      <th>IsActiveMember</th>\n",
       "      <th>EstimatedSalary</th>\n",
       "      <th>Exited</th>\n",
       "    </tr>\n",
       "  </thead>\n",
       "  <tbody>\n",
       "    <tr>\n",
       "      <th>0</th>\n",
       "      <td>1</td>\n",
       "      <td>15634602</td>\n",
       "      <td>Hargrave</td>\n",
       "      <td>619</td>\n",
       "      <td>France</td>\n",
       "      <td>Female</td>\n",
       "      <td>42</td>\n",
       "      <td>2</td>\n",
       "      <td>0.00</td>\n",
       "      <td>1</td>\n",
       "      <td>1</td>\n",
       "      <td>1</td>\n",
       "      <td>101348.88</td>\n",
       "      <td>1</td>\n",
       "    </tr>\n",
       "    <tr>\n",
       "      <th>1</th>\n",
       "      <td>2</td>\n",
       "      <td>15647311</td>\n",
       "      <td>Hill</td>\n",
       "      <td>608</td>\n",
       "      <td>Spain</td>\n",
       "      <td>Female</td>\n",
       "      <td>41</td>\n",
       "      <td>1</td>\n",
       "      <td>83807.86</td>\n",
       "      <td>1</td>\n",
       "      <td>0</td>\n",
       "      <td>1</td>\n",
       "      <td>112542.58</td>\n",
       "      <td>0</td>\n",
       "    </tr>\n",
       "    <tr>\n",
       "      <th>2</th>\n",
       "      <td>3</td>\n",
       "      <td>15619304</td>\n",
       "      <td>Onio</td>\n",
       "      <td>502</td>\n",
       "      <td>France</td>\n",
       "      <td>Female</td>\n",
       "      <td>42</td>\n",
       "      <td>8</td>\n",
       "      <td>159660.80</td>\n",
       "      <td>3</td>\n",
       "      <td>1</td>\n",
       "      <td>0</td>\n",
       "      <td>113931.57</td>\n",
       "      <td>1</td>\n",
       "    </tr>\n",
       "    <tr>\n",
       "      <th>3</th>\n",
       "      <td>4</td>\n",
       "      <td>15701354</td>\n",
       "      <td>Boni</td>\n",
       "      <td>699</td>\n",
       "      <td>France</td>\n",
       "      <td>Female</td>\n",
       "      <td>39</td>\n",
       "      <td>1</td>\n",
       "      <td>0.00</td>\n",
       "      <td>2</td>\n",
       "      <td>0</td>\n",
       "      <td>0</td>\n",
       "      <td>93826.63</td>\n",
       "      <td>0</td>\n",
       "    </tr>\n",
       "    <tr>\n",
       "      <th>4</th>\n",
       "      <td>5</td>\n",
       "      <td>15737888</td>\n",
       "      <td>Mitchell</td>\n",
       "      <td>850</td>\n",
       "      <td>Spain</td>\n",
       "      <td>Female</td>\n",
       "      <td>43</td>\n",
       "      <td>2</td>\n",
       "      <td>125510.82</td>\n",
       "      <td>1</td>\n",
       "      <td>1</td>\n",
       "      <td>1</td>\n",
       "      <td>79084.10</td>\n",
       "      <td>0</td>\n",
       "    </tr>\n",
       "  </tbody>\n",
       "</table>\n",
       "</div>"
      ],
      "text/plain": [
       "   RowNumber  CustomerId   Surname  CreditScore Geography  Gender  Age  \\\n",
       "0          1    15634602  Hargrave          619    France  Female   42   \n",
       "1          2    15647311      Hill          608     Spain  Female   41   \n",
       "2          3    15619304      Onio          502    France  Female   42   \n",
       "3          4    15701354      Boni          699    France  Female   39   \n",
       "4          5    15737888  Mitchell          850     Spain  Female   43   \n",
       "\n",
       "   Tenure    Balance  NumOfProducts  HasCrCard  IsActiveMember  \\\n",
       "0       2       0.00              1          1               1   \n",
       "1       1   83807.86              1          0               1   \n",
       "2       8  159660.80              3          1               0   \n",
       "3       1       0.00              2          0               0   \n",
       "4       2  125510.82              1          1               1   \n",
       "\n",
       "   EstimatedSalary  Exited  \n",
       "0        101348.88       1  \n",
       "1        112542.58       0  \n",
       "2        113931.57       1  \n",
       "3         93826.63       0  \n",
       "4         79084.10       0  "
      ]
     },
     "execution_count": 2,
     "metadata": {},
     "output_type": "execute_result"
    }
   ],
   "source": [
    "data_set.head(5)"
   ]
  },
  {
   "cell_type": "code",
   "execution_count": 3,
   "metadata": {},
   "outputs": [
    {
     "data": {
      "text/plain": [
       "Index(['RowNumber', 'CustomerId', 'Surname', 'CreditScore', 'Geography',\n",
       "       'Gender', 'Age', 'Tenure', 'Balance', 'NumOfProducts', 'HasCrCard',\n",
       "       'IsActiveMember', 'EstimatedSalary', 'Exited'],\n",
       "      dtype='object')"
      ]
     },
     "execution_count": 3,
     "metadata": {},
     "output_type": "execute_result"
    }
   ],
   "source": [
    "data_set.columns"
   ]
  },
  {
   "cell_type": "code",
   "execution_count": 4,
   "metadata": {},
   "outputs": [],
   "source": [
    "x_values,y_values,one_hot_encoder,std_scalar = pre_processing_bank_data(data_set,OneHotEncoder(),StandardScaler(),False)"
   ]
  },
  {
   "cell_type": "code",
   "execution_count": 5,
   "metadata": {},
   "outputs": [
    {
     "data": {
      "text/plain": [
       "['/home/admin3/ml_with_phoenix/deep_learning/lib_and_pkl_files/std_scalar.pkl']"
      ]
     },
     "execution_count": 5,
     "metadata": {},
     "output_type": "execute_result"
    }
   ],
   "source": [
    "joblib.dump(one_hot_encoder,'/home/admin3/ml_with_phoenix/deep_learning/lib_and_pkl_files/ann_one_hot_encoder.pkl')\n",
    "joblib.dump(std_scalar,'/home/admin3/ml_with_phoenix/deep_learning/lib_and_pkl_files/std_scalar.pkl')"
   ]
  },
  {
   "cell_type": "markdown",
   "metadata": {},
   "source": [
    "##### Spliting train and test data set"
   ]
  },
  {
   "cell_type": "code",
   "execution_count": 6,
   "metadata": {},
   "outputs": [],
   "source": [
    "train_X, test_X, train_Y, test_Y = model_selection.train_test_split(x_values,y_values,test_size=0.3,random_state=0)"
   ]
  },
  {
   "cell_type": "code",
   "execution_count": 7,
   "metadata": {},
   "outputs": [
    {
     "name": "stdout",
     "output_type": "stream",
     "text": [
      "shape of x_values    : (10000, 13)\n",
      "shape of y_values    : (10000,)\n"
     ]
    }
   ],
   "source": [
    "print(\"shape of x_values    :\",x_values.shape)\n",
    "print(\"shape of y_values    :\",y_values.shape)"
   ]
  },
  {
   "cell_type": "markdown",
   "metadata": {},
   "source": [
    "##### Building ANN model"
   ]
  },
  {
   "cell_type": "code",
   "execution_count": 8,
   "metadata": {},
   "outputs": [],
   "source": [
    "classifier = Sequential()\n",
    "classifier.add(Dense(output_dim=7,init='uniform',activation='relu',input_dim=13))\n",
    "classifier.add(Dense(output_dim=5,init='uniform',activation='relu'))\n",
    "classifier.add(Dense(output_dim=3,init='uniform',activation='relu'))\n",
    "classifier.add(Dense(output_dim=1,init='uniform',activation='relu'))\n",
    "classifier.compile(optimizer='adam',loss='binary_crossentropy',metrics=['accuracy'])"
   ]
  },
  {
   "cell_type": "code",
   "execution_count": 9,
   "metadata": {},
   "outputs": [
    {
     "data": {
      "text/plain": [
       "['/home/admin3/ml_with_phoenix/deep_learning/lib_and_pkl_files/ann_sequential_classifier.pkl']"
      ]
     },
     "execution_count": 9,
     "metadata": {},
     "output_type": "execute_result"
    }
   ],
   "source": [
    "#exporting classifier object after fitting data \n",
    "joblib.dump(classifier,'/home/admin3/ml_with_phoenix/deep_learning/lib_and_pkl_files/ann_sequential_classifier.pkl')"
   ]
  },
  {
   "cell_type": "code",
   "execution_count": 10,
   "metadata": {},
   "outputs": [
    {
     "name": "stdout",
     "output_type": "stream",
     "text": [
      "WARNING:tensorflow:From /home/admin3/.local/lib/python3.6/site-packages/keras/backend/tensorflow_backend.py:422: The name tf.global_variables is deprecated. Please use tf.compat.v1.global_variables instead.\n",
      "\n",
      "Epoch 1/100\n",
      "7000/7000 [==============================] - 1s 101us/step - loss: 0.6350 - accuracy: 0.7991\n",
      "Epoch 2/100\n",
      "7000/7000 [==============================] - 1s 87us/step - loss: 0.4239 - accuracy: 0.8127\n",
      "Epoch 3/100\n",
      "7000/7000 [==============================] - 1s 83us/step - loss: 0.4147 - accuracy: 0.8130\n",
      "Epoch 4/100\n",
      "7000/7000 [==============================] - 1s 86us/step - loss: 0.4021 - accuracy: 0.8179\n",
      "Epoch 5/100\n",
      "7000/7000 [==============================] - 1s 83us/step - loss: 0.3928 - accuracy: 0.8221\n",
      "Epoch 6/100\n",
      "7000/7000 [==============================] - 1s 82us/step - loss: 0.3867 - accuracy: 0.8297\n",
      "Epoch 7/100\n",
      "7000/7000 [==============================] - 1s 86us/step - loss: 0.3848 - accuracy: 0.8330\n",
      "Epoch 8/100\n",
      "7000/7000 [==============================] - 1s 81us/step - loss: 0.3804 - accuracy: 0.8351\n",
      "Epoch 9/100\n",
      "7000/7000 [==============================] - 1s 84us/step - loss: 0.3771 - accuracy: 0.8417\n",
      "Epoch 10/100\n",
      "7000/7000 [==============================] - 1s 84us/step - loss: 0.3730 - accuracy: 0.8419\n",
      "Epoch 11/100\n",
      "7000/7000 [==============================] - 1s 85us/step - loss: 0.3706 - accuracy: 0.8436\n",
      "Epoch 12/100\n",
      "7000/7000 [==============================] - 1s 80us/step - loss: 0.3673 - accuracy: 0.8419\n",
      "Epoch 13/100\n",
      "7000/7000 [==============================] - 1s 85us/step - loss: 0.3638 - accuracy: 0.8431\n",
      "Epoch 14/100\n",
      "7000/7000 [==============================] - 1s 80us/step - loss: 0.3604 - accuracy: 0.8453\n",
      "Epoch 15/100\n",
      "7000/7000 [==============================] - 1s 80us/step - loss: 0.3595 - accuracy: 0.8487\n",
      "Epoch 16/100\n",
      "7000/7000 [==============================] - 1s 87us/step - loss: 0.3603 - accuracy: 0.8506\n",
      "Epoch 17/100\n",
      "7000/7000 [==============================] - 1s 83us/step - loss: 0.3583 - accuracy: 0.8457\n",
      "Epoch 18/100\n",
      "7000/7000 [==============================] - 1s 87us/step - loss: 0.3502 - accuracy: 0.8534\n",
      "Epoch 19/100\n",
      "7000/7000 [==============================] - 1s 85us/step - loss: 0.3533 - accuracy: 0.8543\n",
      "Epoch 20/100\n",
      "7000/7000 [==============================] - 1s 85us/step - loss: 0.3548 - accuracy: 0.8559\n",
      "Epoch 21/100\n",
      "7000/7000 [==============================] - 1s 85us/step - loss: 0.3545 - accuracy: 0.8531\n",
      "Epoch 22/100\n",
      "7000/7000 [==============================] - 1s 89us/step - loss: 0.3512 - accuracy: 0.8541\n",
      "Epoch 23/100\n",
      "7000/7000 [==============================] - 1s 84us/step - loss: 0.3454 - accuracy: 0.8530\n",
      "Epoch 24/100\n",
      "7000/7000 [==============================] - 1s 85us/step - loss: 0.3442 - accuracy: 0.8559\n",
      "Epoch 25/100\n",
      "7000/7000 [==============================] - 1s 85us/step - loss: 0.3445 - accuracy: 0.8567\n",
      "Epoch 26/100\n",
      "7000/7000 [==============================] - 1s 85us/step - loss: 0.3448 - accuracy: 0.8546\n",
      "Epoch 27/100\n",
      "7000/7000 [==============================] - 1s 85us/step - loss: 0.3463 - accuracy: 0.8569\n",
      "Epoch 28/100\n",
      "7000/7000 [==============================] - 1s 84us/step - loss: 0.3506 - accuracy: 0.8514\n",
      "Epoch 29/100\n",
      "7000/7000 [==============================] - 1s 84us/step - loss: 0.3443 - accuracy: 0.8574\n",
      "Epoch 30/100\n",
      "7000/7000 [==============================] - 1s 83us/step - loss: 0.3402 - accuracy: 0.8576\n",
      "Epoch 31/100\n",
      "7000/7000 [==============================] - 1s 84us/step - loss: 0.3400 - accuracy: 0.8590\n",
      "Epoch 32/100\n",
      "7000/7000 [==============================] - 1s 83us/step - loss: 0.3393 - accuracy: 0.8590\n",
      "Epoch 33/100\n",
      "7000/7000 [==============================] - 1s 82us/step - loss: 0.3446 - accuracy: 0.8567\n",
      "Epoch 34/100\n",
      "7000/7000 [==============================] - 1s 84us/step - loss: 0.3438 - accuracy: 0.8580\n",
      "Epoch 35/100\n",
      "7000/7000 [==============================] - 1s 91us/step - loss: 0.3486 - accuracy: 0.8521\n",
      "Epoch 36/100\n",
      "7000/7000 [==============================] - 1s 91us/step - loss: 0.3411 - accuracy: 0.8566\n",
      "Epoch 37/100\n",
      "7000/7000 [==============================] - 1s 92us/step - loss: 0.3390 - accuracy: 0.8566\n",
      "Epoch 38/100\n",
      "7000/7000 [==============================] - 1s 93us/step - loss: 0.3382 - accuracy: 0.8571\n",
      "Epoch 39/100\n",
      "7000/7000 [==============================] - 1s 86us/step - loss: 0.3379 - accuracy: 0.8589\n",
      "Epoch 40/100\n",
      "7000/7000 [==============================] - 1s 81us/step - loss: 0.3407 - accuracy: 0.8569\n",
      "Epoch 41/100\n",
      "7000/7000 [==============================] - 1s 85us/step - loss: 0.3409 - accuracy: 0.8553\n",
      "Epoch 42/100\n",
      "7000/7000 [==============================] - 1s 84us/step - loss: 0.3379 - accuracy: 0.8587\n",
      "Epoch 43/100\n",
      "7000/7000 [==============================] - 1s 84us/step - loss: 0.3366 - accuracy: 0.8580\n",
      "Epoch 44/100\n",
      "7000/7000 [==============================] - 1s 83us/step - loss: 0.3367 - accuracy: 0.8579\n",
      "Epoch 45/100\n",
      "7000/7000 [==============================] - 1s 84us/step - loss: 0.3413 - accuracy: 0.8587\n",
      "Epoch 46/100\n",
      "7000/7000 [==============================] - 1s 88us/step - loss: 0.3381 - accuracy: 0.8583\n",
      "Epoch 47/100\n",
      "7000/7000 [==============================] - 1s 85us/step - loss: 0.3396 - accuracy: 0.8566\n",
      "Epoch 48/100\n",
      "7000/7000 [==============================] - 1s 88us/step - loss: 0.3387 - accuracy: 0.8569\n",
      "Epoch 49/100\n",
      "7000/7000 [==============================] - 1s 87us/step - loss: 0.3353 - accuracy: 0.8590\n",
      "Epoch 50/100\n",
      "7000/7000 [==============================] - 1s 90us/step - loss: 0.3382 - accuracy: 0.8590\n",
      "Epoch 51/100\n",
      "7000/7000 [==============================] - 1s 90us/step - loss: 0.3397 - accuracy: 0.8567\n",
      "Epoch 52/100\n",
      "7000/7000 [==============================] - 1s 85us/step - loss: 0.3419 - accuracy: 0.8601\n",
      "Epoch 53/100\n",
      "7000/7000 [==============================] - 1s 85us/step - loss: 0.3365 - accuracy: 0.8584\n",
      "Epoch 54/100\n",
      "7000/7000 [==============================] - 1s 81us/step - loss: 0.3361 - accuracy: 0.8587\n",
      "Epoch 55/100\n",
      "7000/7000 [==============================] - 1s 82us/step - loss: 0.3405 - accuracy: 0.8587\n",
      "Epoch 56/100\n",
      "7000/7000 [==============================] - 1s 81us/step - loss: 0.3359 - accuracy: 0.8557\n",
      "Epoch 57/100\n",
      "7000/7000 [==============================] - 1s 80us/step - loss: 0.3361 - accuracy: 0.8584\n",
      "Epoch 58/100\n",
      "7000/7000 [==============================] - 1s 88us/step - loss: 0.3366 - accuracy: 0.8576\n",
      "Epoch 59/100\n",
      "7000/7000 [==============================] - 1s 82us/step - loss: 0.3384 - accuracy: 0.8567\n",
      "Epoch 60/100\n",
      "7000/7000 [==============================] - 1s 90us/step - loss: 0.3410 - accuracy: 0.8593\n",
      "Epoch 61/100\n",
      "7000/7000 [==============================] - 1s 88us/step - loss: 0.3451 - accuracy: 0.8554\n",
      "Epoch 62/100\n",
      "7000/7000 [==============================] - 1s 80us/step - loss: 0.3437 - accuracy: 0.8589\n",
      "Epoch 63/100\n",
      "7000/7000 [==============================] - 1s 82us/step - loss: 0.3374 - accuracy: 0.8583\n",
      "Epoch 64/100\n",
      "7000/7000 [==============================] - 1s 83us/step - loss: 0.3395 - accuracy: 0.8541\n",
      "Epoch 65/100\n",
      "7000/7000 [==============================] - 1s 83us/step - loss: 0.3365 - accuracy: 0.8561\n",
      "Epoch 66/100\n",
      "7000/7000 [==============================] - 1s 82us/step - loss: 0.3346 - accuracy: 0.8570\n",
      "Epoch 67/100\n",
      "7000/7000 [==============================] - 1s 79us/step - loss: 0.3350 - accuracy: 0.8591\n",
      "Epoch 68/100\n",
      "7000/7000 [==============================] - 1s 84us/step - loss: 0.3355 - accuracy: 0.8579\n",
      "Epoch 69/100\n",
      "7000/7000 [==============================] - 1s 81us/step - loss: 0.3413 - accuracy: 0.8560\n",
      "Epoch 70/100\n",
      "7000/7000 [==============================] - 1s 79us/step - loss: 0.3436 - accuracy: 0.8483\n",
      "Epoch 71/100\n",
      "7000/7000 [==============================] - 1s 79us/step - loss: 0.3380 - accuracy: 0.8559\n",
      "Epoch 72/100\n",
      "7000/7000 [==============================] - 1s 82us/step - loss: 0.3339 - accuracy: 0.8566\n",
      "Epoch 73/100\n",
      "7000/7000 [==============================] - 1s 80us/step - loss: 0.3353 - accuracy: 0.8566\n",
      "Epoch 74/100\n",
      "7000/7000 [==============================] - 1s 79us/step - loss: 0.3347 - accuracy: 0.8583\n",
      "Epoch 75/100\n",
      "7000/7000 [==============================] - 1s 81us/step - loss: 0.3374 - accuracy: 0.8549\n",
      "Epoch 76/100\n",
      "7000/7000 [==============================] - 1s 80us/step - loss: 0.3350 - accuracy: 0.8549\n",
      "Epoch 77/100\n"
     ]
    },
    {
     "name": "stdout",
     "output_type": "stream",
     "text": [
      "7000/7000 [==============================] - 1s 81us/step - loss: 0.3378 - accuracy: 0.8537\n",
      "Epoch 78/100\n",
      "7000/7000 [==============================] - 1s 85us/step - loss: 0.3377 - accuracy: 0.8554\n",
      "Epoch 79/100\n",
      "7000/7000 [==============================] - 1s 84us/step - loss: 0.3353 - accuracy: 0.8573\n",
      "Epoch 80/100\n",
      "7000/7000 [==============================] - 1s 83us/step - loss: 0.3370 - accuracy: 0.8560\n",
      "Epoch 81/100\n",
      "7000/7000 [==============================] - 1s 81us/step - loss: 0.3375 - accuracy: 0.8566\n",
      "Epoch 82/100\n",
      "7000/7000 [==============================] - 1s 81us/step - loss: 0.3364 - accuracy: 0.8576\n",
      "Epoch 83/100\n",
      "7000/7000 [==============================] - 1s 82us/step - loss: 0.3387 - accuracy: 0.8567\n",
      "Epoch 84/100\n",
      "7000/7000 [==============================] - 1s 82us/step - loss: 0.3385 - accuracy: 0.8539\n",
      "Epoch 85/100\n",
      "7000/7000 [==============================] - 1s 84us/step - loss: 0.3345 - accuracy: 0.8553\n",
      "Epoch 86/100\n",
      "7000/7000 [==============================] - 1s 82us/step - loss: 0.3366 - accuracy: 0.8563\n",
      "Epoch 87/100\n",
      "7000/7000 [==============================] - 1s 82us/step - loss: 0.3355 - accuracy: 0.8544\n",
      "Epoch 88/100\n",
      "7000/7000 [==============================] - 1s 80us/step - loss: 0.3338 - accuracy: 0.8559\n",
      "Epoch 89/100\n",
      "7000/7000 [==============================] - 1s 81us/step - loss: 0.3348 - accuracy: 0.8557\n",
      "Epoch 90/100\n",
      "7000/7000 [==============================] - 1s 82us/step - loss: 0.3356 - accuracy: 0.8563\n",
      "Epoch 91/100\n",
      "7000/7000 [==============================] - 1s 82us/step - loss: 0.3342 - accuracy: 0.8546\n",
      "Epoch 92/100\n",
      "7000/7000 [==============================] - 1s 81us/step - loss: 0.3356 - accuracy: 0.8564\n",
      "Epoch 93/100\n",
      "7000/7000 [==============================] - 1s 82us/step - loss: 0.3368 - accuracy: 0.8561\n",
      "Epoch 94/100\n",
      "7000/7000 [==============================] - 1s 83us/step - loss: 0.3337 - accuracy: 0.8573\n",
      "Epoch 95/100\n",
      "7000/7000 [==============================] - 1s 82us/step - loss: 0.3343 - accuracy: 0.8560\n",
      "Epoch 96/100\n",
      "7000/7000 [==============================] - 1s 84us/step - loss: 0.3363 - accuracy: 0.8564\n",
      "Epoch 97/100\n",
      "7000/7000 [==============================] - 1s 82us/step - loss: 0.3335 - accuracy: 0.8537\n",
      "Epoch 98/100\n",
      "7000/7000 [==============================] - 1s 86us/step - loss: 0.3333 - accuracy: 0.8550\n",
      "Epoch 99/100\n",
      "7000/7000 [==============================] - 1s 82us/step - loss: 0.3332 - accuracy: 0.8551\n",
      "Epoch 100/100\n",
      "7000/7000 [==============================] - 1s 81us/step - loss: 0.3357 - accuracy: 0.8561\n"
     ]
    }
   ],
   "source": [
    "# classifier.fit(train_X,train_Y,batch_size = 10,nb_epoch=100)\n",
    "fit_predict(train_X,train_Y,classifier,flag=False)"
   ]
  },
  {
   "cell_type": "markdown",
   "metadata": {},
   "source": [
    "##### Predictring outputs based on model"
   ]
  },
  {
   "cell_type": "code",
   "execution_count": 11,
   "metadata": {},
   "outputs": [],
   "source": [
    "# predicting values of test data set and storing\n",
    "test_prediction = fit_predict(test_X,test_Y,classifier)\n",
    "\n",
    "# predicting values of train data set and storing\n",
    "train_prediction = fit_predict(train_X,train_Y,classifier)"
   ]
  },
  {
   "cell_type": "markdown",
   "metadata": {},
   "source": [
    "##### Obtaining confusion matrix and accuracy parameters "
   ]
  },
  {
   "cell_type": "code",
   "execution_count": 12,
   "metadata": {},
   "outputs": [
    {
     "name": "stdout",
     "output_type": "stream",
     "text": [
      "confusion matrix of Test Data Set   :  \n",
      " [[2295  316]\n",
      " [  84  305]]\n",
      "confusion matrix of Train Data Set   :  \n",
      " [[5420  794]\n",
      " [ 164  622]]\n"
     ]
    }
   ],
   "source": [
    "print(\"confusion matrix of Test Data Set   :  \\n\",confusion_matrix(test_prediction,test_Y))\n",
    "print(\"confusion matrix of Train Data Set   :  \\n\",confusion_matrix(train_prediction,train_Y))"
   ]
  },
  {
   "cell_type": "code",
   "execution_count": 13,
   "metadata": {},
   "outputs": [
    {
     "name": "stdout",
     "output_type": "stream",
     "text": [
      "Accuracy Score of Test Data Set   :  \n",
      " 0.8666666666666667\n",
      "Accuracy Score of Train Data Set   :  \n",
      " 0.8631428571428571\n"
     ]
    }
   ],
   "source": [
    "print(\"Accuracy Score of Test Data Set   :  \\n\",accuracy_score(test_prediction,test_Y))\n",
    "print(\"Accuracy Score of Train Data Set   :  \\n\",accuracy_score(train_prediction,train_Y))"
   ]
  },
  {
   "cell_type": "code",
   "execution_count": 14,
   "metadata": {},
   "outputs": [
    {
     "name": "stdout",
     "output_type": "stream",
     "text": [
      "3000/3000 [==============================] - 0s 10us/step\n"
     ]
    },
    {
     "data": {
      "text/plain": [
       "[0.335286899805069, 0.856333315372467]"
      ]
     },
     "execution_count": 14,
     "metadata": {},
     "output_type": "execute_result"
    }
   ],
   "source": [
    "classifier.evaluate(test_X, test_Y, batch_size=128)"
   ]
  },
  {
   "cell_type": "code",
   "execution_count": 15,
   "metadata": {},
   "outputs": [
    {
     "name": "stdout",
     "output_type": "stream",
     "text": [
      "Classification Report Test Set\n",
      "              precision    recall  f1-score   support\n",
      "\n",
      "       False       0.96      0.88      0.92      2611\n",
      "        True       0.49      0.78      0.60       389\n",
      "\n",
      "    accuracy                           0.87      3000\n",
      "   macro avg       0.73      0.83      0.76      3000\n",
      "weighted avg       0.90      0.87      0.88      3000\n",
      "\n",
      "- - - - - - - - - - - - - - - - - - - - - - - - - - - - - - - - - - - - - - -\n",
      "Classification Report Train Set\n",
      "              precision    recall  f1-score   support\n",
      "\n",
      "       False       0.97      0.87      0.92      6214\n",
      "        True       0.44      0.79      0.56       786\n",
      "\n",
      "    accuracy                           0.86      7000\n",
      "   macro avg       0.70      0.83      0.74      7000\n",
      "weighted avg       0.91      0.86      0.88      7000\n",
      "\n",
      "- - - - - - - - - - - - - - - - - - - - - - - - - - - - - - - - - - - - - - -\n"
     ]
    }
   ],
   "source": [
    "print(\"Classification Report Test Set\")\n",
    "print(classification_report(test_prediction,test_Y))\n",
    "print(\"- - - - - - - - - - - - - - - - - - - - - - - - - - - - - - - - - - - - - - -\")\n",
    "print(\"Classification Report Train Set\")\n",
    "print(classification_report(train_prediction,train_Y))\n",
    "print(\"- - - - - - - - - - - - - - - - - - - - - - - - - - - - - - - - - - - - - - -\")"
   ]
  }
 ],
 "metadata": {
  "kernelspec": {
   "display_name": "Python 3",
   "language": "python",
   "name": "python3"
  },
  "language_info": {
   "codemirror_mode": {
    "name": "ipython",
    "version": 3
   },
   "file_extension": ".py",
   "mimetype": "text/x-python",
   "name": "python",
   "nbconvert_exporter": "python",
   "pygments_lexer": "ipython3",
   "version": "3.6.9"
  }
 },
 "nbformat": 4,
 "nbformat_minor": 2
}
