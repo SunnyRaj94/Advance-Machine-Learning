{
 "cells": [
  {
   "cell_type": "markdown",
   "metadata": {},
   "source": [
    "# Artificial Neural Network "
   ]
  },
  {
   "cell_type": "markdown",
   "metadata": {},
   "source": [
    "Problem Statement :"
   ]
  },
  {
   "cell_type": "markdown",
   "metadata": {},
   "source": [
    "For a given dataset predict whether customer will exit (Output variable “Exited”) the bank or not using artificial neural network\n",
    "https://drive.google.com/open?id=1aYpqp7vGd1vy76fhP-2IQJywn0BLt3eM"
   ]
  },
  {
   "cell_type": "code",
   "execution_count": 1,
   "metadata": {},
   "outputs": [
    {
     "name": "stderr",
     "output_type": "stream",
     "text": [
      "Using TensorFlow backend.\n",
      "/home/admin3/.local/lib/python3.6/site-packages/tensorflow/python/framework/dtypes.py:516: FutureWarning: Passing (type, 1) or '1type' as a synonym of type is deprecated; in a future version of numpy, it will be understood as (type, (1,)) / '(1,)type'.\n",
      "  _np_qint8 = np.dtype([(\"qint8\", np.int8, 1)])\n",
      "/home/admin3/.local/lib/python3.6/site-packages/tensorflow/python/framework/dtypes.py:517: FutureWarning: Passing (type, 1) or '1type' as a synonym of type is deprecated; in a future version of numpy, it will be understood as (type, (1,)) / '(1,)type'.\n",
      "  _np_quint8 = np.dtype([(\"quint8\", np.uint8, 1)])\n",
      "/home/admin3/.local/lib/python3.6/site-packages/tensorflow/python/framework/dtypes.py:518: FutureWarning: Passing (type, 1) or '1type' as a synonym of type is deprecated; in a future version of numpy, it will be understood as (type, (1,)) / '(1,)type'.\n",
      "  _np_qint16 = np.dtype([(\"qint16\", np.int16, 1)])\n",
      "/home/admin3/.local/lib/python3.6/site-packages/tensorflow/python/framework/dtypes.py:519: FutureWarning: Passing (type, 1) or '1type' as a synonym of type is deprecated; in a future version of numpy, it will be understood as (type, (1,)) / '(1,)type'.\n",
      "  _np_quint16 = np.dtype([(\"quint16\", np.uint16, 1)])\n",
      "/home/admin3/.local/lib/python3.6/site-packages/tensorflow/python/framework/dtypes.py:520: FutureWarning: Passing (type, 1) or '1type' as a synonym of type is deprecated; in a future version of numpy, it will be understood as (type, (1,)) / '(1,)type'.\n",
      "  _np_qint32 = np.dtype([(\"qint32\", np.int32, 1)])\n",
      "/home/admin3/.local/lib/python3.6/site-packages/tensorflow/python/framework/dtypes.py:525: FutureWarning: Passing (type, 1) or '1type' as a synonym of type is deprecated; in a future version of numpy, it will be understood as (type, (1,)) / '(1,)type'.\n",
      "  np_resource = np.dtype([(\"resource\", np.ubyte, 1)])\n"
     ]
    },
    {
     "name": "stdout",
     "output_type": "stream",
     "text": [
      "<class 'pandas.core.frame.DataFrame'>\n",
      "RangeIndex: 10000 entries, 0 to 9999\n",
      "Data columns (total 14 columns):\n",
      "RowNumber          10000 non-null int64\n",
      "CustomerId         10000 non-null int64\n",
      "Surname            10000 non-null object\n",
      "CreditScore        10000 non-null int64\n",
      "Geography          10000 non-null object\n",
      "Gender             10000 non-null object\n",
      "Age                10000 non-null int64\n",
      "Tenure             10000 non-null int64\n",
      "Balance            10000 non-null float64\n",
      "NumOfProducts      10000 non-null int64\n",
      "HasCrCard          10000 non-null int64\n",
      "IsActiveMember     10000 non-null int64\n",
      "EstimatedSalary    10000 non-null float64\n",
      "Exited             10000 non-null int64\n",
      "dtypes: float64(2), int64(9), object(3)\n",
      "memory usage: 1.1+ MB\n"
     ]
    }
   ],
   "source": [
    "#importing necessary library\n",
    "#importing matplotlib \n",
    "import matplotlib.pyplot as plt\n",
    "#importing seaborn\n",
    "import seaborn as sea\n",
    "#importing pandas \n",
    "import pandas as pd\n",
    "#importing numpy\n",
    "import numpy as np\n",
    "\n",
    "# importing my custom library file methods\n",
    "import sys\n",
    "sys.path.append('/home/admin3/ml_with_phoenix/deep_learning/lib_and_pkl_files/')\n",
    "from ipynb.fs.full.library import *\n",
    "\n",
    "#importing job-lib\n",
    "import joblib\n",
    "\n",
    "#importing scikit learn  library classes\n",
    "import sklearn.model_selection as model_selection\n",
    "from sklearn.model_selection import cross_val_score\n",
    "from sklearn import metrics\n",
    "from sklearn.metrics import accuracy_score,confusion_matrix\n",
    "from sklearn.preprocessing import OneHotEncoder\n",
    "from sklearn.preprocessing import StandardScaler\n",
    "\n",
    "import keras\n",
    "from keras.models import Sequential\n",
    "from keras.layers import Dense\n",
    "\n",
    "import warnings\n",
    "warnings.filterwarnings('ignore')\n",
    "\n",
    "# loading csv data from the file given in the url\n",
    "data_set = pd.read_csv(\"/home/admin3/Documents/MyDoc/data_sets/Churn_Modelling.csv\")\n",
    "#prinding info of data\n",
    "data_set.info()"
   ]
  },
  {
   "cell_type": "markdown",
   "metadata": {},
   "source": [
    "#### data pre-processing"
   ]
  },
  {
   "cell_type": "code",
   "execution_count": 2,
   "metadata": {},
   "outputs": [
    {
     "data": {
      "text/html": [
       "<div>\n",
       "<style scoped>\n",
       "    .dataframe tbody tr th:only-of-type {\n",
       "        vertical-align: middle;\n",
       "    }\n",
       "\n",
       "    .dataframe tbody tr th {\n",
       "        vertical-align: top;\n",
       "    }\n",
       "\n",
       "    .dataframe thead th {\n",
       "        text-align: right;\n",
       "    }\n",
       "</style>\n",
       "<table border=\"1\" class=\"dataframe\">\n",
       "  <thead>\n",
       "    <tr style=\"text-align: right;\">\n",
       "      <th></th>\n",
       "      <th>RowNumber</th>\n",
       "      <th>CustomerId</th>\n",
       "      <th>Surname</th>\n",
       "      <th>CreditScore</th>\n",
       "      <th>Geography</th>\n",
       "      <th>Gender</th>\n",
       "      <th>Age</th>\n",
       "      <th>Tenure</th>\n",
       "      <th>Balance</th>\n",
       "      <th>NumOfProducts</th>\n",
       "      <th>HasCrCard</th>\n",
       "      <th>IsActiveMember</th>\n",
       "      <th>EstimatedSalary</th>\n",
       "      <th>Exited</th>\n",
       "    </tr>\n",
       "  </thead>\n",
       "  <tbody>\n",
       "    <tr>\n",
       "      <th>0</th>\n",
       "      <td>1</td>\n",
       "      <td>15634602</td>\n",
       "      <td>Hargrave</td>\n",
       "      <td>619</td>\n",
       "      <td>France</td>\n",
       "      <td>Female</td>\n",
       "      <td>42</td>\n",
       "      <td>2</td>\n",
       "      <td>0.00</td>\n",
       "      <td>1</td>\n",
       "      <td>1</td>\n",
       "      <td>1</td>\n",
       "      <td>101348.88</td>\n",
       "      <td>1</td>\n",
       "    </tr>\n",
       "    <tr>\n",
       "      <th>1</th>\n",
       "      <td>2</td>\n",
       "      <td>15647311</td>\n",
       "      <td>Hill</td>\n",
       "      <td>608</td>\n",
       "      <td>Spain</td>\n",
       "      <td>Female</td>\n",
       "      <td>41</td>\n",
       "      <td>1</td>\n",
       "      <td>83807.86</td>\n",
       "      <td>1</td>\n",
       "      <td>0</td>\n",
       "      <td>1</td>\n",
       "      <td>112542.58</td>\n",
       "      <td>0</td>\n",
       "    </tr>\n",
       "    <tr>\n",
       "      <th>2</th>\n",
       "      <td>3</td>\n",
       "      <td>15619304</td>\n",
       "      <td>Onio</td>\n",
       "      <td>502</td>\n",
       "      <td>France</td>\n",
       "      <td>Female</td>\n",
       "      <td>42</td>\n",
       "      <td>8</td>\n",
       "      <td>159660.80</td>\n",
       "      <td>3</td>\n",
       "      <td>1</td>\n",
       "      <td>0</td>\n",
       "      <td>113931.57</td>\n",
       "      <td>1</td>\n",
       "    </tr>\n",
       "    <tr>\n",
       "      <th>3</th>\n",
       "      <td>4</td>\n",
       "      <td>15701354</td>\n",
       "      <td>Boni</td>\n",
       "      <td>699</td>\n",
       "      <td>France</td>\n",
       "      <td>Female</td>\n",
       "      <td>39</td>\n",
       "      <td>1</td>\n",
       "      <td>0.00</td>\n",
       "      <td>2</td>\n",
       "      <td>0</td>\n",
       "      <td>0</td>\n",
       "      <td>93826.63</td>\n",
       "      <td>0</td>\n",
       "    </tr>\n",
       "    <tr>\n",
       "      <th>4</th>\n",
       "      <td>5</td>\n",
       "      <td>15737888</td>\n",
       "      <td>Mitchell</td>\n",
       "      <td>850</td>\n",
       "      <td>Spain</td>\n",
       "      <td>Female</td>\n",
       "      <td>43</td>\n",
       "      <td>2</td>\n",
       "      <td>125510.82</td>\n",
       "      <td>1</td>\n",
       "      <td>1</td>\n",
       "      <td>1</td>\n",
       "      <td>79084.10</td>\n",
       "      <td>0</td>\n",
       "    </tr>\n",
       "  </tbody>\n",
       "</table>\n",
       "</div>"
      ],
      "text/plain": [
       "   RowNumber  CustomerId   Surname  CreditScore Geography  Gender  Age  \\\n",
       "0          1    15634602  Hargrave          619    France  Female   42   \n",
       "1          2    15647311      Hill          608     Spain  Female   41   \n",
       "2          3    15619304      Onio          502    France  Female   42   \n",
       "3          4    15701354      Boni          699    France  Female   39   \n",
       "4          5    15737888  Mitchell          850     Spain  Female   43   \n",
       "\n",
       "   Tenure    Balance  NumOfProducts  HasCrCard  IsActiveMember  \\\n",
       "0       2       0.00              1          1               1   \n",
       "1       1   83807.86              1          0               1   \n",
       "2       8  159660.80              3          1               0   \n",
       "3       1       0.00              2          0               0   \n",
       "4       2  125510.82              1          1               1   \n",
       "\n",
       "   EstimatedSalary  Exited  \n",
       "0        101348.88       1  \n",
       "1        112542.58       0  \n",
       "2        113931.57       1  \n",
       "3         93826.63       0  \n",
       "4         79084.10       0  "
      ]
     },
     "execution_count": 2,
     "metadata": {},
     "output_type": "execute_result"
    }
   ],
   "source": [
    "data_set.head(5)"
   ]
  },
  {
   "cell_type": "code",
   "execution_count": 3,
   "metadata": {},
   "outputs": [
    {
     "data": {
      "text/plain": [
       "Index(['RowNumber', 'CustomerId', 'Surname', 'CreditScore', 'Geography',\n",
       "       'Gender', 'Age', 'Tenure', 'Balance', 'NumOfProducts', 'HasCrCard',\n",
       "       'IsActiveMember', 'EstimatedSalary', 'Exited'],\n",
       "      dtype='object')"
      ]
     },
     "execution_count": 3,
     "metadata": {},
     "output_type": "execute_result"
    }
   ],
   "source": [
    "data_set.columns"
   ]
  },
  {
   "cell_type": "code",
   "execution_count": 4,
   "metadata": {},
   "outputs": [],
   "source": [
    "x_values,y_values,one_hot_encoder,std_scalar = pre_processing_bank_data(data_set,OneHotEncoder(),StandardScaler(),False)"
   ]
  },
  {
   "cell_type": "code",
   "execution_count": 5,
   "metadata": {},
   "outputs": [],
   "source": [
    "train_X, test_X, train_Y, test_Y = model_selection.train_test_split(x_values,y_values,test_size=0.3,random_state=0)"
   ]
  },
  {
   "cell_type": "code",
   "execution_count": 6,
   "metadata": {},
   "outputs": [
    {
     "name": "stdout",
     "output_type": "stream",
     "text": [
      "shape of x_values    : (10000, 13)\n",
      "shape of y_values    : (10000,)\n"
     ]
    }
   ],
   "source": [
    "print(\"shape of x_values    :\",x_values.shape)\n",
    "print(\"shape of y_values    :\",y_values.shape)"
   ]
  },
  {
   "cell_type": "code",
   "execution_count": 7,
   "metadata": {},
   "outputs": [],
   "source": [
    "classifier = Sequential()\n",
    "classifier.add(Dense(output_dim=7,init='uniform',activation='relu',input_dim=13))\n",
    "classifier.add(Dense(output_dim=5,init='uniform',activation='relu'))\n",
    "classifier.add(Dense(output_dim=3,init='uniform',activation='relu'))\n",
    "classifier.add(Dense(output_dim=1,init='uniform',activation='relu'))\n",
    "classifier.compile(optimizer='adam',loss='binary_crossentropy',metrics=['accuracy'])"
   ]
  },
  {
   "cell_type": "code",
   "execution_count": 14,
   "metadata": {},
   "outputs": [
    {
     "name": "stdout",
     "output_type": "stream",
     "text": [
      "WARNING:tensorflow:From /home/admin3/.local/lib/python3.6/site-packages/tensorflow/python/ops/math_grad.py:1250: add_dispatch_support.<locals>.wrapper (from tensorflow.python.ops.array_ops) is deprecated and will be removed in a future version.\n",
      "Instructions for updating:\n",
      "Use tf.where in 2.0, which has the same broadcast rule as np.where\n",
      "WARNING:tensorflow:From /home/admin3/.local/lib/python3.6/site-packages/keras/backend/tensorflow_backend.py:422: The name tf.global_variables is deprecated. Please use tf.compat.v1.global_variables instead.\n",
      "\n",
      "Epoch 1/100\n",
      "7000/7000 [==============================] - 1s 106us/step - loss: 0.5858 - accuracy: 0.8064\n",
      "Epoch 2/100\n",
      "7000/7000 [==============================] - 1s 88us/step - loss: 0.4052 - accuracy: 0.8154\n",
      "Epoch 3/100\n",
      "7000/7000 [==============================] - 1s 89us/step - loss: 0.3842 - accuracy: 0.8301\n",
      "Epoch 4/100\n",
      "7000/7000 [==============================] - 1s 88us/step - loss: 0.3767 - accuracy: 0.8383\n",
      "Epoch 5/100\n",
      "7000/7000 [==============================] - 1s 86us/step - loss: 0.3706 - accuracy: 0.8397\n",
      "Epoch 6/100\n",
      "7000/7000 [==============================] - 1s 88us/step - loss: 0.3709 - accuracy: 0.8394\n",
      "Epoch 7/100\n",
      "7000/7000 [==============================] - 1s 89us/step - loss: 0.3788 - accuracy: 0.8343\n",
      "Epoch 8/100\n",
      "7000/7000 [==============================] - 1s 90us/step - loss: 0.3641 - accuracy: 0.8410\n",
      "Epoch 9/100\n",
      "7000/7000 [==============================] - 1s 89us/step - loss: 0.3652 - accuracy: 0.8390\n",
      "Epoch 10/100\n",
      "7000/7000 [==============================] - 1s 88us/step - loss: 0.3669 - accuracy: 0.8417\n",
      "Epoch 11/100\n",
      "7000/7000 [==============================] - 1s 91us/step - loss: 0.3641 - accuracy: 0.8420\n",
      "Epoch 12/100\n",
      "7000/7000 [==============================] - 1s 90us/step - loss: 0.3618 - accuracy: 0.8399\n",
      "Epoch 13/100\n",
      "7000/7000 [==============================] - 1s 89us/step - loss: 0.3617 - accuracy: 0.8417\n",
      "Epoch 14/100\n",
      "7000/7000 [==============================] - 1s 91us/step - loss: 0.3613 - accuracy: 0.8456\n",
      "Epoch 15/100\n",
      "7000/7000 [==============================] - 1s 87us/step - loss: 0.3667 - accuracy: 0.8401\n",
      "Epoch 16/100\n",
      "7000/7000 [==============================] - 1s 90us/step - loss: 0.3613 - accuracy: 0.8453\n",
      "Epoch 17/100\n",
      "7000/7000 [==============================] - 1s 91us/step - loss: 0.3610 - accuracy: 0.8469\n",
      "Epoch 18/100\n",
      "7000/7000 [==============================] - 1s 88us/step - loss: 0.3610 - accuracy: 0.8454\n",
      "Epoch 19/100\n",
      "7000/7000 [==============================] - 1s 90us/step - loss: 0.3579 - accuracy: 0.8471\n",
      "Epoch 20/100\n",
      "7000/7000 [==============================] - 1s 93us/step - loss: 0.3569 - accuracy: 0.8504\n",
      "Epoch 21/100\n",
      "7000/7000 [==============================] - 1s 93us/step - loss: 0.3572 - accuracy: 0.8479\n",
      "Epoch 22/100\n",
      "7000/7000 [==============================] - 1s 89us/step - loss: 0.3641 - accuracy: 0.8433\n",
      "Epoch 23/100\n",
      "7000/7000 [==============================] - 1s 89us/step - loss: 0.3533 - accuracy: 0.8523\n",
      "Epoch 24/100\n",
      "7000/7000 [==============================] - 1s 90us/step - loss: 0.3568 - accuracy: 0.8499\n",
      "Epoch 25/100\n",
      "7000/7000 [==============================] - 1s 87us/step - loss: 0.3545 - accuracy: 0.8494\n",
      "Epoch 26/100\n",
      "7000/7000 [==============================] - 1s 92us/step - loss: 0.3531 - accuracy: 0.8529\n",
      "Epoch 27/100\n",
      "7000/7000 [==============================] - 1s 92us/step - loss: 0.3501 - accuracy: 0.8511\n",
      "Epoch 28/100\n",
      "7000/7000 [==============================] - 1s 91us/step - loss: 0.3575 - accuracy: 0.8519\n",
      "Epoch 29/100\n",
      "7000/7000 [==============================] - 1s 90us/step - loss: 0.3659 - accuracy: 0.8367\n",
      "Epoch 30/100\n",
      "7000/7000 [==============================] - 1s 91us/step - loss: 0.3481 - accuracy: 0.8521\n",
      "Epoch 31/100\n",
      "7000/7000 [==============================] - 1s 90us/step - loss: 0.3468 - accuracy: 0.8510\n",
      "Epoch 32/100\n",
      "7000/7000 [==============================] - 1s 91us/step - loss: 0.3515 - accuracy: 0.8533\n",
      "Epoch 33/100\n",
      "7000/7000 [==============================] - 1s 90us/step - loss: 0.3472 - accuracy: 0.8491\n",
      "Epoch 34/100\n",
      "7000/7000 [==============================] - 1s 89us/step - loss: 0.3470 - accuracy: 0.8519\n",
      "Epoch 35/100\n",
      "7000/7000 [==============================] - 1s 88us/step - loss: 0.3446 - accuracy: 0.8520\n",
      "Epoch 36/100\n",
      "7000/7000 [==============================] - 1s 89us/step - loss: 0.3448 - accuracy: 0.8509\n",
      "Epoch 37/100\n",
      "7000/7000 [==============================] - 1s 90us/step - loss: 0.3470 - accuracy: 0.8524\n",
      "Epoch 38/100\n",
      "7000/7000 [==============================] - 1s 87us/step - loss: 0.3480 - accuracy: 0.8501\n",
      "Epoch 39/100\n",
      "7000/7000 [==============================] - 1s 92us/step - loss: 0.3455 - accuracy: 0.8549\n",
      "Epoch 40/100\n",
      "7000/7000 [==============================] - 1s 92us/step - loss: 0.3469 - accuracy: 0.8504\n",
      "Epoch 41/100\n",
      "7000/7000 [==============================] - 1s 91us/step - loss: 0.3421 - accuracy: 0.8511\n",
      "Epoch 42/100\n",
      "7000/7000 [==============================] - 1s 89us/step - loss: 0.3464 - accuracy: 0.8500\n",
      "Epoch 43/100\n",
      "7000/7000 [==============================] - 1s 88us/step - loss: 0.3427 - accuracy: 0.8534\n",
      "Epoch 44/100\n",
      "7000/7000 [==============================] - 1s 88us/step - loss: 0.3547 - accuracy: 0.8509\n",
      "Epoch 45/100\n",
      "7000/7000 [==============================] - 1s 89us/step - loss: 0.3429 - accuracy: 0.8554\n",
      "Epoch 46/100\n",
      "7000/7000 [==============================] - 1s 91us/step - loss: 0.3455 - accuracy: 0.8530\n",
      "Epoch 47/100\n",
      "7000/7000 [==============================] - 1s 93us/step - loss: 0.3419 - accuracy: 0.8531\n",
      "Epoch 48/100\n",
      "7000/7000 [==============================] - 1s 93us/step - loss: 0.3394 - accuracy: 0.8527\n",
      "Epoch 49/100\n",
      "7000/7000 [==============================] - 1s 86us/step - loss: 0.3451 - accuracy: 0.8530\n",
      "Epoch 50/100\n",
      "7000/7000 [==============================] - 1s 83us/step - loss: 0.3418 - accuracy: 0.8504\n",
      "Epoch 51/100\n",
      "7000/7000 [==============================] - 1s 87us/step - loss: 0.3419 - accuracy: 0.8541\n",
      "Epoch 52/100\n",
      "7000/7000 [==============================] - 1s 85us/step - loss: 0.3394 - accuracy: 0.8544\n",
      "Epoch 53/100\n",
      "7000/7000 [==============================] - 1s 83us/step - loss: 0.3401 - accuracy: 0.8533\n",
      "Epoch 54/100\n",
      "7000/7000 [==============================] - 1s 82us/step - loss: 0.3400 - accuracy: 0.8524\n",
      "Epoch 55/100\n",
      "7000/7000 [==============================] - 1s 86us/step - loss: 0.3384 - accuracy: 0.8537\n",
      "Epoch 56/100\n",
      "7000/7000 [==============================] - 1s 86us/step - loss: 0.3393 - accuracy: 0.8544\n",
      "Epoch 57/100\n",
      "7000/7000 [==============================] - 1s 86us/step - loss: 0.3392 - accuracy: 0.8511\n",
      "Epoch 58/100\n",
      "7000/7000 [==============================] - 1s 84us/step - loss: 0.3385 - accuracy: 0.8550\n",
      "Epoch 59/100\n",
      "7000/7000 [==============================] - 1s 86us/step - loss: 0.3409 - accuracy: 0.8524\n",
      "Epoch 60/100\n",
      "7000/7000 [==============================] - 1s 85us/step - loss: 0.3369 - accuracy: 0.8533\n",
      "Epoch 61/100\n",
      "7000/7000 [==============================] - 1s 84us/step - loss: 0.3372 - accuracy: 0.8530\n",
      "Epoch 62/100\n",
      "7000/7000 [==============================] - 1s 84us/step - loss: 0.3389 - accuracy: 0.8530\n",
      "Epoch 63/100\n",
      "7000/7000 [==============================] - 1s 88us/step - loss: 0.3379 - accuracy: 0.8530\n",
      "Epoch 64/100\n",
      "7000/7000 [==============================] - 1s 85us/step - loss: 0.3383 - accuracy: 0.8523\n",
      "Epoch 65/100\n",
      "7000/7000 [==============================] - 1s 86us/step - loss: 0.3385 - accuracy: 0.8534\n",
      "Epoch 66/100\n",
      "7000/7000 [==============================] - 1s 90us/step - loss: 0.3401 - accuracy: 0.8509\n",
      "Epoch 67/100\n",
      "7000/7000 [==============================] - 1s 86us/step - loss: 0.3355 - accuracy: 0.8519\n",
      "Epoch 68/100\n",
      "7000/7000 [==============================] - 1s 83us/step - loss: 0.3349 - accuracy: 0.8531\n",
      "Epoch 69/100\n",
      "7000/7000 [==============================] - 1s 84us/step - loss: 0.3390 - accuracy: 0.8533\n",
      "Epoch 70/100\n",
      "7000/7000 [==============================] - 1s 85us/step - loss: 0.3356 - accuracy: 0.8506\n",
      "Epoch 71/100\n",
      "7000/7000 [==============================] - 1s 88us/step - loss: 0.3356 - accuracy: 0.8534\n",
      "Epoch 72/100\n",
      "7000/7000 [==============================] - 1s 85us/step - loss: 0.3365 - accuracy: 0.8519\n",
      "Epoch 73/100\n"
     ]
    },
    {
     "name": "stdout",
     "output_type": "stream",
     "text": [
      "7000/7000 [==============================] - 1s 88us/step - loss: 0.3373 - accuracy: 0.8544\n",
      "Epoch 74/100\n",
      "7000/7000 [==============================] - 1s 85us/step - loss: 0.3401 - accuracy: 0.8523\n",
      "Epoch 75/100\n",
      "7000/7000 [==============================] - 1s 89us/step - loss: 0.3377 - accuracy: 0.8526\n",
      "Epoch 76/100\n",
      "7000/7000 [==============================] - 1s 90us/step - loss: 0.3341 - accuracy: 0.8533\n",
      "Epoch 77/100\n",
      "7000/7000 [==============================] - 1s 88us/step - loss: 0.3336 - accuracy: 0.8533\n",
      "Epoch 78/100\n",
      "7000/7000 [==============================] - 1s 86us/step - loss: 0.3334 - accuracy: 0.8524\n",
      "Epoch 79/100\n",
      "7000/7000 [==============================] - 1s 86us/step - loss: 0.3326 - accuracy: 0.8527\n",
      "Epoch 80/100\n",
      "7000/7000 [==============================] - 1s 85us/step - loss: 0.3344 - accuracy: 0.8530\n",
      "Epoch 81/100\n",
      "7000/7000 [==============================] - 1s 90us/step - loss: 0.3317 - accuracy: 0.8531\n",
      "Epoch 82/100\n",
      "7000/7000 [==============================] - 1s 88us/step - loss: 0.3337 - accuracy: 0.8527\n",
      "Epoch 83/100\n",
      "7000/7000 [==============================] - 1s 87us/step - loss: 0.3323 - accuracy: 0.8546\n",
      "Epoch 84/100\n",
      "7000/7000 [==============================] - 1s 89us/step - loss: 0.3302 - accuracy: 0.8543\n",
      "Epoch 85/100\n",
      "7000/7000 [==============================] - 1s 90us/step - loss: 0.3301 - accuracy: 0.8536\n",
      "Epoch 86/100\n",
      "7000/7000 [==============================] - 1s 90us/step - loss: 0.3370 - accuracy: 0.8557\n",
      "Epoch 87/100\n",
      "7000/7000 [==============================] - 1s 90us/step - loss: 0.3341 - accuracy: 0.8539\n",
      "Epoch 88/100\n",
      "7000/7000 [==============================] - 1s 92us/step - loss: 0.3629 - accuracy: 0.8559\n",
      "Epoch 89/100\n",
      "7000/7000 [==============================] - 1s 88us/step - loss: 0.3506 - accuracy: 0.8536\n",
      "Epoch 90/100\n",
      "7000/7000 [==============================] - 1s 90us/step - loss: 0.3388 - accuracy: 0.8551\n",
      "Epoch 91/100\n",
      "7000/7000 [==============================] - 1s 91us/step - loss: 0.3348 - accuracy: 0.8560\n",
      "Epoch 92/100\n",
      "7000/7000 [==============================] - 1s 89us/step - loss: 0.3309 - accuracy: 0.8564\n",
      "Epoch 93/100\n",
      "7000/7000 [==============================] - 1s 90us/step - loss: 0.3298 - accuracy: 0.8533\n",
      "Epoch 94/100\n",
      "7000/7000 [==============================] - 1s 88us/step - loss: 0.3304 - accuracy: 0.8527\n",
      "Epoch 95/100\n",
      "7000/7000 [==============================] - 1s 91us/step - loss: 0.3296 - accuracy: 0.8546\n",
      "Epoch 96/100\n",
      "7000/7000 [==============================] - 1s 89us/step - loss: 0.3423 - accuracy: 0.8529\n",
      "Epoch 97/100\n",
      "7000/7000 [==============================] - 1s 88us/step - loss: 0.3312 - accuracy: 0.8531\n",
      "Epoch 98/100\n",
      "7000/7000 [==============================] - 1s 87us/step - loss: 0.3293 - accuracy: 0.8577\n",
      "Epoch 99/100\n",
      "7000/7000 [==============================] - 1s 89us/step - loss: 0.3283 - accuracy: 0.8559\n",
      "Epoch 100/100\n",
      "7000/7000 [==============================] - 1s 90us/step - loss: 0.3280 - accuracy: 0.8571\n"
     ]
    },
    {
     "data": {
      "text/plain": [
       "<keras.callbacks.callbacks.History at 0x7f82cea6f630>"
      ]
     },
     "execution_count": 14,
     "metadata": {},
     "output_type": "execute_result"
    }
   ],
   "source": [
    "classifier.fit(train_X,train_Y,batch_size = 10,nb_epoch=100)"
   ]
  },
  {
   "cell_type": "code",
   "execution_count": 32,
   "metadata": {},
   "outputs": [],
   "source": [
    "# predicting values of test data set and storing\n",
    "test_prediction = (classifier.predict(test_X)>0.5)\n",
    "\n",
    "# predicting values of train data set and storing\n",
    "train_prediction = (classifier.predict(train_X)>0.5)"
   ]
  },
  {
   "cell_type": "code",
   "execution_count": 33,
   "metadata": {},
   "outputs": [
    {
     "data": {
      "text/plain": [
       "array([[2255,  298],\n",
       "       [ 124,  323]])"
      ]
     },
     "execution_count": 33,
     "metadata": {},
     "output_type": "execute_result"
    }
   ],
   "source": [
    "confusion_matrix(test_prediction,test_Y)"
   ]
  },
  {
   "cell_type": "code",
   "execution_count": 31,
   "metadata": {},
   "outputs": [
    {
     "data": {
      "text/plain": [
       "array([[5538,  930],\n",
       "       [  46,  486]])"
      ]
     },
     "execution_count": 31,
     "metadata": {},
     "output_type": "execute_result"
    }
   ],
   "source": [
    "confusion_matrix(train_prediction,train_Y)"
   ]
  },
  {
   "cell_type": "code",
   "execution_count": 18,
   "metadata": {},
   "outputs": [
    {
     "name": "stdout",
     "output_type": "stream",
     "text": [
      "accuracy percentage  :  86.91428571428571\n"
     ]
    }
   ],
   "source": [
    "# calculating and printing accuracy score\n",
    "score=accuracy_score(train_Y,train_prediction)\n",
    "print(\"accuracy percentage  : \",score*100)"
   ]
  },
  {
   "cell_type": "code",
   "execution_count": 19,
   "metadata": {},
   "outputs": [
    {
     "name": "stdout",
     "output_type": "stream",
     "text": [
      "accuracy percentage  :  85.93333333333332\n"
     ]
    }
   ],
   "source": [
    "score=accuracy_score(test_Y,test_prediction)\n",
    "print(\"accuracy percentage  : \",score*100)"
   ]
  },
  {
   "cell_type": "code",
   "execution_count": 28,
   "metadata": {},
   "outputs": [
    {
     "name": "stdout",
     "output_type": "stream",
     "text": [
      "3000/3000 [==============================] - 0s 11us/step\n"
     ]
    },
    {
     "data": {
      "text/plain": [
       "[0.37199265400568643, 0.8420000076293945]"
      ]
     },
     "execution_count": 28,
     "metadata": {},
     "output_type": "execute_result"
    }
   ],
   "source": [
    "classifier.evaluate(test_X, test_Y, batch_size=128)"
   ]
  }
 ],
 "metadata": {
  "kernelspec": {
   "display_name": "Python 3",
   "language": "python",
   "name": "python3"
  },
  "language_info": {
   "codemirror_mode": {
    "name": "ipython",
    "version": 3
   },
   "file_extension": ".py",
   "mimetype": "text/x-python",
   "name": "python",
   "nbconvert_exporter": "python",
   "pygments_lexer": "ipython3",
   "version": "3.6.9"
  }
 },
 "nbformat": 4,
 "nbformat_minor": 2
}
