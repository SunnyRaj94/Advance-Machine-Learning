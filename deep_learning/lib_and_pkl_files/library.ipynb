{
 "cells": [
  {
   "cell_type": "markdown",
   "metadata": {},
   "source": [
    "# My functions library for re-used functions"
   ]
  },
  {
   "cell_type": "code",
   "execution_count": 1,
   "metadata": {},
   "outputs": [],
   "source": [
    "#importing pandas \n",
    "import pandas as pd\n",
    "#importing numpy\n",
    "import numpy as np\n",
    "from sklearn.preprocessing import OneHotEncoder\n",
    "from sklearn.preprocessing import StandardScaler"
   ]
  },
  {
   "cell_type": "markdown",
   "metadata": {},
   "source": [
    "##### method returns x and y values after pre-processing the bank dat set "
   ]
  },
  {
   "cell_type": "code",
   "execution_count": 2,
   "metadata": {},
   "outputs": [],
   "source": [
    "def pre_processing_bank_data(data_set,one_hot_encoder,std_scalar,flag=True):\n",
    "    x_values=data_set[['CreditScore','Age','Tenure', 'Balance', 'NumOfProducts', 'HasCrCard','IsActiveMember', 'EstimatedSalary',]].values\n",
    "    y_values=data_set['Exited'].values\n",
    "    if flag !=True:\n",
    "        one_hot_encoded_column=one_hot_encoder.fit_transform(data_set[['Geography','Gender']]).todense()\n",
    "    else:\n",
    "        one_hot_encoded_column=one_hot_encoder.transform(data_set[['Geography','Gender']]).todense()\n",
    "    x_values=np.append(x_values,one_hot_encoded_column,axis=1)\n",
    "    if flag !=True:\n",
    "        x_values = std_scalar.fit_transform(x_values)\n",
    "    else:\n",
    "        x_values=std_scalar.transform(x_values)\n",
    "    return x_values,y_values,one_hot_encoder,std_scalar  "
   ]
  }
 ],
 "metadata": {
  "kernelspec": {
   "display_name": "Python 3",
   "language": "python",
   "name": "python3"
  },
  "language_info": {
   "codemirror_mode": {
    "name": "ipython",
    "version": 3
   },
   "file_extension": ".py",
   "mimetype": "text/x-python",
   "name": "python",
   "nbconvert_exporter": "python",
   "pygments_lexer": "ipython3",
   "version": "3.6.9"
  }
 },
 "nbformat": 4,
 "nbformat_minor": 2
}
